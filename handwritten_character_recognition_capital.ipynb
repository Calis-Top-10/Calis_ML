{
  "nbformat": 4,
  "nbformat_minor": 0,
  "metadata": {
    "colab": {
      "provenance": [],
      "gpuType": "T4"
    },
    "kernelspec": {
      "name": "python3",
      "display_name": "Python 3"
    },
    "language_info": {
      "name": "python"
    },
    "accelerator": "GPU"
  },
  "cells": [
    {
      "cell_type": "markdown",
      "source": [
        "# Import Library"
      ],
      "metadata": {
        "id": "PQsmD26v2tyB"
      }
    },
    {
      "cell_type": "code",
      "execution_count": 1,
      "metadata": {
        "id": "8nqZNtNN2svl"
      },
      "outputs": [],
      "source": [
        "import os\n",
        "import tensorflow as tf\n",
        "import shutil\n",
        "import matplotlib.pyplot as plt\n",
        "import cv2\n",
        "import glob\n",
        "import shutil\n",
        "\n",
        "from tensorflow.keras.preprocessing.image import ImageDataGenerator"
      ]
    },
    {
      "cell_type": "markdown",
      "source": [
        "# Download Dataset"
      ],
      "metadata": {
        "id": "z2FvBtuN25t3"
      }
    },
    {
      "cell_type": "code",
      "source": [
        "# Base dataset\n",
        "!gdown 1EOnvYEpS7vGPaj196x7ozxP41mSJ-ZJk\n",
        "# New dataset\n",
        "!gdown 1XsqlO58Wk5VbxSDC1LSgsaLVI0dWxZh9\n",
        "# Very new dataset\n",
        "!gdown 1iwCF7vIpiOj75IhnZzszpNZb7AoewYtB"
      ],
      "metadata": {
        "colab": {
          "base_uri": "https://localhost:8080/"
        },
        "id": "68MN3rQ129Jc",
        "outputId": "e78c0c25-14c4-4897-e60f-1f7761f16276"
      },
      "execution_count": 2,
      "outputs": [
        {
          "output_type": "stream",
          "name": "stdout",
          "text": [
            "Downloading...\n",
            "From: https://drive.google.com/uc?id=1EOnvYEpS7vGPaj196x7ozxP41mSJ-ZJk\n",
            "To: /content/datasetBackgroundPutihMerge.zip\n",
            "100% 3.57G/3.57G [00:42<00:00, 84.4MB/s]\n",
            "Downloading...\n",
            "From: https://drive.google.com/uc?id=1XsqlO58Wk5VbxSDC1LSgsaLVI0dWxZh9\n",
            "To: /content/handwrittenDatasetNew.zip\n",
            "100% 3.80M/3.80M [00:00<00:00, 282MB/s]\n",
            "Downloading...\n",
            "From: https://drive.google.com/uc?id=1iwCF7vIpiOj75IhnZzszpNZb7AoewYtB\n",
            "To: /content/handwrittenDatasetVeryNew.zip\n",
            "100% 9.67M/9.67M [00:00<00:00, 56.1MB/s]\n"
          ]
        }
      ]
    },
    {
      "cell_type": "code",
      "source": [
        "!unzip -q /content/datasetBackgroundPutihMerge.zip\n",
        "!unzip -q /content/handwrittenDatasetNew.zip\n",
        "!unzip -q /content/handwrittenDatasetVeryNew.zip\n",
        "\n",
        "DATASET_DIRECTORY = \"datasetBackgroundPutihMerge/\"\n",
        "NEW_DATASET_DIRECTORY = \"handwrittenDatasetNew/\"\n",
        "VERY_NEW_DATASET_DIRECTORY = \"handwrittenDatasetVeryNew/\""
      ],
      "metadata": {
        "id": "C4gXYaUK3m0i"
      },
      "execution_count": 5,
      "outputs": []
    },
    {
      "cell_type": "code",
      "source": [
        "# Remove corrupt files\n",
        "\n",
        "filenames = [\n",
        "    \"dataset/test/O/001394.png\",\n",
        "    \"dataset/test/O/001397.png\",\n",
        "    \"dataset/test/O/001396.png\",\n",
        "    \"dataset/test/O/000892.png\",\n",
        "    \"dataset/train/6/011900.png\",\n",
        "    \"dataset/train/6/011898.png\",\n",
        "    \"dataset/train/F/005780.png\",\n",
        "    \"dataset/train/9/010953.png\",\n",
        "    \"dataset/train/9/010954.png\",\n",
        "    \"dataset/validation/1/003231.png\",\n",
        "    \"dataset/validation/1/002816.png\"\n",
        "]\n",
        "\n",
        "for filename in filenames:\n",
        "  filepath = DATASET_DIRECTORY + filename\n",
        "  os.remove(filepath)\n",
        "\n",
        "\n",
        "# Code for removing corrupt files\n",
        "# import glob\n",
        "# import os\n",
        "\n",
        "# from PIL import Image\n",
        "\n",
        "# def is_image_corrupt(file_path):\n",
        "#     try:\n",
        "#         Image.open(file_path).verify()\n",
        "#         return False\n",
        "#     except (IOError, SyntaxError):\n",
        "#         return True\n",
        "\n",
        "\n",
        "# if __name__ == \"__main__\":\n",
        "#     png_filenames = glob.glob(\"**/**.png\", recursive=True)\n",
        "#     for filename in png_filenames:\n",
        "#         if not is_image_corrupt(filename):\n",
        "#             continue\n",
        "\n",
        "#         os.remove(filename)\n",
        "#         print(f\"Deleted corrupt image: {filename}\")"
      ],
      "metadata": {
        "id": "6i9gCFob4rEY"
      },
      "execution_count": 6,
      "outputs": []
    },
    {
      "cell_type": "code",
      "source": [
        "# How many images for each class to be moved into the base dataset validation\n",
        "# the rest will be moved into the base dataset training set\n",
        "NEW_DATASET_VALIDATION_MOVE_SUM = 1\n",
        "\n",
        "# Move some of the new data to base dataset\n",
        "for class_name in os.listdir(NEW_DATASET_DIRECTORY):\n",
        "  # class_name is the A, B, C, etc...\n",
        "  validation_move_sum = 0\n",
        "  for filepath in glob.glob(os.path.join(NEW_DATASET_DIRECTORY, class_name, '*.png')):\n",
        "    if validation_move_sum < NEW_DATASET_VALIDATION_MOVE_SUM:\n",
        "      # Essentially we don't move anything out of the directory, because this directory\n",
        "      # is used as the validation directory\n",
        "      validation_move_sum += 1\n",
        "      continue\n",
        "    shutil.move(filepath, os.path.join(DATASET_DIRECTORY, \"dataset\", \"train\", class_name))"
      ],
      "metadata": {
        "id": "qf-gcYDpL4xi"
      },
      "execution_count": 7,
      "outputs": []
    },
    {
      "cell_type": "code",
      "source": [
        "# Base dataset\n",
        "# It contains dataset from kaggle and the data that's made by us\n",
        "\n",
        "# Split dataset between digits, small alphabet, and capital alphabet\n",
        "DATASET_SMALL_DIR = \"datasetSmall\"\n",
        "DATASET_CAPITAL_DIR = \"datasetCapital\"\n",
        "DATASET_DIGIT_DIR = \"datasetDigit\"\n",
        "\n",
        "for class_name in os.listdir(os.path.join(DATASET_DIRECTORY, \"dataset\", \"train\")):\n",
        "  if class_name.isupper():\n",
        "    dest_fpath = os.path.join(DATASET_CAPITAL_DIR, \"train\", class_name)\n",
        "  elif class_name.islower():\n",
        "    dest_fpath = os.path.join(DATASET_SMALL_DIR, \"train\", class_name)\n",
        "  elif class_name.isdigit():\n",
        "    dest_fpath = os.path.join(DATASET_DIGIT_DIR, \"train\", class_name)\n",
        "\n",
        "  os.makedirs(os.path.dirname(dest_fpath), exist_ok=True)\n",
        "  shutil.move(os.path.join(DATASET_DIRECTORY, \"dataset\", \"train\", class_name), dest_fpath)\n",
        "\n",
        "for class_name in os.listdir(NEW_DATASET_DIRECTORY):\n",
        "  if class_name.isupper():\n",
        "    dest_fpath = os.path.join(DATASET_CAPITAL_DIR, \"validation\", class_name)\n",
        "  elif class_name.islower():\n",
        "    dest_fpath = os.path.join(DATASET_SMALL_DIR, \"validation\", class_name)\n",
        "  elif class_name.isdigit():\n",
        "    dest_fpath = os.path.join(DATASET_DIGIT_DIR, \"validation\", class_name)\n",
        "\n",
        "  os.makedirs(os.path.dirname(dest_fpath), exist_ok=True)\n",
        "  shutil.move(os.path.join(NEW_DATASET_DIRECTORY, class_name), dest_fpath)"
      ],
      "metadata": {
        "id": "F6mYge_vR_TQ"
      },
      "execution_count": 8,
      "outputs": []
    },
    {
      "cell_type": "code",
      "source": [
        "# Create dataset for transfer learning\n",
        "DATASET_TRANSFER_LEARNING_SMALL = \"datasetSmallOnlyNew\"\n",
        "DATASET_TRANSFER_LEARNING_CAPITAL = \"datasetCapitalOnlyNew\"\n",
        "DATASET_TRANSFER_LEARNING_DIGIT = \"datasetDigitOnlyNew\"\n",
        "\n",
        "for class_name in os.listdir(NEW_DATASET_DIRECTORY):\n",
        "  if class_name.isupper():\n",
        "    dest_fpath = os.path.join(DATASET_TRANSFER_LEARNING_CAPITAL, \"training\", class_name)\n",
        "  elif class_name.islower():\n",
        "    dest_fpath = os.path.join(DATASET_TRANSFER_LEARNING_SMALL, \"training\", class_name)\n",
        "  elif class_name.isdigit():\n",
        "    dest_fpath = os.path.join(DATASET_TRANSFER_LEARNING_DIGIT, \"training\", class_name)\n",
        "\n",
        "  os.makedirs(os.path.dirname(dest_fpath), exist_ok=True)\n",
        "  shutil.move(os.path.join(NEW_DATASET_DIRECTORY, class_name), dest_fpath)"
      ],
      "metadata": {
        "id": "sg_fSy5zQ2Es"
      },
      "execution_count": 9,
      "outputs": []
    },
    {
      "cell_type": "code",
      "source": [
        "def split_char_dataset_into_its_dirs(source_dir, capital_dir, small_dir, digit_dir, subdir=\"training\"):\n",
        "  # TODO: Refactor above cells to use this function instead\n",
        "  for class_name in os.listdir(source_dir):\n",
        "    if class_name.isupper():\n",
        "      dest_fpath = os.path.join(capital_dir, subdir, class_name)\n",
        "    elif class_name.islower():\n",
        "      dest_fpath = os.path.join(small_dir, subdir, class_name)\n",
        "    elif class_name.isdigit():\n",
        "      dest_fpath = os.path.join(digit_dir, subdir, class_name)\n",
        "    print(dest_fpath)\n",
        "    os.makedirs(os.path.dirname(dest_fpath), exist_ok=True)\n",
        "    shutil.move(os.path.join(source_dir, class_name), dest_fpath)"
      ],
      "metadata": {
        "id": "IlF1ygqORyYp"
      },
      "execution_count": 10,
      "outputs": []
    },
    {
      "cell_type": "code",
      "source": [
        "split_char_dataset_into_its_dirs(\n",
        "    source_dir=VERY_NEW_DATASET_DIRECTORY,\n",
        "    capital_dir=DATASET_TRANSFER_LEARNING_CAPITAL,\n",
        "    small_dir=DATASET_TRANSFER_LEARNING_SMALL,\n",
        "    digit_dir=DATASET_TRANSFER_LEARNING_DIGIT,\n",
        "    subdir=\"training\"\n",
        "    )"
      ],
      "metadata": {
        "id": "J32AzKvhVaKr",
        "colab": {
          "base_uri": "https://localhost:8080/"
        },
        "outputId": "edf47925-b80b-4115-95a7-ff70b0ef0b82"
      },
      "execution_count": 11,
      "outputs": [
        {
          "output_type": "stream",
          "name": "stdout",
          "text": [
            "datasetCapitalOnlyNew/training/P\n",
            "datasetSmallOnlyNew/training/y\n",
            "datasetSmallOnlyNew/training/g\n",
            "datasetCapitalOnlyNew/training/Z\n",
            "datasetSmallOnlyNew/training/u\n",
            "datasetCapitalOnlyNew/training/M\n",
            "datasetSmallOnlyNew/training/l\n",
            "datasetSmallOnlyNew/training/i\n",
            "datasetCapitalOnlyNew/training/S\n",
            "datasetCapitalOnlyNew/training/H\n",
            "datasetCapitalOnlyNew/training/O\n",
            "datasetCapitalOnlyNew/training/K\n",
            "datasetCapitalOnlyNew/training/F\n",
            "datasetSmallOnlyNew/training/x\n",
            "datasetSmallOnlyNew/training/o\n",
            "datasetCapitalOnlyNew/training/I\n",
            "datasetSmallOnlyNew/training/f\n",
            "datasetSmallOnlyNew/training/w\n",
            "datasetCapitalOnlyNew/training/L\n",
            "datasetSmallOnlyNew/training/r\n",
            "datasetCapitalOnlyNew/training/A\n",
            "datasetDigitOnlyNew/training/8\n",
            "datasetDigitOnlyNew/training/5\n",
            "datasetCapitalOnlyNew/training/T\n",
            "datasetDigitOnlyNew/training/3\n",
            "datasetCapitalOnlyNew/training/U\n",
            "datasetDigitOnlyNew/training/1\n",
            "datasetDigitOnlyNew/training/2\n",
            "datasetCapitalOnlyNew/training/Y\n",
            "datasetDigitOnlyNew/training/7\n",
            "datasetSmallOnlyNew/training/h\n",
            "datasetDigitOnlyNew/training/9\n",
            "datasetCapitalOnlyNew/training/W\n",
            "datasetSmallOnlyNew/training/t\n",
            "datasetSmallOnlyNew/training/v\n",
            "datasetSmallOnlyNew/training/s\n",
            "datasetSmallOnlyNew/training/z\n",
            "datasetSmallOnlyNew/training/e\n",
            "datasetSmallOnlyNew/training/m\n",
            "datasetSmallOnlyNew/training/b\n",
            "datasetCapitalOnlyNew/training/X\n",
            "datasetCapitalOnlyNew/training/V\n",
            "datasetCapitalOnlyNew/training/G\n",
            "datasetCapitalOnlyNew/training/R\n",
            "datasetCapitalOnlyNew/training/C\n",
            "datasetCapitalOnlyNew/training/D\n",
            "datasetSmallOnlyNew/training/p\n",
            "datasetDigitOnlyNew/training/6\n",
            "datasetCapitalOnlyNew/training/E\n",
            "datasetSmallOnlyNew/training/q\n",
            "datasetSmallOnlyNew/training/k\n",
            "datasetSmallOnlyNew/training/c\n",
            "datasetSmallOnlyNew/training/n\n",
            "datasetDigitOnlyNew/training/4\n",
            "datasetDigitOnlyNew/training/0\n",
            "datasetCapitalOnlyNew/training/J\n",
            "datasetSmallOnlyNew/training/d\n",
            "datasetSmallOnlyNew/training/a\n",
            "datasetCapitalOnlyNew/training/Q\n",
            "datasetCapitalOnlyNew/training/N\n",
            "datasetSmallOnlyNew/training/j\n",
            "datasetCapitalOnlyNew/training/B\n"
          ]
        }
      ]
    },
    {
      "cell_type": "markdown",
      "source": [
        "# Train Set"
      ],
      "metadata": {
        "id": "buJskY7OZIsH"
      }
    },
    {
      "cell_type": "code",
      "source": [
        "train_datagen = ImageDataGenerator(\n",
        "    rescale = 1./255,\n",
        "    )\n",
        "\n",
        "train_generator = train_datagen.flow_from_directory(\n",
        "    # TODO: Ganti directory ke dir dataset\n",
        "    directory=os.path.join(DATASET_CAPITAL_DIR, \"train\"),\n",
        "    target_size=(300, 300),\n",
        "    class_mode='categorical',\n",
        "    batch_size=126,\n",
        "    color_mode='grayscale',\n",
        ")"
      ],
      "metadata": {
        "colab": {
          "base_uri": "https://localhost:8080/"
        },
        "id": "LKu6eBC1ZM44",
        "outputId": "fe2aa998-9a1a-41ed-80b1-a3619ea9e991"
      },
      "execution_count": 13,
      "outputs": [
        {
          "output_type": "stream",
          "name": "stdout",
          "text": [
            "Found 150538 images belonging to 26 classes.\n"
          ]
        }
      ]
    },
    {
      "cell_type": "markdown",
      "source": [
        "# Validation Set"
      ],
      "metadata": {
        "id": "gnyffMtIZZpd"
      }
    },
    {
      "cell_type": "code",
      "source": [
        "validation_datagen = ImageDataGenerator(rescale = 1./255)\n",
        "\n",
        "validation_generator = validation_datagen.flow_from_directory(\n",
        "\t# TODO: Sesuaikan directory\n",
        "\tdirectory=os.path.join(DATASET_CAPITAL_DIR, \"validation\"),\n",
        "\ttarget_size=(300,300),\n",
        "\tclass_mode='categorical',\n",
        "\tbatch_size=126,\n",
        "\tcolor_mode='grayscale',\n",
        ")"
      ],
      "metadata": {
        "colab": {
          "base_uri": "https://localhost:8080/"
        },
        "id": "OcOWdl4KZdq8",
        "outputId": "cd2135d4-f2d0-4407-bfdf-b9e0f3fc44f6"
      },
      "execution_count": 14,
      "outputs": [
        {
          "output_type": "stream",
          "name": "stdout",
          "text": [
            "Found 26 images belonging to 26 classes.\n"
          ]
        }
      ]
    },
    {
      "cell_type": "markdown",
      "source": [
        "# Build Model"
      ],
      "metadata": {
        "id": "yRSeD80WZokD"
      }
    },
    {
      "cell_type": "code",
      "source": [
        "model = tf.keras.models.Sequential([\n",
        "    #input shape is the desired size of the image 300x300 with 3 bytes color\n",
        "    # This is the first convolution\n",
        "    tf.keras.layers.Conv2D(16, (3,3), activation='relu', input_shape=(300, 300, 1)),\n",
        "    tf.keras.layers.MaxPooling2D(2, 2),\n",
        "    # The second convolution\n",
        "    tf.keras.layers.Conv2D(32, (3,3), activation='relu'),\n",
        "    tf.keras.layers.MaxPooling2D(2,2),\n",
        "    # The third convolution\n",
        "    tf.keras.layers.Conv2D(64, (3,3), activation='relu'),\n",
        "    tf.keras.layers.MaxPooling2D(2,2),\n",
        "    # The fourth convolution\n",
        "    tf.keras.layers.Conv2D(64, (3,3), activation='relu'),\n",
        "    tf.keras.layers.MaxPooling2D(2,2),\n",
        "    # The fifth convolution\n",
        "    tf.keras.layers.Conv2D(64, (3,3), activation='relu'),\n",
        "    tf.keras.layers.MaxPooling2D(2,2),\n",
        "    # Flatten the results to feed into a DNN\n",
        "    tf.keras.layers.Flatten(),\n",
        "    # Dropout Layer\n",
        "    tf.keras.layers.Dropout(0.5),\n",
        "    # 512 neuron hidden layer\n",
        "    tf.keras.layers.Dense(512, activation='relu'),\n",
        "    # 62 output neuron.\n",
        "    # TODO: Ganti ke 10 buat digit\n",
        "    tf.keras.layers.Dense(26, activation='softmax')\n",
        "])\n",
        "\n",
        "model.compile(loss='categorical_crossentropy',\n",
        "              optimizer='adam',\n",
        "              metrics=['accuracy'])\n",
        "\n",
        "model.summary()"
      ],
      "metadata": {
        "colab": {
          "base_uri": "https://localhost:8080/"
        },
        "id": "-PY9-CH8Zr3V",
        "outputId": "178b46ea-a588-4492-e7f4-c049ec63b585"
      },
      "execution_count": 15,
      "outputs": [
        {
          "output_type": "stream",
          "name": "stdout",
          "text": [
            "Model: \"sequential\"\n",
            "_________________________________________________________________\n",
            " Layer (type)                Output Shape              Param #   \n",
            "=================================================================\n",
            " conv2d (Conv2D)             (None, 298, 298, 16)      160       \n",
            "                                                                 \n",
            " max_pooling2d (MaxPooling2D  (None, 149, 149, 16)     0         \n",
            " )                                                               \n",
            "                                                                 \n",
            " conv2d_1 (Conv2D)           (None, 147, 147, 32)      4640      \n",
            "                                                                 \n",
            " max_pooling2d_1 (MaxPooling  (None, 73, 73, 32)       0         \n",
            " 2D)                                                             \n",
            "                                                                 \n",
            " conv2d_2 (Conv2D)           (None, 71, 71, 64)        18496     \n",
            "                                                                 \n",
            " max_pooling2d_2 (MaxPooling  (None, 35, 35, 64)       0         \n",
            " 2D)                                                             \n",
            "                                                                 \n",
            " conv2d_3 (Conv2D)           (None, 33, 33, 64)        36928     \n",
            "                                                                 \n",
            " max_pooling2d_3 (MaxPooling  (None, 16, 16, 64)       0         \n",
            " 2D)                                                             \n",
            "                                                                 \n",
            " conv2d_4 (Conv2D)           (None, 14, 14, 64)        36928     \n",
            "                                                                 \n",
            " max_pooling2d_4 (MaxPooling  (None, 7, 7, 64)         0         \n",
            " 2D)                                                             \n",
            "                                                                 \n",
            " flatten (Flatten)           (None, 3136)              0         \n",
            "                                                                 \n",
            " dropout (Dropout)           (None, 3136)              0         \n",
            "                                                                 \n",
            " dense (Dense)               (None, 512)               1606144   \n",
            "                                                                 \n",
            " dense_1 (Dense)             (None, 26)                13338     \n",
            "                                                                 \n",
            "=================================================================\n",
            "Total params: 1,716,634\n",
            "Trainable params: 1,716,634\n",
            "Non-trainable params: 0\n",
            "_________________________________________________________________\n"
          ]
        }
      ]
    },
    {
      "cell_type": "markdown",
      "source": [
        "# Train The Model"
      ],
      "metadata": {
        "id": "jyoRzHCkZ1uP"
      }
    },
    {
      "cell_type": "code",
      "source": [
        "history = model.fit(train_generator, epochs=25, steps_per_epoch=20, validation_data=validation_generator, verbose = 1, validation_steps=1)"
      ],
      "metadata": {
        "colab": {
          "base_uri": "https://localhost:8080/"
        },
        "id": "VyUwICJQZ5db",
        "outputId": "c88fbf1c-67a2-47cf-d74e-66bf92bf0c01"
      },
      "execution_count": 16,
      "outputs": [
        {
          "output_type": "stream",
          "name": "stdout",
          "text": [
            "Epoch 1/25\n",
            "20/20 [==============================] - 24s 399ms/step - loss: 2.8359 - accuracy: 0.2071 - val_loss: 3.1981 - val_accuracy: 0.2308\n",
            "Epoch 2/25\n",
            "20/20 [==============================] - 7s 351ms/step - loss: 1.3924 - accuracy: 0.6278 - val_loss: 1.2800 - val_accuracy: 0.5769\n",
            "Epoch 3/25\n",
            "20/20 [==============================] - 7s 327ms/step - loss: 0.7841 - accuracy: 0.7853 - val_loss: 0.7762 - val_accuracy: 0.8077\n",
            "Epoch 4/25\n",
            "20/20 [==============================] - 7s 367ms/step - loss: 0.6353 - accuracy: 0.8242 - val_loss: 0.4105 - val_accuracy: 0.9615\n",
            "Epoch 5/25\n",
            "20/20 [==============================] - 7s 324ms/step - loss: 0.5312 - accuracy: 0.8488 - val_loss: 0.3688 - val_accuracy: 0.8462\n",
            "Epoch 6/25\n",
            "20/20 [==============================] - 7s 363ms/step - loss: 0.4963 - accuracy: 0.8671 - val_loss: 0.3909 - val_accuracy: 0.9615\n",
            "Epoch 7/25\n",
            "20/20 [==============================] - 7s 339ms/step - loss: 0.4423 - accuracy: 0.8778 - val_loss: 0.3148 - val_accuracy: 0.9231\n",
            "Epoch 8/25\n",
            "20/20 [==============================] - 9s 447ms/step - loss: 0.4673 - accuracy: 0.8750 - val_loss: 0.3029 - val_accuracy: 0.9231\n",
            "Epoch 9/25\n",
            "20/20 [==============================] - 7s 335ms/step - loss: 0.3741 - accuracy: 0.9024 - val_loss: 0.4234 - val_accuracy: 0.8846\n",
            "Epoch 10/25\n",
            "20/20 [==============================] - 6s 306ms/step - loss: 0.3919 - accuracy: 0.8988 - val_loss: 0.1769 - val_accuracy: 0.9231\n",
            "Epoch 11/25\n",
            "20/20 [==============================] - 7s 329ms/step - loss: 0.3522 - accuracy: 0.8988 - val_loss: 0.2084 - val_accuracy: 0.9231\n",
            "Epoch 12/25\n",
            "20/20 [==============================] - 7s 334ms/step - loss: 0.4046 - accuracy: 0.8929 - val_loss: 0.1391 - val_accuracy: 1.0000\n",
            "Epoch 13/25\n",
            "20/20 [==============================] - 6s 294ms/step - loss: 0.3523 - accuracy: 0.9032 - val_loss: 0.1292 - val_accuracy: 1.0000\n",
            "Epoch 14/25\n",
            "20/20 [==============================] - 7s 328ms/step - loss: 0.3415 - accuracy: 0.9087 - val_loss: 0.1965 - val_accuracy: 0.9231\n",
            "Epoch 15/25\n",
            "20/20 [==============================] - 6s 290ms/step - loss: 0.3459 - accuracy: 0.9123 - val_loss: 0.1086 - val_accuracy: 1.0000\n",
            "Epoch 16/25\n",
            "20/20 [==============================] - 7s 329ms/step - loss: 0.3417 - accuracy: 0.9063 - val_loss: 0.1978 - val_accuracy: 0.8846\n",
            "Epoch 17/25\n",
            "20/20 [==============================] - 6s 278ms/step - loss: 0.3481 - accuracy: 0.9075 - val_loss: 0.2516 - val_accuracy: 0.8846\n",
            "Epoch 18/25\n",
            "20/20 [==============================] - 7s 329ms/step - loss: 0.2956 - accuracy: 0.9250 - val_loss: 0.2267 - val_accuracy: 0.9231\n",
            "Epoch 19/25\n",
            "20/20 [==============================] - 6s 272ms/step - loss: 0.3565 - accuracy: 0.9024 - val_loss: 0.2789 - val_accuracy: 0.8846\n",
            "Epoch 20/25\n",
            "20/20 [==============================] - 6s 309ms/step - loss: 0.3156 - accuracy: 0.9131 - val_loss: 0.0947 - val_accuracy: 0.9615\n",
            "Epoch 21/25\n",
            "20/20 [==============================] - 6s 283ms/step - loss: 0.2825 - accuracy: 0.9202 - val_loss: 0.1817 - val_accuracy: 0.9231\n",
            "Epoch 22/25\n",
            "20/20 [==============================] - 6s 319ms/step - loss: 0.3209 - accuracy: 0.9147 - val_loss: 0.1258 - val_accuracy: 0.9615\n",
            "Epoch 23/25\n",
            "20/20 [==============================] - 5s 268ms/step - loss: 0.2972 - accuracy: 0.9187 - val_loss: 0.1731 - val_accuracy: 0.9231\n",
            "Epoch 24/25\n",
            "20/20 [==============================] - 6s 268ms/step - loss: 0.2699 - accuracy: 0.9286 - val_loss: 0.1050 - val_accuracy: 1.0000\n",
            "Epoch 25/25\n",
            "20/20 [==============================] - 6s 314ms/step - loss: 0.2674 - accuracy: 0.9302 - val_loss: 0.1627 - val_accuracy: 0.9231\n"
          ]
        }
      ]
    },
    {
      "cell_type": "markdown",
      "source": [
        "# Evaluate The Results"
      ],
      "metadata": {
        "id": "iEpLzoZHa4_g"
      }
    },
    {
      "cell_type": "code",
      "source": [
        "import matplotlib.pyplot as plt\n",
        "\n",
        "# Plot the results\n",
        "acc = history.history['accuracy']\n",
        "val_acc = history.history['val_accuracy']\n",
        "loss = history.history['loss']\n",
        "val_loss = history.history['val_loss']\n",
        "\n",
        "epochs = range(len(acc))\n",
        "\n",
        "plt.plot(epochs, acc, 'r', label='Training accuracy')\n",
        "plt.plot(epochs, val_acc, 'b', label='Validation accuracy')\n",
        "plt.title('Training and validation accuracy')\n",
        "plt.legend(loc=0)\n",
        "plt.figure()\n",
        "\n",
        "plt.show()"
      ],
      "metadata": {
        "colab": {
          "base_uri": "https://localhost:8080/",
          "height": 469
        },
        "id": "KmSaVDyRa-Wb",
        "outputId": "71f46074-e0c5-4ddb-bcda-4dedf9b70c9f"
      },
      "execution_count": 17,
      "outputs": [
        {
          "output_type": "display_data",
          "data": {
            "text/plain": [
              "<Figure size 640x480 with 1 Axes>"
            ],
            "image/png": "[encoded data removed]"
          },
          "metadata": {}
        },
        {
          "output_type": "display_data",
          "data": {
            "text/plain": [
              "<Figure size 640x480 with 0 Axes>"
            ]
          },
          "metadata": {}
        }
      ]
    },
    {
      "cell_type": "markdown",
      "source": [
        "# Transfer Learning"
      ],
      "metadata": {
        "id": "7_Rfy_9pbQd5"
      }
    },
    {
      "cell_type": "code",
      "source": [
        "def cut_model(original_model, cut_index):\n",
        "  # Assuming you have an original model with its weights named \"original_model\"\n",
        "\n",
        "  # Create a new model with the desired layers from the original model\n",
        "  cut_model = tf.keras.Model(inputs=original_model.inputs, outputs=original_model.layers[cut_index].output)\n",
        "\n",
        "  # Copy the weights from the original model to the cut model\n",
        "  for i in range(cut_index):\n",
        "      print(cut_model.layers[i])\n",
        "      print(original_model.layers[i])\n",
        "      cut_model.layers[i].set_weights(original_model.layers[i].get_weights())\n",
        "\n",
        "  return cut_model"
      ],
      "metadata": {
        "id": "xPKYhQjNbVYI"
      },
      "execution_count": 18,
      "outputs": []
    },
    {
      "cell_type": "code",
      "source": [
        "# Fine tune the last two dense relu layers with the new data\n",
        "\n",
        "# I'm using the same train_datagen, this is fine as long\n",
        "# as the options that I want to use is the same\n",
        "new_data_generator = train_datagen.flow_from_directory(\n",
        "    # TODO: Sesuaikan\n",
        "    directory=os.path.join(DATASET_TRANSFER_LEARNING_CAPITAL, \"training\"),\n",
        "    target_size=(300, 300),\n",
        "    class_mode='categorical',\n",
        "    batch_size=8,\n",
        "    color_mode='grayscale',\n",
        ")\n",
        "\n",
        "for layer in model.layers:\n",
        "  # TODO: Might be good to set the layer name other than dense\n",
        "  # \"dense\" and \"dense_1\" are the last two layers\n",
        "  if layer.name not in (\n",
        "      \"dense\",\n",
        "      \"dense_1\"):\n",
        "    layer.trainable = False\n",
        "\n",
        "# Start the fine tuning\n",
        "history = model.fit(new_data_generator, epochs=100, steps_per_epoch=4, validation_data=validation_generator, verbose = 1, validation_steps=1)"
      ],
      "metadata": {
        "colab": {
          "base_uri": "https://localhost:8080/"
        },
        "id": "sy5xvktQbbgz",
        "outputId": "92becbe6-59f3-466b-9c94-f3ebd914e600"
      },
      "execution_count": 19,
      "outputs": [
        {
          "output_type": "stream",
          "name": "stdout",
          "text": [
            "Found 521 images belonging to 26 classes.\n",
            "Epoch 1/100\n",
            "4/4 [==============================] - 1s 101ms/step - loss: 0.5520 - accuracy: 0.8125 - val_loss: 0.2320 - val_accuracy: 0.9615\n",
            "Epoch 2/100\n",
            "4/4 [==============================] - 0s 88ms/step - loss: 0.7485 - accuracy: 0.7812 - val_loss: 0.4420 - val_accuracy: 0.8462\n",
            "Epoch 3/100\n",
            "4/4 [==============================] - 0s 48ms/step - loss: 0.8808 - accuracy: 0.8125 - val_loss: 0.5048 - val_accuracy: 0.8846\n",
            "Epoch 4/100\n",
            "4/4 [==============================] - 0s 45ms/step - loss: 0.3594 - accuracy: 0.9688 - val_loss: 0.4176 - val_accuracy: 0.8846\n",
            "Epoch 5/100\n",
            "4/4 [==============================] - 0s 41ms/step - loss: 0.6634 - accuracy: 0.8125 - val_loss: 0.4365 - val_accuracy: 0.8462\n",
            "Epoch 6/100\n",
            "4/4 [==============================] - 0s 45ms/step - loss: 0.4229 - accuracy: 0.9062 - val_loss: 0.4111 - val_accuracy: 0.8846\n",
            "Epoch 7/100\n",
            "4/4 [==============================] - 0s 46ms/step - loss: 0.3388 - accuracy: 0.8750 - val_loss: 0.2638 - val_accuracy: 0.9615\n",
            "Epoch 8/100\n",
            "4/4 [==============================] - 0s 46ms/step - loss: 0.4025 - accuracy: 0.8750 - val_loss: 0.3873 - val_accuracy: 0.8846\n",
            "Epoch 9/100\n",
            "4/4 [==============================] - 0s 47ms/step - loss: 0.4527 - accuracy: 0.8438 - val_loss: 0.3426 - val_accuracy: 0.8846\n",
            "Epoch 10/100\n",
            "4/4 [==============================] - 0s 50ms/step - loss: 0.1297 - accuracy: 0.9375 - val_loss: 0.2773 - val_accuracy: 0.9231\n",
            "Epoch 11/100\n",
            "4/4 [==============================] - 0s 46ms/step - loss: 0.5244 - accuracy: 0.9375 - val_loss: 0.3048 - val_accuracy: 0.9231\n",
            "Epoch 12/100\n",
            "4/4 [==============================] - 0s 46ms/step - loss: 0.2590 - accuracy: 0.8750 - val_loss: 0.2564 - val_accuracy: 0.9615\n",
            "Epoch 13/100\n",
            "4/4 [==============================] - 0s 47ms/step - loss: 0.6229 - accuracy: 0.9375 - val_loss: 0.3198 - val_accuracy: 0.9231\n",
            "Epoch 14/100\n",
            "4/4 [==============================] - 0s 46ms/step - loss: 0.1345 - accuracy: 1.0000 - val_loss: 0.3928 - val_accuracy: 0.9231\n",
            "Epoch 15/100\n",
            "4/4 [==============================] - 0s 50ms/step - loss: 0.4952 - accuracy: 0.8750 - val_loss: 0.2203 - val_accuracy: 0.9615\n",
            "Epoch 16/100\n",
            "4/4 [==============================] - 0s 45ms/step - loss: 0.3050 - accuracy: 0.8750 - val_loss: 0.2369 - val_accuracy: 0.9231\n",
            "Epoch 17/100\n",
            "4/4 [==============================] - 0s 48ms/step - loss: 0.4798 - accuracy: 0.9375 - val_loss: 0.3415 - val_accuracy: 0.9231\n",
            "Epoch 18/100\n",
            "4/4 [==============================] - 0s 74ms/step - loss: 0.0864 - accuracy: 1.0000 - val_loss: 0.3803 - val_accuracy: 0.8846\n",
            "Epoch 19/100\n",
            "4/4 [==============================] - 0s 46ms/step - loss: 0.1114 - accuracy: 0.9688 - val_loss: 0.2971 - val_accuracy: 0.9615\n",
            "Epoch 20/100\n",
            "4/4 [==============================] - 1s 43ms/step - loss: 0.3061 - accuracy: 0.9200 - val_loss: 0.2041 - val_accuracy: 0.9231\n",
            "Epoch 21/100\n",
            "4/4 [==============================] - 0s 73ms/step - loss: 0.0337 - accuracy: 1.0000 - val_loss: 0.2305 - val_accuracy: 0.8846\n",
            "Epoch 22/100\n",
            "4/4 [==============================] - 0s 41ms/step - loss: 0.3116 - accuracy: 0.9062 - val_loss: 0.0755 - val_accuracy: 0.9615\n",
            "Epoch 23/100\n",
            "4/4 [==============================] - 0s 41ms/step - loss: 0.0141 - accuracy: 1.0000 - val_loss: 0.0362 - val_accuracy: 1.0000\n",
            "Epoch 24/100\n",
            "4/4 [==============================] - 0s 44ms/step - loss: 0.0342 - accuracy: 1.0000 - val_loss: 0.0184 - val_accuracy: 1.0000\n",
            "Epoch 25/100\n",
            "4/4 [==============================] - 0s 44ms/step - loss: 0.0395 - accuracy: 0.9688 - val_loss: 0.0122 - val_accuracy: 1.0000\n",
            "Epoch 26/100\n",
            "4/4 [==============================] - 0s 45ms/step - loss: 0.0431 - accuracy: 1.0000 - val_loss: 0.0093 - val_accuracy: 1.0000\n",
            "Epoch 27/100\n",
            "4/4 [==============================] - 0s 47ms/step - loss: 0.0316 - accuracy: 1.0000 - val_loss: 0.0126 - val_accuracy: 1.0000\n",
            "Epoch 28/100\n",
            "4/4 [==============================] - 0s 45ms/step - loss: 0.0303 - accuracy: 1.0000 - val_loss: 0.0200 - val_accuracy: 1.0000\n",
            "Epoch 29/100\n",
            "4/4 [==============================] - 0s 47ms/step - loss: 0.0162 - accuracy: 1.0000 - val_loss: 0.0330 - val_accuracy: 0.9615\n",
            "Epoch 30/100\n",
            "4/4 [==============================] - 0s 46ms/step - loss: 0.0130 - accuracy: 1.0000 - val_loss: 0.0237 - val_accuracy: 1.0000\n",
            "Epoch 31/100\n",
            "4/4 [==============================] - 0s 46ms/step - loss: 0.0747 - accuracy: 0.9688 - val_loss: 0.0161 - val_accuracy: 1.0000\n",
            "Epoch 32/100\n",
            "4/4 [==============================] - 0s 44ms/step - loss: 0.2403 - accuracy: 0.9688 - val_loss: 0.0251 - val_accuracy: 1.0000\n",
            "Epoch 33/100\n",
            "4/4 [==============================] - 0s 53ms/step - loss: 0.4546 - accuracy: 0.9062 - val_loss: 0.0228 - val_accuracy: 1.0000\n",
            "Epoch 34/100\n",
            "4/4 [==============================] - 0s 45ms/step - loss: 0.1364 - accuracy: 0.9688 - val_loss: 0.2460 - val_accuracy: 0.9615\n",
            "Epoch 35/100\n",
            "4/4 [==============================] - 0s 49ms/step - loss: 0.0762 - accuracy: 0.9688 - val_loss: 0.2510 - val_accuracy: 0.9615\n",
            "Epoch 36/100\n",
            "4/4 [==============================] - 0s 44ms/step - loss: 0.0201 - accuracy: 1.0000 - val_loss: 0.2435 - val_accuracy: 0.9615\n",
            "Epoch 37/100\n",
            "4/4 [==============================] - 0s 52ms/step - loss: 0.0304 - accuracy: 0.9688 - val_loss: 0.2720 - val_accuracy: 0.9615\n",
            "Epoch 38/100\n",
            "4/4 [==============================] - 0s 45ms/step - loss: 0.3170 - accuracy: 0.9062 - val_loss: 0.1935 - val_accuracy: 0.9615\n",
            "Epoch 39/100\n",
            "4/4 [==============================] - 0s 47ms/step - loss: 0.0274 - accuracy: 1.0000 - val_loss: 0.1522 - val_accuracy: 0.8846\n",
            "Epoch 40/100\n",
            "4/4 [==============================] - 0s 50ms/step - loss: 0.0706 - accuracy: 0.9688 - val_loss: 0.2571 - val_accuracy: 0.9231\n",
            "Epoch 41/100\n",
            "4/4 [==============================] - 0s 46ms/step - loss: 0.1561 - accuracy: 0.9688 - val_loss: 0.4158 - val_accuracy: 0.9231\n",
            "Epoch 42/100\n",
            "4/4 [==============================] - 0s 46ms/step - loss: 0.1649 - accuracy: 0.9375 - val_loss: 0.6426 - val_accuracy: 0.8846\n",
            "Epoch 43/100\n",
            "4/4 [==============================] - 0s 83ms/step - loss: 0.4027 - accuracy: 0.8750 - val_loss: 0.3125 - val_accuracy: 0.8846\n",
            "Epoch 44/100\n",
            "4/4 [==============================] - 0s 91ms/step - loss: 0.0966 - accuracy: 0.9688 - val_loss: 0.2896 - val_accuracy: 0.9231\n",
            "Epoch 45/100\n",
            "4/4 [==============================] - 0s 64ms/step - loss: 0.1262 - accuracy: 0.9200 - val_loss: 0.2313 - val_accuracy: 0.8846\n",
            "Epoch 46/100\n",
            "4/4 [==============================] - 0s 74ms/step - loss: 0.1580 - accuracy: 0.9062 - val_loss: 0.2756 - val_accuracy: 0.8846\n",
            "Epoch 47/100\n",
            "4/4 [==============================] - 0s 76ms/step - loss: 0.0624 - accuracy: 1.0000 - val_loss: 0.2312 - val_accuracy: 0.8846\n",
            "Epoch 48/100\n",
            "4/4 [==============================] - 0s 67ms/step - loss: 0.0604 - accuracy: 0.9688 - val_loss: 0.1318 - val_accuracy: 0.9231\n",
            "Epoch 49/100\n",
            "4/4 [==============================] - 0s 79ms/step - loss: 0.0243 - accuracy: 1.0000 - val_loss: 0.3093 - val_accuracy: 0.8462\n",
            "Epoch 50/100\n",
            "4/4 [==============================] - 0s 75ms/step - loss: 0.6855 - accuracy: 0.9375 - val_loss: 0.4753 - val_accuracy: 0.9231\n",
            "Epoch 51/100\n",
            "4/4 [==============================] - 0s 64ms/step - loss: 0.3360 - accuracy: 0.9200 - val_loss: 0.4844 - val_accuracy: 0.9231\n",
            "Epoch 52/100\n",
            "4/4 [==============================] - 0s 73ms/step - loss: 0.2778 - accuracy: 0.9062 - val_loss: 0.4087 - val_accuracy: 0.9231\n",
            "Epoch 53/100\n",
            "4/4 [==============================] - 0s 49ms/step - loss: 0.0473 - accuracy: 1.0000 - val_loss: 0.2675 - val_accuracy: 0.9231\n",
            "Epoch 54/100\n",
            "4/4 [==============================] - 0s 47ms/step - loss: 0.1213 - accuracy: 0.9688 - val_loss: 0.3032 - val_accuracy: 0.8846\n",
            "Epoch 55/100\n",
            "4/4 [==============================] - 0s 49ms/step - loss: 0.0261 - accuracy: 1.0000 - val_loss: 0.3798 - val_accuracy: 0.8846\n",
            "Epoch 56/100\n",
            "4/4 [==============================] - 0s 50ms/step - loss: 0.0773 - accuracy: 1.0000 - val_loss: 0.3564 - val_accuracy: 0.8462\n",
            "Epoch 57/100\n",
            "4/4 [==============================] - 0s 49ms/step - loss: 0.1422 - accuracy: 0.9688 - val_loss: 0.2376 - val_accuracy: 0.8846\n",
            "Epoch 58/100\n",
            "4/4 [==============================] - 0s 51ms/step - loss: 0.1217 - accuracy: 0.9688 - val_loss: 0.1012 - val_accuracy: 0.9231\n",
            "Epoch 59/100\n",
            "4/4 [==============================] - 0s 49ms/step - loss: 0.1510 - accuracy: 0.9688 - val_loss: 0.0714 - val_accuracy: 0.9615\n",
            "Epoch 60/100\n",
            "4/4 [==============================] - 0s 48ms/step - loss: 0.1143 - accuracy: 0.9688 - val_loss: 0.0659 - val_accuracy: 1.0000\n",
            "Epoch 61/100\n",
            "4/4 [==============================] - 0s 45ms/step - loss: 0.1173 - accuracy: 0.9688 - val_loss: 0.0988 - val_accuracy: 0.9615\n",
            "Epoch 62/100\n",
            "4/4 [==============================] - 0s 47ms/step - loss: 0.0029 - accuracy: 1.0000 - val_loss: 0.1419 - val_accuracy: 0.9615\n",
            "Epoch 63/100\n",
            "4/4 [==============================] - 0s 48ms/step - loss: 0.0504 - accuracy: 0.9688 - val_loss: 0.1589 - val_accuracy: 0.9615\n",
            "Epoch 64/100\n",
            "4/4 [==============================] - 0s 44ms/step - loss: 0.0232 - accuracy: 1.0000 - val_loss: 0.1120 - val_accuracy: 0.9615\n",
            "Epoch 65/100\n",
            "4/4 [==============================] - 0s 48ms/step - loss: 0.0586 - accuracy: 0.9688 - val_loss: 0.0861 - val_accuracy: 0.9615\n",
            "Epoch 66/100\n",
            "4/4 [==============================] - 0s 48ms/step - loss: 0.0987 - accuracy: 0.9688 - val_loss: 0.2129 - val_accuracy: 0.9231\n",
            "Epoch 67/100\n",
            "4/4 [==============================] - 0s 47ms/step - loss: 0.0390 - accuracy: 1.0000 - val_loss: 0.3411 - val_accuracy: 0.9231\n",
            "Epoch 68/100\n",
            "4/4 [==============================] - 0s 50ms/step - loss: 0.0173 - accuracy: 1.0000 - val_loss: 0.4435 - val_accuracy: 0.9231\n",
            "Epoch 69/100\n",
            "4/4 [==============================] - 0s 46ms/step - loss: 0.0623 - accuracy: 0.9688 - val_loss: 0.4555 - val_accuracy: 0.9231\n",
            "Epoch 70/100\n",
            "4/4 [==============================] - 0s 46ms/step - loss: 0.0112 - accuracy: 1.0000 - val_loss: 0.4121 - val_accuracy: 0.9231\n",
            "Epoch 71/100\n",
            "4/4 [==============================] - 0s 48ms/step - loss: 0.0155 - accuracy: 1.0000 - val_loss: 0.3950 - val_accuracy: 0.9231\n",
            "Epoch 72/100\n",
            "4/4 [==============================] - 0s 50ms/step - loss: 0.0021 - accuracy: 1.0000 - val_loss: 0.3945 - val_accuracy: 0.9231\n",
            "Epoch 73/100\n",
            "4/4 [==============================] - 0s 45ms/step - loss: 0.0037 - accuracy: 1.0000 - val_loss: 0.3998 - val_accuracy: 0.9231\n",
            "Epoch 74/100\n",
            "4/4 [==============================] - 0s 45ms/step - loss: 0.0064 - accuracy: 1.0000 - val_loss: 0.3978 - val_accuracy: 0.9231\n",
            "Epoch 75/100\n",
            "4/4 [==============================] - 0s 47ms/step - loss: 0.0547 - accuracy: 0.9688 - val_loss: 0.4085 - val_accuracy: 0.9231\n",
            "Epoch 76/100\n",
            "4/4 [==============================] - 0s 48ms/step - loss: 0.0021 - accuracy: 1.0000 - val_loss: 0.4330 - val_accuracy: 0.9231\n",
            "Epoch 77/100\n",
            "4/4 [==============================] - 0s 48ms/step - loss: 0.0119 - accuracy: 1.0000 - val_loss: 0.4566 - val_accuracy: 0.9231\n",
            "Epoch 78/100\n",
            "4/4 [==============================] - 0s 77ms/step - loss: 0.0038 - accuracy: 1.0000 - val_loss: 0.4767 - val_accuracy: 0.9231\n",
            "Epoch 79/100\n",
            "4/4 [==============================] - 0s 48ms/step - loss: 1.5871e-04 - accuracy: 1.0000 - val_loss: 0.4910 - val_accuracy: 0.9231\n",
            "Epoch 80/100\n",
            "4/4 [==============================] - 0s 54ms/step - loss: 6.9389e-04 - accuracy: 1.0000 - val_loss: 0.5008 - val_accuracy: 0.9231\n",
            "Epoch 81/100\n",
            "4/4 [==============================] - 0s 47ms/step - loss: 4.3159e-04 - accuracy: 1.0000 - val_loss: 0.5046 - val_accuracy: 0.9231\n",
            "Epoch 82/100\n",
            "4/4 [==============================] - 0s 47ms/step - loss: 0.0117 - accuracy: 1.0000 - val_loss: 0.5109 - val_accuracy: 0.9231\n",
            "Epoch 83/100\n",
            "4/4 [==============================] - 0s 51ms/step - loss: 0.1443 - accuracy: 0.9600 - val_loss: 0.0413 - val_accuracy: 1.0000\n",
            "Epoch 84/100\n",
            "4/4 [==============================] - 0s 51ms/step - loss: 0.0445 - accuracy: 0.9688 - val_loss: 0.0478 - val_accuracy: 0.9615\n",
            "Epoch 85/100\n",
            "4/4 [==============================] - 0s 47ms/step - loss: 0.1874 - accuracy: 0.9688 - val_loss: 0.0973 - val_accuracy: 0.9615\n",
            "Epoch 86/100\n",
            "4/4 [==============================] - 0s 47ms/step - loss: 0.0317 - accuracy: 1.0000 - val_loss: 0.2702 - val_accuracy: 0.9615\n",
            "Epoch 87/100\n",
            "4/4 [==============================] - 0s 73ms/step - loss: 0.0433 - accuracy: 0.9688 - val_loss: 0.4658 - val_accuracy: 0.9615\n",
            "Epoch 88/100\n",
            "4/4 [==============================] - 0s 51ms/step - loss: 0.1826 - accuracy: 0.9688 - val_loss: 0.5924 - val_accuracy: 0.9615\n",
            "Epoch 89/100\n",
            "4/4 [==============================] - 0s 48ms/step - loss: 0.2271 - accuracy: 0.9375 - val_loss: 0.5269 - val_accuracy: 0.9615\n",
            "Epoch 90/100\n",
            "4/4 [==============================] - 0s 47ms/step - loss: 0.2190 - accuracy: 0.9375 - val_loss: 0.5944 - val_accuracy: 0.8846\n",
            "Epoch 91/100\n",
            "4/4 [==============================] - 0s 48ms/step - loss: 0.1096 - accuracy: 0.9688 - val_loss: 0.3335 - val_accuracy: 0.9231\n",
            "Epoch 92/100\n",
            "4/4 [==============================] - 0s 76ms/step - loss: 0.0046 - accuracy: 1.0000 - val_loss: 0.2530 - val_accuracy: 0.9231\n",
            "Epoch 93/100\n",
            "4/4 [==============================] - 0s 45ms/step - loss: 0.0100 - accuracy: 1.0000 - val_loss: 0.2741 - val_accuracy: 0.9231\n",
            "Epoch 94/100\n",
            "4/4 [==============================] - 0s 63ms/step - loss: 0.0899 - accuracy: 0.9688 - val_loss: 0.2371 - val_accuracy: 0.9231\n",
            "Epoch 95/100\n",
            "4/4 [==============================] - 0s 89ms/step - loss: 0.0689 - accuracy: 0.9688 - val_loss: 0.2534 - val_accuracy: 0.9231\n",
            "Epoch 96/100\n",
            "4/4 [==============================] - 0s 72ms/step - loss: 0.0189 - accuracy: 1.0000 - val_loss: 0.2504 - val_accuracy: 0.9231\n",
            "Epoch 97/100\n",
            "4/4 [==============================] - 0s 77ms/step - loss: 0.0471 - accuracy: 0.9688 - val_loss: 0.2312 - val_accuracy: 0.9615\n",
            "Epoch 98/100\n",
            "4/4 [==============================] - 0s 90ms/step - loss: 0.0122 - accuracy: 1.0000 - val_loss: 0.2505 - val_accuracy: 0.9615\n",
            "Epoch 99/100\n",
            "4/4 [==============================] - 0s 89ms/step - loss: 0.0355 - accuracy: 1.0000 - val_loss: 0.3064 - val_accuracy: 0.9615\n",
            "Epoch 100/100\n",
            "4/4 [==============================] - 0s 74ms/step - loss: 9.7009e-04 - accuracy: 1.0000 - val_loss: 0.3773 - val_accuracy: 0.9615\n"
          ]
        }
      ]
    },
    {
      "cell_type": "code",
      "source": [
        "loss, accuracy = model.evaluate(validation_generator)\n",
        "print(\"loss\", loss)\n",
        "print(\"accuracy\", accuracy)"
      ],
      "metadata": {
        "colab": {
          "base_uri": "https://localhost:8080/"
        },
        "id": "Uxk--daNc228",
        "outputId": "c716493f-a52b-4649-a101-cc1700b6e7bd"
      },
      "execution_count": 20,
      "outputs": [
        {
          "output_type": "stream",
          "name": "stdout",
          "text": [
            "1/1 [==============================] - 0s 84ms/step - loss: 0.3773 - accuracy: 0.9615\n",
            "loss 0.37727296352386475\n",
            "accuracy 0.9615384340286255\n"
          ]
        }
      ]
    },
    {
      "cell_type": "code",
      "source": [
        "# Deploy\n",
        "\n",
        "# Ubah nama saved weights & tflite\n",
        "# Jangan lupa download tflitenya\n",
        "model.save_weights(\"capital_char.h5\")\n",
        "model.save(\"capital_char_model\")\n",
        "\n",
        "converter = tf.lite.TFLiteConverter.from_saved_model(\"capital_char_model\")\n",
        "tflite_model = converter.convert()\n",
        "\n",
        "with open(\"capital_char.tflite\", \"wb\") as f:\n",
        "  f.write(tflite_model)"
      ],
      "metadata": {
        "colab": {
          "base_uri": "https://localhost:8080/"
        },
        "id": "q805kNwWOH0_",
        "outputId": "babcd389-2e8d-4941-c932-bf2950ebeab8"
      },
      "execution_count": 21,
      "outputs": [
        {
          "output_type": "stream",
          "name": "stderr",
          "text": [
            "WARNING:absl:Found untraced functions such as _jit_compiled_convolution_op, _jit_compiled_convolution_op, _jit_compiled_convolution_op, _jit_compiled_convolution_op, _jit_compiled_convolution_op while saving (showing 5 of 5). These functions will not be directly callable after loading.\n"
          ]
        }
      ]
    },
    {
      "cell_type": "code",
      "source": [
        "from google.colab import files\n",
        "files.download('capital_char.tflite')"
      ],
      "metadata": {
        "colab": {
          "base_uri": "https://localhost:8080/",
          "height": 17
        },
        "id": "wjrcUUYUyGt7",
        "outputId": "d4b69b38-d864-4fbb-f910-85320b09cb3b"
      },
      "execution_count": 23,
      "outputs": [
        {
          "output_type": "display_data",
          "data": {
            "text/plain": [
              "<IPython.core.display.Javascript object>"
            ],
            "application/javascript": [
              "\n",
              "    async function download(id, filename, size) {\n",
              "      if (!google.colab.kernel.accessAllowed) {\n",
              "        return;\n",
              "      }\n",
              "      const div = document.createElement('div');\n",
              "      const label = document.createElement('label');\n",
              "      label.textContent = `Downloading \"${filename}\": `;\n",
              "      div.appendChild(label);\n",
              "      const progress = document.createElement('progress');\n",
              "      progress.max = size;\n",
              "      div.appendChild(progress);\n",
              "      document.body.appendChild(div);\n",
              "\n",
              "      const buffers = [];\n",
              "      let downloaded = 0;\n",
              "\n",
              "      const channel = await google.colab.kernel.comms.open(id);\n",
              "      // Send a message to notify the kernel that we're ready.\n",
              "      channel.send({})\n",
              "\n",
              "      for await (const message of channel.messages) {\n",
              "        // Send a message to notify the kernel that we're ready.\n",
              "        channel.send({})\n",
              "        if (message.buffers) {\n",
              "          for (const buffer of message.buffers) {\n",
              "            buffers.push(buffer);\n",
              "            downloaded += buffer.byteLength;\n",
              "            progress.value = downloaded;\n",
              "          }\n",
              "        }\n",
              "      }\n",
              "      const blob = new Blob(buffers, {type: 'application/binary'});\n",
              "      const a = document.createElement('a');\n",
              "      a.href = window.URL.createObjectURL(blob);\n",
              "      a.download = filename;\n",
              "      div.appendChild(a);\n",
              "      a.click();\n",
              "      div.remove();\n",
              "    }\n",
              "  "
            ]
          },
          "metadata": {}
        },
        {
          "output_type": "display_data",
          "data": {
            "text/plain": [
              "<IPython.core.display.Javascript object>"
            ],
            "application/javascript": [
              "download(\"download_757754c0-7eee-4c51-8cbf-d4576d71040d\", \"capital_char.tflite\", 6872020)"
            ]
          },
          "metadata": {}
        }
      ]
    }
  ]
}