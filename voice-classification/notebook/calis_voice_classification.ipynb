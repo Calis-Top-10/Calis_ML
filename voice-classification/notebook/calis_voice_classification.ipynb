{
  "nbformat": 4,
  "nbformat_minor": 0,
  "metadata": {
    "colab": {
      "provenance": [],
      "gpuType": "T4"
    },
    "kernelspec": {
      "name": "python3",
      "display_name": "Python 3"
    },
    "language_info": {
      "name": "python"
    },
    "accelerator": "GPU"
  },
  "cells": [
    {
      "cell_type": "markdown",
      "source": [
        "## Installation of TensorFlow IO and Pydub"
      ],
      "metadata": {
        "id": "qpZlpXb9QjjQ"
      }
    },
    {
      "cell_type": "code",
      "source": [
        "!pip install -q tensorflow_io\n",
        "!pip install -q pydub"
      ],
      "metadata": {
        "id": "W1avssYXa009",
        "colab": {
          "base_uri": "https://localhost:8080/"
        },
        "outputId": "e3d75319-c5c8-47a3-8479-1bc3b901ba6e"
      },
      "execution_count": 1,
      "outputs": [
        {
          "output_type": "stream",
          "name": "stdout",
          "text": [
            "\u001b[2K     \u001b[90m━━━━━━━━━━━━━━━━━━━━━━━━━━━━━━━━━━━━━━━━\u001b[0m \u001b[32m28.0/28.0 MB\u001b[0m \u001b[31m58.8 MB/s\u001b[0m eta \u001b[36m0:00:00\u001b[0m\n",
            "\u001b[?25h"
          ]
        }
      ]
    },
    {
      "cell_type": "markdown",
      "source": [
        "## Library and Module Imports\n",
        "\n",
        "The following libraries and modules are imported:\n",
        "\n",
        "- `os`: for operating system related functionality\n",
        "- `shutil`: for file and directory operations\n",
        "- `random`: for generating random numbers\n",
        "- `librosa`: for audio processing\n",
        "- `librosa.display`: for audio visualization\n",
        "- `numpy as np`: for numerical computations\n",
        "- `matplotlib.pyplot as plt`: for plotting graphs and charts\n",
        "- `soundfile as sf`: for reading and writing audio files\n",
        "- `pandas as pd`: for data manipulation and analysis\n",
        "- `tensorflow as tf`: for deep learning framework\n",
        "- `tensorflow_io as tfio`: for TensorFlow I/O operations\n",
        "- `tensorflow_hub as hub`: for using pre-trained models from TensorFlow Hub\n",
        "- `KFold` from `sklearn.model_selection`: for K-fold cross-validation\n",
        "- `wavfile` from `scipy.io`: for reading WAV audio files\n",
        "- `AudioSegment` from `pydub`: for audio segmentation\n",
        "- `WhiteNoise` from `pydub.generators`: for generating white noise\n",
        "- `speedup` from `pydub.effects`: for audio speed manipulation"
      ],
      "metadata": {
        "id": "GbWSdRLcQ9UF"
      }
    },
    {
      "cell_type": "code",
      "source": [
        "import os\n",
        "import shutil\n",
        "import random\n",
        "import librosa\n",
        "import librosa.display\n",
        "import numpy as np\n",
        "import matplotlib.pyplot as plt\n",
        "import soundfile as sf\n",
        "import pandas as pd\n",
        "import tensorflow as tf\n",
        "import tensorflow_io as tfio\n",
        "import tensorflow_hub as hub\n",
        "import pandas as pd\n",
        "from sklearn.model_selection import KFold\n",
        "from scipy.io import wavfile\n",
        "from pydub import AudioSegment\n",
        "from pydub.generators import WhiteNoise\n",
        "from pydub.effects import speedup"
      ],
      "metadata": {
        "id": "1NGLexBNYaeg"
      },
      "execution_count": 2,
      "outputs": []
    },
    {
      "cell_type": "markdown",
      "source": [
        "## Download Dataset"
      ],
      "metadata": {
        "id": "FUC30bNnRibR"
      }
    },
    {
      "cell_type": "code",
      "source": [
        "!gdown 1koPDoUV0mSWXLva9gJtgCavo-agtyoqo"
      ],
      "metadata": {
        "colab": {
          "base_uri": "https://localhost:8080/"
        },
        "id": "XkdZQcd3khgv",
        "outputId": "9654bf5d-8956-4166-ff3f-d3f750260c69"
      },
      "execution_count": 3,
      "outputs": [
        {
          "output_type": "stream",
          "name": "stdout",
          "text": [
            "Downloading...\n",
            "From: https://drive.google.com/uc?id=1koPDoUV0mSWXLva9gJtgCavo-agtyoqo\n",
            "To: /content/voice_classification-dataset-60.zip\n",
            "100% 146M/146M [00:02<00:00, 58.5MB/s]\n"
          ]
        }
      ]
    },
    {
      "cell_type": "markdown",
      "source": [
        "## Unzipping the Dataset"
      ],
      "metadata": {
        "id": "um1r9nQZSF-M"
      }
    },
    {
      "cell_type": "code",
      "source": [
        "!unzip -q /content/voice_classification-dataset-60.zip -d /content/calis_voice_dataset"
      ],
      "metadata": {
        "id": "y9a2rg4vK0Rd"
      },
      "execution_count": 4,
      "outputs": []
    },
    {
      "cell_type": "markdown",
      "source": [
        "## Dataset Path and YAMNet Model"
      ],
      "metadata": {
        "id": "Inc6Aip2SLSr"
      }
    },
    {
      "cell_type": "code",
      "source": [
        "DATASET = \"/content/calis_voice_dataset\"\n",
        "yamnet_model_handle = 'https://tfhub.dev/google/yamnet/1'\n",
        "yamnet_model = hub.load(yamnet_model_handle)"
      ],
      "metadata": {
        "id": "FbG9dw5pcESo"
      },
      "execution_count": 5,
      "outputs": []
    },
    {
      "cell_type": "markdown",
      "source": [
        "## Loading and Resampling WAV File"
      ],
      "metadata": {
        "id": "x37PRgjqSPHd"
      }
    },
    {
      "cell_type": "code",
      "source": [
        "def load_wav_16k_mono(filename):\n",
        "    \"\"\" Load a WAV file, convert it to a float tensor, resample to 16 kHz single-channel audio. \"\"\"\n",
        "    file_contents = tf.io.read_file(filename)\n",
        "    wav, sample_rate = tf.audio.decode_wav(\n",
        "          file_contents,\n",
        "          desired_channels=1)\n",
        "    wav = tf.squeeze(wav, axis=-1)\n",
        "    sample_rate = tf.cast(sample_rate, dtype=tf.int64)\n",
        "    wav = tfio.audio.resample(wav, rate_in=sample_rate, rate_out=16000)\n",
        "    # wav = wav / tf.int16.max\n",
        "    return wav"
      ],
      "metadata": {
        "id": "8NAmHPovUpSd"
      },
      "execution_count": 6,
      "outputs": []
    },
    {
      "cell_type": "markdown",
      "source": [
        "## WavVisualizer Class"
      ],
      "metadata": {
        "id": "DvhCa9x2SQvd"
      }
    },
    {
      "cell_type": "code",
      "source": [
        "class WavVisualizer:\n",
        "    def __init__(self, source_path):\n",
        "        self.source_path = source_path\n",
        "\n",
        "    def visualize_random_wav(self):\n",
        "        # Get class folders in the source path\n",
        "        folder_a_path = self.source_path\n",
        "        class_folders = [folder for folder in os.listdir(folder_a_path) if os.path.isdir(os.path.join(folder_a_path, folder))]\n",
        "\n",
        "        if len(class_folders) > 0:\n",
        "            # Select a random class folder\n",
        "            random_class_folder = random.choice(class_folders)\n",
        "\n",
        "            # Get WAV files in the random class folder\n",
        "            class_folder_path = os.path.join(folder_a_path, random_class_folder)\n",
        "            wav_files = [file for file in os.listdir(class_folder_path) if file.endswith('.wav')]\n",
        "\n",
        "            if len(wav_files) > 0:\n",
        "                # Select a random WAV file\n",
        "                random_wav_file = random.choice(wav_files)\n",
        "\n",
        "                # Load the WAV file\n",
        "                wav_file_path = os.path.join(class_folder_path, random_wav_file)\n",
        "                waveform, sample_rate = librosa.load(wav_file_path, sr=None)\n",
        "\n",
        "                # Compute and plot the spectrogram\n",
        "                spectrogram = librosa.amplitude_to_db(librosa.stft(waveform), ref=np.max)\n",
        "                plt.figure(figsize=(10, 4))\n",
        "                librosa.display.specshow(spectrogram, sr=sample_rate, x_axis='time', y_axis='log')\n",
        "                plt.title('Spectrogram')\n",
        "                plt.colorbar(format='%+2.0f dB')\n",
        "                plt.show()\n",
        "            else:\n",
        "                print(f\"No WAV files found in the class folder: {class_folder_path}\")\n",
        "        else:\n",
        "            print(\"No class folders found in the source path.\")\n",
        "\n",
        "    def visualize_first_wav(self):\n",
        "        # Get class folders in the source path\n",
        "        folder_a_path = self.source_path\n",
        "        class_folders = [folder for folder in os.listdir(folder_a_path) if os.path.isdir(os.path.join(folder_a_path, folder))]\n",
        "\n",
        "        if len(class_folders) > 0:\n",
        "            # Select the first class folder\n",
        "            class_folder_path = os.path.join(folder_a_path, class_folders[0])\n",
        "\n",
        "            # Get WAV files in the class folder\n",
        "            wav_files = [file for file in os.listdir(class_folder_path) if file.endswith('.wav')]\n",
        "\n",
        "            if len(wav_files) > 0:\n",
        "                # Select the first WAV file\n",
        "                wav_file_path = os.path.join(class_folder_path, wav_files[0])\n",
        "\n",
        "                # Load the WAV file\n",
        "                waveform, sample_rate = librosa.load(wav_file_path, sr=None)\n",
        "\n",
        "                # Compute and plot the spectrogram\n",
        "                spectrogram = librosa.amplitude_to_db(librosa.stft(waveform), ref=np.max)\n",
        "                plt.figure(figsize=(10, 4))\n",
        "                librosa.display.specshow(spectrogram, sr=sample_rate, x_axis='time', y_axis='log')\n",
        "                plt.title('Spectrogram')\n",
        "                plt.colorbar(format='%+2.0f dB')\n",
        "                plt.show()\n",
        "            else:\n",
        "                print(f\"No WAV files found in the class folder: {class_folder_path}\")\n",
        "        else:\n",
        "            print(\"No class folders found in the source path.\")"
      ],
      "metadata": {
        "id": "f0cxtBVkRqgA"
      },
      "execution_count": 7,
      "outputs": []
    },
    {
      "cell_type": "markdown",
      "source": [
        "## Dataset and Augmentation Paths\n",
        "\n",
        "The following paths are defined:\n",
        "\n",
        "- `DATASET`: Holds the path to the original dataset.\n",
        "- `ADD_NOISE`: Holds the path for adding noise augmentation.\n",
        "- `SHIFT_AUDIO`: Holds the path for shifting audio augmentation.\n",
        "- `PITCH_SHIFT`: Holds the path for pitch shift augmentation.\n",
        "- `APPLY_TIME_STRETCH`: Holds the path for applying time stretch augmentation.\n",
        "- `AUGMENTATION_PATH`: Holds the path where the augmented audio files will be saved."
      ],
      "metadata": {
        "id": "wMo3EaSlSbDu"
      }
    },
    {
      "cell_type": "code",
      "source": [
        "DATASET = \"/content/calis_voice_dataset\"\n",
        "ADD_NOISE = \"/content/add_noise\"\n",
        "SHIFT_AUDIO = \"/content/shift_audio\"\n",
        "PITCH_SHIFT = \"/content/pitch_shift_audio\"\n",
        "APPLY_TIME_STRETCH = \"/content/apply_time_stretch\"\n",
        "AUGMENTATION_PATH = \"/content/augmentation_path\"\n",
        "\n",
        "\n",
        "source_path = DATASET\n",
        "visualizer = WavVisualizer(source_path)\n",
        "visualizer.visualize_first_wav()"
      ],
      "metadata": {
        "id": "zyMxqA3nRvu6",
        "colab": {
          "base_uri": "https://localhost:8080/",
          "height": 465
        },
        "outputId": "ffb3cb3c-931c-4827-f8f6-5b908b2946a3"
      },
      "execution_count": 8,
      "outputs": [
        {
          "output_type": "stream",
          "name": "stderr",
          "text": [
            "<ipython-input-7-2163056dbf89>:58: UserWarning: amplitude_to_db was called on complex input so phase information will be discarded. To suppress this warning, call amplitude_to_db(np.abs(S)) instead.\n",
            "  spectrogram = librosa.amplitude_to_db(librosa.stft(waveform), ref=np.max)\n"
          ]
        },
        {
          "output_type": "display_data",
          "data": {
            "text/plain": [
              "<Figure size 1000x400 with 2 Axes>"
            ],
            "image/png": "[encoded data removed]"
          },
          "metadata": {}
        }
      ]
    },
    {
      "cell_type": "markdown",
      "source": [
        "## Adding Noise to WAV Files\n",
        "\n",
        "The `add_noise` function and `process_wav_files` function are defined as follows:\n",
        "\n",
        "### `add_noise(data, noise_factor)`\n",
        "- Adds random Gaussian noise to the input data with the specified noise factor.\n",
        "- Returns the augmented data.\n",
        "\n",
        "### `process_wav_files(dataset_folder, output_folder, noise_factor)`\n",
        "- Creates the output folder if it doesn't exist.\n",
        "- Iterates through the class folders in the dataset folder.\n",
        "- For each class folder, iterates through the WAV files.\n",
        "- For each WAV file, reads the data and sampling rate using `sf.read`.\n",
        "- Augments the data by adding noise using the `add_noise` function.\n",
        "- Writes the augmented data to a new WAV file in the output folder using `sf.write`."
      ],
      "metadata": {
        "id": "BbOAftmJSxF5"
      }
    },
    {
      "cell_type": "code",
      "source": [
        "def add_noise(data, noise_factor):\n",
        "    noise = np.random.randn(*data.shape)\n",
        "    augmented_data = data + noise_factor * noise\n",
        "    return augmented_data\n",
        "\n",
        "def process_wav_files(dataset_folder, output_folder, noise_factor):\n",
        "    os.makedirs(output_folder, exist_ok=True)\n",
        "\n",
        "    for class_folder in os.listdir(dataset_folder):\n",
        "        class_folder_path = os.path.join(dataset_folder, class_folder)\n",
        "        output_class_folder = os.path.join(output_folder, class_folder)\n",
        "        os.makedirs(output_class_folder, exist_ok=True)\n",
        "\n",
        "        for file in os.listdir(class_folder_path):\n",
        "            if file.endswith(\".wav\"):\n",
        "                file_path = os.path.join(class_folder_path, file)\n",
        "                output_file_name = f\"{os.path.splitext(file)[0]}_noisy_{noise_factor}{os.path.splitext(file)[1]}\"\n",
        "                output_file_path = os.path.join(output_class_folder, output_file_name)\n",
        "\n",
        "                data, sampling_rate = sf.read(file_path)\n",
        "                augmented_data = add_noise(data, noise_factor)\n",
        "                sf.write(output_file_path, augmented_data, sampling_rate)"
      ],
      "metadata": {
        "id": "U1eD1JoMRiOc"
      },
      "execution_count": 9,
      "outputs": []
    },
    {
      "cell_type": "code",
      "source": [
        "# dataset_folder = DATASET\n",
        "# output_folder = \"/content/add_noise_folder\"\n",
        "# noise_factor = 0.1\n",
        "\n",
        "# process_wav_files(dataset_folder, output_folder, noise_factor)"
      ],
      "metadata": {
        "id": "PZ91UjDrZl6X"
      },
      "execution_count": 10,
      "outputs": []
    },
    {
      "cell_type": "code",
      "source": [
        "# ADD_NOISE = \"/content/add_noise_folder\"\n",
        "# visualizer = WavVisualizer(ADD_NOISE)\n",
        "# visualizer.visualize_first_wav()"
      ],
      "metadata": {
        "id": "LO6Vhzi92Za_"
      },
      "execution_count": 11,
      "outputs": []
    },
    {
      "cell_type": "markdown",
      "source": [
        "## Applying Time Shift to WAV Files\n",
        "\n",
        "The `time_shift` function and `process_wav_files` function are defined as follows:\n",
        "\n",
        "### `time_shift(audio, shift_max, shift_direction)`\n",
        "- Applies time shift to the input audio data.\n",
        "- Arguments:\n",
        "  - `audio` (AudioSegment): The audio data.\n",
        "  - `shift_max` (float): The maximum shift value as a fraction of the audio length.\n",
        "  - `shift_direction` (str): The direction of the shift. Must be 'left', 'right', or 'both'.\n",
        "- Returns:\n",
        "  - `AudioSegment`: The time-shifted audio data.\n",
        "\n",
        "### `process_wav_files(dataset_folder, output_folder, sampling_rate, shift_max, shift_direction)`\n",
        "- Creates the output folder if it doesn't exist.\n",
        "- Iterates through the class folders in the dataset folder.\n",
        "- For each class folder, iterates through the WAV files.\n",
        "- For each WAV file, reads the data using PyDub's `AudioSegment.from_file`.\n",
        "- Applies time shift to the audio data using the `time_shift` function.\n",
        "- Constructs the output file name and path.\n",
        "- Exports the shifted audio to the output file using PyDub's `export` method.\n"
      ],
      "metadata": {
        "id": "iCxxILiMTOMS"
      }
    },
    {
      "cell_type": "code",
      "source": [
        "def time_shift(audio, shift_max, shift_direction):\n",
        "    \"\"\"\n",
        "    Apply time shift to the audio data.\n",
        "\n",
        "    Args:\n",
        "        audio (AudioSegment): The audio data.\n",
        "        shift_max (float): The maximum shift value as a fraction of the audio length.\n",
        "        shift_direction (str): The direction of the shift. Must be 'left', 'right', or 'both'.\n",
        "\n",
        "    Returns:\n",
        "        AudioSegment: The time-shifted audio data.\n",
        "    \"\"\"\n",
        "    shift = int(len(audio) * shift_max)\n",
        "\n",
        "    if shift_direction == 'right':\n",
        "        shifted_audio = audio[-shift:]\n",
        "    elif shift_direction == 'both':\n",
        "        direction = np.random.randint(0, 2)\n",
        "        if direction == 1:\n",
        "            shifted_audio = audio[-shift:]\n",
        "        else:\n",
        "            shifted_audio = audio[:shift]\n",
        "    else:\n",
        "        raise ValueError(\"Invalid shift_direction. Must be 'left', 'right', or 'both'.\")\n",
        "\n",
        "    return shifted_audio\n",
        "\n",
        "def process_wav_files(dataset_folder, output_folder, sampling_rate, shift_max, shift_direction):\n",
        "    # Create output folder\n",
        "    os.makedirs(output_folder, exist_ok=True)\n",
        "\n",
        "    # Iterate over each class folder in the dataset\n",
        "    for class_folder in os.listdir(dataset_folder):\n",
        "        class_folder_path = os.path.join(dataset_folder, class_folder)\n",
        "\n",
        "        # Create class folder in the output folder\n",
        "        output_class_folder = os.path.join(output_folder, class_folder)\n",
        "        os.makedirs(output_class_folder, exist_ok=True)\n",
        "\n",
        "        # Iterate over each WAV file in the current class\n",
        "        for file in os.listdir(class_folder_path):\n",
        "            if file.endswith(\".wav\"):\n",
        "                file_path = os.path.join(class_folder_path, file)\n",
        "\n",
        "                # Read WAV file using PyDub\n",
        "                audio = AudioSegment.from_file(file_path, format=\"wav\")\n",
        "\n",
        "                # Manipulate data with time_shift()\n",
        "                shifted_audio = time_shift(audio, shift_max, shift_direction)\n",
        "\n",
        "                # Get the base name and extension of the file\n",
        "                base_name = os.path.splitext(file)[0]\n",
        "                file_extension = os.path.splitext(file)[1]\n",
        "\n",
        "                # Construct the output file name with \"_shifted_<sampling_rate>_<shift_max>\" appended before the file extension\n",
        "                output_file_name = f\"{base_name}_shifted_{sampling_rate}_{shift_max}{file_extension}\"\n",
        "\n",
        "                # Construct the output file path in the output class folder\n",
        "                output_file_path = os.path.join(output_class_folder, output_file_name)\n",
        "\n",
        "                # Export the shifted audio to the output file using PyDub\n",
        "                shifted_audio.export(output_file_path, format=\"wav\", parameters=[\"-ar\", str(sampling_rate)])"
      ],
      "metadata": {
        "id": "HAKPsx8Ao5JE"
      },
      "execution_count": 12,
      "outputs": []
    },
    {
      "cell_type": "code",
      "source": [
        "# dataset_folder = DATASET\n",
        "# output_folder = \"/content/shift_audio_folder\"\n",
        "# sampling_rate = 44100\n",
        "# shift_max = 0.5\n",
        "# shift_direction = \"both\"\n",
        "\n",
        "# process_wav_files(dataset_folder, output_folder, sampling_rate, shift_max, shift_direction)"
      ],
      "metadata": {
        "id": "MVq4VuYvZVGl"
      },
      "execution_count": 13,
      "outputs": []
    },
    {
      "cell_type": "code",
      "source": [
        "# SHIFT_AUDIO = \"/content/shift_audio_folder\"\n",
        "# visualizer = WavVisualizer(SHIFT_AUDIO)\n",
        "# visualizer.visualize_first_wav()"
      ],
      "metadata": {
        "id": "UPc05VIS3oQJ"
      },
      "execution_count": 14,
      "outputs": []
    },
    {
      "cell_type": "markdown",
      "source": [
        "## Pitch Shifting to WAV Files\n",
        "\n",
        "The `pitch_shift_audio` function and `process_wav_files` function are defined as follows:\n",
        "\n",
        "### `pitch_shift_audio(file_path, output_file_path, pitch_factor)`\n",
        "- Pitch-shifts the audio file and saves the result to a new file.\n",
        "- Arguments:\n",
        "  - `file_path` (str): The path to the input audio file.\n",
        "  - `output_file_path` (str): The path to save the output pitch-shifted audio file.\n",
        "  - `pitch_factor` (float): The factor by which to shift the pitch of the audio.\n",
        "    - A value greater than 1 raises the pitch, while a value less than 1 lowers the pitch.\n",
        "- Returns:\n",
        "  - None\n",
        "\n",
        "### `process_wav_files(dataset_folder, output_folder, pitch_factor)`\n",
        "- Creates the output folder if it doesn't exist.\n",
        "- Iterates through the class folders in the dataset folder.\n",
        "- For each class folder, iterates through the WAV files.\n",
        "- For each WAV file, constructs the output file name and path.\n",
        "- Calls the `pitch_shift_audio` function to pitch-shift the audio.\n",
        "- Saves the pitch-shifted audio to the output file."
      ],
      "metadata": {
        "id": "xXkuOESqTd9t"
      }
    },
    {
      "cell_type": "code",
      "source": [
        "def pitch_shift_audio(file_path, output_file_path, pitch_factor):\n",
        "    \"\"\"\n",
        "    Pitch-shift the audio file and save the result to a new file.\n",
        "\n",
        "    Args:\n",
        "        file_path (str): The path to the input audio file.\n",
        "        output_file_path (str): The path to save the output pitch-shifted audio file.\n",
        "        pitch_factor (float): The factor by which to shift the pitch of the audio.\n",
        "            A value greater than 1 raises the pitch, while a value less than 1 lowers the pitch.\n",
        "\n",
        "    Returns:\n",
        "        None\n",
        "    \"\"\"\n",
        "    audio = AudioSegment.from_wav(file_path)\n",
        "    shifted_audio = audio._spawn(audio.raw_data, overrides={\n",
        "        \"frame_rate\": int(audio.frame_rate * pitch_factor)\n",
        "    })\n",
        "    shifted_audio.export(output_file_path, format=\"wav\")\n",
        "\n",
        "def process_wav_files(dataset_folder, output_folder, pitch_factor):\n",
        "    # Create the output folder\n",
        "    os.makedirs(output_folder, exist_ok=True)\n",
        "\n",
        "    # Iterate over each class folder in the dataset\n",
        "    for class_folder in os.listdir(dataset_folder):\n",
        "        class_folder_path = os.path.join(dataset_folder, class_folder)\n",
        "\n",
        "        # Create the class folder in the output folder\n",
        "        output_class_folder = os.path.join(output_folder, class_folder)\n",
        "        os.makedirs(output_class_folder, exist_ok=True)\n",
        "\n",
        "        # Iterate over each WAV file in the current class\n",
        "        for file in os.listdir(class_folder_path):\n",
        "            if file.endswith(\".wav\"):\n",
        "                file_path = os.path.join(class_folder_path, file)\n",
        "\n",
        "                # Create a more descriptive output file name\n",
        "                output_file_name = f\"{os.path.splitext(file)[0]}_pitch_shifted.wav\"\n",
        "                output_file_path = os.path.join(output_class_folder, output_file_name)\n",
        "\n",
        "                # Manipulate the audio with pitch_shift_audio()\n",
        "                pitch_shift_audio(file_path, output_file_path, pitch_factor)"
      ],
      "metadata": {
        "id": "HMzLWp8cs-M7"
      },
      "execution_count": 15,
      "outputs": []
    },
    {
      "cell_type": "code",
      "source": [
        "dataset_folder = DATASET\n",
        "output_folder = \"/content/pitch_shift_audio_folder\"\n",
        "pitch_factor = 1.0\n",
        "\n",
        "process_wav_files(dataset_folder, output_folder, pitch_factor)"
      ],
      "metadata": {
        "id": "JdbBkjzEZSnC"
      },
      "execution_count": 16,
      "outputs": []
    },
    {
      "cell_type": "code",
      "source": [
        "PITCH_SHIFT = \"/content/pitch_shift_audio_folder\"\n",
        "visualizer = WavVisualizer(PITCH_SHIFT)\n",
        "visualizer.visualize_first_wav()"
      ],
      "metadata": {
        "colab": {
          "base_uri": "https://localhost:8080/",
          "height": 465
        },
        "id": "p40zYs0n2igB",
        "outputId": "d360b059-ae6b-4207-cb52-c1b44f5e3635"
      },
      "execution_count": 17,
      "outputs": [
        {
          "output_type": "stream",
          "name": "stderr",
          "text": [
            "<ipython-input-7-2163056dbf89>:58: UserWarning: amplitude_to_db was called on complex input so phase information will be discarded. To suppress this warning, call amplitude_to_db(np.abs(S)) instead.\n",
            "  spectrogram = librosa.amplitude_to_db(librosa.stft(waveform), ref=np.max)\n"
          ]
        },
        {
          "output_type": "display_data",
          "data": {
            "text/plain": [
              "<Figure size 1000x400 with 2 Axes>"
            ],
            "image/png": "[encoded data removed]"
          },
          "metadata": {}
        }
      ]
    },
    {
      "cell_type": "markdown",
      "source": [
        "## Applying Time Stretch to WAV Files\n",
        "\n",
        "The `apply_time_stretch` function and `process_wav_files` function are defined as follows:\n",
        "\n",
        "### `apply_time_stretch(audio, speed_factor)`\n",
        "- Applies time stretching to the audio data.\n",
        "- Arguments:\n",
        "  - `audio` (AudioSegment): The audio data.\n",
        "  - `speed_factor` (float): The factor by which to change the speed of the audio.\n",
        "    - A value greater than 1 increases the speed, while a value less than 1 decreases the speed.\n",
        "- Returns:\n",
        "  - AudioSegment: The time-stretched audio data.\n",
        "\n",
        "### `process_wav_files(dataset_folder, output_folder, speed_factor)`\n",
        "- Creates the output folder if it doesn't exist.\n",
        "- Iterates through the class folders in the dataset folder.\n",
        "- For each class folder, iterates through the WAV files.\n",
        "- For each WAV file, constructs the output file name and path.\n",
        "- Calls the `apply_time_stretch` function to apply time stretching to the audio.\n",
        "- Saves the time-stretched audio to the output file.\n"
      ],
      "metadata": {
        "id": "hpxogVFlUFUd"
      }
    },
    {
      "cell_type": "code",
      "source": [
        "def apply_time_stretch(audio, speed_factor):\n",
        "    \"\"\"\n",
        "    Apply time stretching to the audio data.\n",
        "\n",
        "    Args:\n",
        "        audio (AudioSegment): The audio data.\n",
        "        speed_factor (float): The factor by which to change the speed of the audio.\n",
        "            A value greater than 1 increases the speed, while a value less than 1 decreases the speed.\n",
        "\n",
        "    Returns:\n",
        "        AudioSegment: The time-stretched audio data.\n",
        "    \"\"\"\n",
        "    return audio.speedup(playback_speed=speed_factor)\n",
        "\n",
        "def process_wav_files(dataset_folder, output_folder, speed_factor):\n",
        "    # Create output folder\n",
        "    os.makedirs(output_folder, exist_ok=True)\n",
        "\n",
        "    # Iterate over each class folder in the dataset\n",
        "    for class_folder in os.listdir(dataset_folder):\n",
        "        class_folder_path = os.path.join(dataset_folder, class_folder)\n",
        "\n",
        "        # Create class folder in the output folder\n",
        "        output_class_folder = os.path.join(output_folder, class_folder)\n",
        "        os.makedirs(output_class_folder, exist_ok=True)\n",
        "\n",
        "        # Iterate over each WAV file in the current class\n",
        "        for file in os.listdir(class_folder_path):\n",
        "            if file.endswith(\".wav\"):\n",
        "                file_path = os.path.join(class_folder_path, file)\n",
        "\n",
        "                # Read WAV file using PyDub\n",
        "                audio = AudioSegment.from_file(file_path, format=\"wav\")\n",
        "\n",
        "                # Manipulate data with apply_time_stretch()\n",
        "                manipulated_audio = apply_time_stretch(audio, speed_factor)\n",
        "\n",
        "                # Get the base name and extension of the file\n",
        "                base_name = os.path.splitext(file)[0]\n",
        "                file_extension = os.path.splitext(file)[1]\n",
        "\n",
        "                # Construct the output file name with the speed factor appended after the base name\n",
        "                output_file_name = f\"{base_name}_speed{speed_factor}{file_extension}\"\n",
        "\n",
        "                # Construct the output file path in the output class folder\n",
        "                output_file_path = os.path.join(output_class_folder, output_file_name)\n",
        "\n",
        "                # Write the manipulated audio to the output file using PyDub\n",
        "                manipulated_audio.export(output_file_path, format=\"wav\")"
      ],
      "metadata": {
        "id": "GuRiW1x-vypG"
      },
      "execution_count": 18,
      "outputs": []
    },
    {
      "cell_type": "code",
      "source": [
        "# dataset_folder = DATASET\n",
        "# output_folder = \"/content/apply_time_stretch_folder\"\n",
        "# speed_factor = 0.9\n",
        "\n",
        "# process_wav_files(dataset_folder, output_folder, speed_factor)"
      ],
      "metadata": {
        "id": "_vXx1DziZPPf"
      },
      "execution_count": 19,
      "outputs": []
    },
    {
      "cell_type": "code",
      "source": [
        "# APPLY_TIME_STRETCH = \"/content/apply_time_stretch_folder\"\n",
        "# visualizer = WavVisualizer(APPLY_TIME_STRETCH)\n",
        "# visualizer.visualize_first_wav()"
      ],
      "metadata": {
        "id": "99SUmHih2i8S"
      },
      "execution_count": 20,
      "outputs": []
    },
    {
      "cell_type": "markdown",
      "source": [
        "## Merging Folders\n",
        "\n",
        "The `merge_folders` function is defined as follows:\n",
        "\n",
        "### `merge_folders(source_folder, destination_folder)`\n",
        "- Merges the contents of the source folder into the destination folder.\n",
        "- Arguments:\n",
        "  - `source_folder` (str): The path to the source folder.\n",
        "  - `destination_folder` (str): The path to the destination folder.\n",
        "- Returns:\n",
        "  - None\n",
        "\n",
        "This function iterates through the directory structure of the source folder and moves each file to the corresponding location in the destination folder, preserving the directory structure. After the merge is complete, the source folder is removed."
      ],
      "metadata": {
        "id": "212xKkvEUQAa"
      }
    },
    {
      "cell_type": "code",
      "source": [
        "def merge_folders(source_folder, destination_folder):\n",
        "    # Iterate through the directory structure of the source folder\n",
        "    for root, dirs, files in os.walk(source_folder):\n",
        "        # Get the destination folder path by using the same directory structure\n",
        "        relative_path = os.path.relpath(root, source_folder)\n",
        "        new_folder = os.path.join(destination_folder, relative_path)\n",
        "\n",
        "        # Create the destination folder if it doesn't exist\n",
        "        os.makedirs(new_folder, exist_ok=True)\n",
        "\n",
        "        # Iterate through each file in the current folder\n",
        "        for file in files:\n",
        "            # Get the source and destination file paths\n",
        "            source_file_path = os.path.join(root, file)\n",
        "            destination_file_path = os.path.join(new_folder, file)\n",
        "\n",
        "            # Move the file from the source folder to the destination folder\n",
        "            shutil.move(source_file_path, destination_file_path)\n",
        "\n",
        "    # Remove the source folder after the merge is complete\n",
        "    shutil.rmtree(source_folder)"
      ],
      "metadata": {
        "id": "AI3ylpm2Gx5j"
      },
      "execution_count": 21,
      "outputs": []
    },
    {
      "cell_type": "markdown",
      "source": [
        "# Merge All Folder Augmentation"
      ],
      "metadata": {
        "id": "KUBjlLl1QFb2"
      }
    },
    {
      "cell_type": "code",
      "source": [
        "# # Path to the source dataset folder\n",
        "# source_folder = ADD_NOISE\n",
        "\n",
        "# # Path to the destination folder to merge with the same folder structure\n",
        "# destination_folder = AUGMENTATION_PATH\n",
        "\n",
        "# # Create the destination folder if it doesn't exist\n",
        "# os.makedirs(destination_folder, exist_ok=True)\n",
        "\n",
        "# # Merge folders with the same structure\n",
        "# merge_folders(source_folder, destination_folder)"
      ],
      "metadata": {
        "id": "mcVpNfRjG3no"
      },
      "execution_count": 22,
      "outputs": []
    },
    {
      "cell_type": "code",
      "source": [
        "# # Path to the source dataset folder\n",
        "# source_folder = SHIFT_AUDIO\n",
        "\n",
        "# # Path to the destination folder to merge with the same folder structure\n",
        "# destination_folder = AUGMENTATION_PATH\n",
        "\n",
        "# # Create the destination folder if it doesn't exist\n",
        "# os.makedirs(destination_folder, exist_ok=True)\n",
        "\n",
        "# # Merge folders with the same structure\n",
        "# merge_folders(source_folder, destination_folder)"
      ],
      "metadata": {
        "id": "STASwT8HHSJN"
      },
      "execution_count": 23,
      "outputs": []
    },
    {
      "cell_type": "code",
      "source": [
        "# Path to the source dataset folder\n",
        "source_folder = PITCH_SHIFT\n",
        "\n",
        "# Path to the destination folder to merge with the same folder structure\n",
        "destination_folder = AUGMENTATION_PATH\n",
        "\n",
        "# Create the destination folder if it doesn't exist\n",
        "os.makedirs(destination_folder, exist_ok=True)\n",
        "\n",
        "# Merge folders with the same structure\n",
        "merge_folders(source_folder, destination_folder)"
      ],
      "metadata": {
        "id": "EaCwPHD54qSj"
      },
      "execution_count": 24,
      "outputs": []
    },
    {
      "cell_type": "code",
      "source": [
        "# # Path to the source dataset folder\n",
        "# source_folder = APPLY_TIME_STRETCH\n",
        "\n",
        "# # Path to the destination folder to merge with the same folder structure\n",
        "# destination_folder = AUGMENTATION_PATH\n",
        "\n",
        "# # Create the destination folder if it doesn't exist\n",
        "# os.makedirs(destination_folder, exist_ok=True)\n",
        "\n",
        "# # Merge folders with the same structure\n",
        "# merge_folders(source_folder, destination_folder)"
      ],
      "metadata": {
        "id": "b0kqCY1s4sw4"
      },
      "execution_count": 25,
      "outputs": []
    },
    {
      "cell_type": "markdown",
      "source": [
        "## DataFolder Class\n",
        "\n",
        "The `DataFolder` class is defined as follows:\n",
        "\n",
        "### `__init__(self, folder_path, csv_file_path)`\n",
        "- Initializes a `DataFolder` object.\n",
        "- Arguments:\n",
        "  - `folder_path` (str): The path to the folder containing audio files.\n",
        "  - `csv_file_path` (str): The path to the CSV file that will store the audio file information.\n",
        "- Returns:\n",
        "  - None\n",
        "\n",
        "### `convert_folder_to_csv(self)`\n",
        "- Converts the folder of audio files into a CSV file.\n",
        "- Each row in the CSV file corresponds to an audio file, with the 'filename' column storing the file names and the 'class' column storing the corresponding class names.\n",
        "- Returns:\n",
        "  - None\n",
        "\n",
        "### `assign_folds(self, n_splits=10, shuffle=True, random_state=None, validation_num=1, test_num=1, fix_fold=None)`\n",
        "- Assigns fold values to each sample in the CSV file.\n",
        "- The 'fold' column is added to the CSV file, indicating which fold the sample belongs to based on K-fold cross-validation.\n",
        "- Arguments:\n",
        "  - `n_splits` (int): The number of folds for cross-validation (default: 10).\n",
        "  - `shuffle` (bool): Whether to shuffle the data before splitting into folds (default: True).\n",
        "  - `random_state` (int or None): Random seed for shuffling the data (default: None).\n",
        "  - `validation_num` (int): The number of samples to include in the validation set (default: 1).\n",
        "  - `test_num` (int): The number of samples to include in the test set (default: 1).\n",
        "  - `fix_fold` (int or None): Fix the fold value for all samples (default: None).\n",
        "- Returns:\n",
        "  - None\n",
        "\n",
        "This class provides methods for converting a folder of audio files into a CSV file and assigning fold values to the samples in the CSV file for cross-validation. The fold values are stored in the 'fold' column of the CSV file."
      ],
      "metadata": {
        "id": "JzqU0fbbUwRB"
      }
    },
    {
      "cell_type": "code",
      "source": [
        "# Define a class for handling data operations\n",
        "class DataFolder:\n",
        "    def __init__(self, folder_path, csv_file_path):\n",
        "        self.folder_path = folder_path\n",
        "        self.csv_file_path = csv_file_path\n",
        "\n",
        "    def convert_folder_to_csv(self):\n",
        "        \"\"\"\n",
        "        Convert a folder of audio files into a CSV file.\n",
        "        Each row in the CSV file corresponds to an audio file,\n",
        "        with the 'filename' column storing the file names\n",
        "        and the 'class' column storing the corresponding class names.\n",
        "        \"\"\"\n",
        "        filenames = []\n",
        "        classes = []\n",
        "        for root, dirs, files in os.walk(self.folder_path):\n",
        "            for file in files:\n",
        "                if file.endswith('.wav'):\n",
        "                    filenames.append(file)\n",
        "                    class_name = os.path.basename(root)\n",
        "                    classes.append(class_name)\n",
        "\n",
        "        data = {'filename': filenames, 'class': classes}\n",
        "        df = pd.DataFrame(data)\n",
        "        df.to_csv(self.csv_file_path, index=False)\n",
        "\n",
        "    def assign_folds(self, n_splits=10, shuffle=True, random_state=None, validation_num=1, test_num=1, fix_fold=None):\n",
        "        \"\"\"\n",
        "        Assign fold values to each sample in the CSV file.\n",
        "        The 'fold' column is added to the CSV file, indicating\n",
        "        which fold the sample belongs to based on the K-fold cross-validation.\n",
        "        \"\"\"\n",
        "        df = pd.read_csv(self.csv_file_path)\n",
        "        kfold = KFold(n_splits=n_splits, shuffle=shuffle, random_state=random_state)\n",
        "        df['fold'] = -1\n",
        "\n",
        "        for fold, (_, val_indexes) in enumerate(kfold.split(df)):\n",
        "            if fix_fold is not None:\n",
        "              df.loc[val_indexes, 'fold'] = fix_fold\n",
        "              continue\n",
        "            df.loc[val_indexes, 'fold'] = fold\n",
        "\n",
        "        # prev_class_name = None\n",
        "        # test_counter = 0\n",
        "        # val_counter = 0\n",
        "\n",
        "        # for index, row in df.iterrows():\n",
        "        #     class_name = row[\"class\"]\n",
        "\n",
        "        #     if prev_class_name != class_name:\n",
        "        #         val_counter = 0\n",
        "        #         test_counter = 0\n",
        "        #         prev_class_name = class_name\n",
        "\n",
        "        #     if test_counter < test_num:\n",
        "        #         df.at[index, \"fold\"] = 1\n",
        "        #         test_counter += 1\n",
        "        #     elif val_counter < validation_num:\n",
        "        #         df.at[index, \"fold\"] = 2\n",
        "        #         val_counter += 1\n",
        "        #     else:\n",
        "        #         df.at[index, \"fold\"] = 0\n",
        "\n",
        "        df.to_csv(self.csv_file_path, index=False)"
      ],
      "metadata": {
        "id": "wd93w-R-RGyO"
      },
      "execution_count": 26,
      "outputs": []
    },
    {
      "cell_type": "code",
      "source": [
        "csv_file_path = 'DATASET.csv'\n",
        "\n",
        "data_folder = DataFolder(DATASET, csv_file_path)\n",
        "data_folder.convert_folder_to_csv()\n",
        "data_folder.assign_folds(n_splits=5, shuffle=True, random_state=42)\n",
        "\n",
        "augmentation_csv_filepath = 'DATASET_AUGMENTASI.csv'\n",
        "augmentation_folder = DataFolder(AUGMENTATION_PATH, augmentation_csv_filepath)\n",
        "augmentation_folder.convert_folder_to_csv()\n",
        "augmentation_folder.assign_folds(fix_fold=3)"
      ],
      "metadata": {
        "id": "0Q_bB3JiSAa0"
      },
      "execution_count": 27,
      "outputs": []
    },
    {
      "cell_type": "markdown",
      "source": [
        "The code snippet `df = pd.read_csv(csv_file_path)` reads the CSV file located at `csv_file_path` and stores the data in a pandas DataFrame called `df`.\n",
        "\n",
        "### `pd.read_csv(csv_file_path)`\n",
        "- Reads a CSV (Comma-Separated Values) file and returns a DataFrame.\n",
        "- Arguments:\n",
        "  - `csv_file_path` (str): The path to the CSV file.\n",
        "- Returns:\n",
        "  - DataFrame: The data read from the CSV file.\n",
        "\n",
        "The `pd.read_csv()` function is a pandas function used to read CSV files and create a DataFrame object. It takes the file path of the CSV file as an argument and returns a DataFrame containing the data from the CSV file.\n",
        "\n",
        "In the code snippet, the DataFrame object `df` is created by reading the CSV file located at `csv_file_path` using the `pd.read_csv()` function. The `df` DataFrame can then be used to perform various data manipulation and analysis tasks using the pandas library.\n",
        "\n",
        "Note that the code assumes that the pandas library is imported and assigned the alias `pd`. The `df` variable can be used to access and manipulate the data stored in the DataFrame."
      ],
      "metadata": {
        "id": "R1ohj6_DVZ64"
      }
    },
    {
      "cell_type": "code",
      "source": [
        "df = pd.read_csv(csv_file_path)\n",
        "df"
      ],
      "metadata": {
        "id": "55dyw_pTT4dL",
        "colab": {
          "base_uri": "https://localhost:8080/",
          "height": 424
        },
        "outputId": "3c1dee1c-e3a7-492a-bc2d-b69563ea23cf"
      },
      "execution_count": 28,
      "outputs": [
        {
          "output_type": "execute_result",
          "data": {
            "text/plain": [
              "          filename class  fold\n",
              "0     buku(28).wav  buku     1\n",
              "1     buku(42).wav  buku     4\n",
              "2      buku(5).wav  buku     0\n",
              "3      buku(8).wav  buku     0\n",
              "4     buku(26).wav  buku     4\n",
              "...            ...   ...   ...\n",
              "1059  adab(45).wav  adab     4\n",
              "1060  adab(30).wav  adab     0\n",
              "1061  adab(14).wav  adab     2\n",
              "1062  adab(42).wav  adab     2\n",
              "1063  adab(35).wav  adab     3\n",
              "\n",
              "[1064 rows x 3 columns]"
            ],
            "text/html": [
              "\n",
              "  <div id=\"df-87a71a0e-0bca-45b9-a803-4711cd2de233\">\n",
              "    <div class=\"colab-df-container\">\n",
              "      <div>\n",
              "<style scoped>\n",
              "    .dataframe tbody tr th:only-of-type {\n",
              "        vertical-align: middle;\n",
              "    }\n",
              "\n",
              "    .dataframe tbody tr th {\n",
              "        vertical-align: top;\n",
              "    }\n",
              "\n",
              "    .dataframe thead th {\n",
              "        text-align: right;\n",
              "    }\n",
              "</style>\n",
              "<table border=\"1\" class=\"dataframe\">\n",
              "  <thead>\n",
              "    <tr style=\"text-align: right;\">\n",
              "      <th></th>\n",
              "      <th>filename</th>\n",
              "      <th>class</th>\n",
              "      <th>fold</th>\n",
              "    </tr>\n",
              "  </thead>\n",
              "  <tbody>\n",
              "    <tr>\n",
              "      <th>0</th>\n",
              "      <td>buku(28).wav</td>\n",
              "      <td>buku</td>\n",
              "      <td>1</td>\n",
              "    </tr>\n",
              "    <tr>\n",
              "      <th>1</th>\n",
              "      <td>buku(42).wav</td>\n",
              "      <td>buku</td>\n",
              "      <td>4</td>\n",
              "    </tr>\n",
              "    <tr>\n",
              "      <th>2</th>\n",
              "      <td>buku(5).wav</td>\n",
              "      <td>buku</td>\n",
              "      <td>0</td>\n",
              "    </tr>\n",
              "    <tr>\n",
              "      <th>3</th>\n",
              "      <td>buku(8).wav</td>\n",
              "      <td>buku</td>\n",
              "      <td>0</td>\n",
              "    </tr>\n",
              "    <tr>\n",
              "      <th>4</th>\n",
              "      <td>buku(26).wav</td>\n",
              "      <td>buku</td>\n",
              "      <td>4</td>\n",
              "    </tr>\n",
              "    <tr>\n",
              "      <th>...</th>\n",
              "      <td>...</td>\n",
              "      <td>...</td>\n",
              "      <td>...</td>\n",
              "    </tr>\n",
              "    <tr>\n",
              "      <th>1059</th>\n",
              "      <td>adab(45).wav</td>\n",
              "      <td>adab</td>\n",
              "      <td>4</td>\n",
              "    </tr>\n",
              "    <tr>\n",
              "      <th>1060</th>\n",
              "      <td>adab(30).wav</td>\n",
              "      <td>adab</td>\n",
              "      <td>0</td>\n",
              "    </tr>\n",
              "    <tr>\n",
              "      <th>1061</th>\n",
              "      <td>adab(14).wav</td>\n",
              "      <td>adab</td>\n",
              "      <td>2</td>\n",
              "    </tr>\n",
              "    <tr>\n",
              "      <th>1062</th>\n",
              "      <td>adab(42).wav</td>\n",
              "      <td>adab</td>\n",
              "      <td>2</td>\n",
              "    </tr>\n",
              "    <tr>\n",
              "      <th>1063</th>\n",
              "      <td>adab(35).wav</td>\n",
              "      <td>adab</td>\n",
              "      <td>3</td>\n",
              "    </tr>\n",
              "  </tbody>\n",
              "</table>\n",
              "<p>1064 rows × 3 columns</p>\n",
              "</div>\n",
              "      <button class=\"colab-df-convert\" onclick=\"convertToInteractive('df-87a71a0e-0bca-45b9-a803-4711cd2de233')\"\n",
              "              title=\"Convert this dataframe to an interactive table.\"\n",
              "              style=\"display:none;\">\n",
              "        \n",
              "  <svg xmlns=\"http://www.w3.org/2000/svg\" height=\"24px\"viewBox=\"0 0 24 24\"\n",
              "       width=\"24px\">\n",
              "    <path d=\"M0 0h24v24H0V0z\" fill=\"none\"/>\n",
              "    <path d=\"M18.56 5.44l.94 2.06.94-2.06 2.06-.94-2.06-.94-.94-2.06-.94 2.06-2.06.94zm-11 1L8.5 8.5l.94-2.06 2.06-.94-2.06-.94L8.5 2.5l-.94 2.06-2.06.94zm10 10l.94 2.06.94-2.06 2.06-.94-2.06-.94-.94-2.06-.94 2.06-2.06.94z\"/><path d=\"M17.41 7.96l-1.37-1.37c-.4-.4-.92-.59-1.43-.59-.52 0-1.04.2-1.43.59L10.3 9.45l-7.72 7.72c-.78.78-.78 2.05 0 2.83L4 21.41c.39.39.9.59 1.41.59.51 0 1.02-.2 1.41-.59l7.78-7.78 2.81-2.81c.8-.78.8-2.07 0-2.86zM5.41 20L4 18.59l7.72-7.72 1.47 1.35L5.41 20z\"/>\n",
              "  </svg>\n",
              "      </button>\n",
              "      \n",
              "  <style>\n",
              "    .colab-df-container {\n",
              "      display:flex;\n",
              "      flex-wrap:wrap;\n",
              "      gap: 12px;\n",
              "    }\n",
              "\n",
              "    .colab-df-convert {\n",
              "      background-color: #E8F0FE;\n",
              "      border: none;\n",
              "      border-radius: 50%;\n",
              "      cursor: pointer;\n",
              "      display: none;\n",
              "      fill: #1967D2;\n",
              "      height: 32px;\n",
              "      padding: 0 0 0 0;\n",
              "      width: 32px;\n",
              "    }\n",
              "\n",
              "    .colab-df-convert:hover {\n",
              "      background-color: #E2EBFA;\n",
              "      box-shadow: 0px 1px 2px rgba(60, 64, 67, 0.3), 0px 1px 3px 1px rgba(60, 64, 67, 0.15);\n",
              "      fill: #174EA6;\n",
              "    }\n",
              "\n",
              "    [theme=dark] .colab-df-convert {\n",
              "      background-color: #3B4455;\n",
              "      fill: #D2E3FC;\n",
              "    }\n",
              "\n",
              "    [theme=dark] .colab-df-convert:hover {\n",
              "      background-color: #434B5C;\n",
              "      box-shadow: 0px 1px 3px 1px rgba(0, 0, 0, 0.15);\n",
              "      filter: drop-shadow(0px 1px 2px rgba(0, 0, 0, 0.3));\n",
              "      fill: #FFFFFF;\n",
              "    }\n",
              "  </style>\n",
              "\n",
              "      <script>\n",
              "        const buttonEl =\n",
              "          document.querySelector('#df-87a71a0e-0bca-45b9-a803-4711cd2de233 button.colab-df-convert');\n",
              "        buttonEl.style.display =\n",
              "          google.colab.kernel.accessAllowed ? 'block' : 'none';\n",
              "\n",
              "        async function convertToInteractive(key) {\n",
              "          const element = document.querySelector('#df-87a71a0e-0bca-45b9-a803-4711cd2de233');\n",
              "          const dataTable =\n",
              "            await google.colab.kernel.invokeFunction('convertToInteractive',\n",
              "                                                     [key], {});\n",
              "          if (!dataTable) return;\n",
              "\n",
              "          const docLinkHtml = 'Like what you see? Visit the ' +\n",
              "            '<a target=\"_blank\" href=https://colab.research.google.com/notebooks/data_table.ipynb>data table notebook</a>'\n",
              "            + ' to learn more about interactive tables.';\n",
              "          element.innerHTML = '';\n",
              "          dataTable['output_type'] = 'display_data';\n",
              "          await google.colab.output.renderOutput(dataTable, element);\n",
              "          const docLink = document.createElement('div');\n",
              "          docLink.innerHTML = docLinkHtml;\n",
              "          element.appendChild(docLink);\n",
              "        }\n",
              "      </script>\n",
              "    </div>\n",
              "  </div>\n",
              "  "
            ]
          },
          "metadata": {},
          "execution_count": 28
        }
      ]
    },
    {
      "cell_type": "markdown",
      "source": [
        "The code snippet `df.info()` provides information about the DataFrame `df`, including the column names, data types, and memory usage.\n",
        "\n",
        "### `df.info()`\n",
        "- Prints a concise summary of the DataFrame.\n",
        "- Returns:\n",
        "  - None\n",
        "\n",
        "The `info()` method is a pandas DataFrame method that displays a summary of the DataFrame's structure and content. When called on a DataFrame object, it prints the following information:\n",
        "- The total number of rows and columns in the DataFrame.\n",
        "- The column names and their corresponding data types.\n",
        "- The number of non-null values in each column.\n",
        "- The memory usage of the DataFrame.\n",
        "\n",
        "The `df.info()` output is useful for understanding the overall structure of the DataFrame, identifying missing or null values, and assessing the memory usage of the DataFrame.\n",
        "\n",
        "By calling `df.info()`, you can quickly get an overview of the DataFrame's data types and check for any missing or null values. This information can help you make informed decisions about data cleaning, preprocessing, and analysis tasks."
      ],
      "metadata": {
        "id": "LkIx1NWxVs2K"
      }
    },
    {
      "cell_type": "code",
      "source": [
        "df.info()"
      ],
      "metadata": {
        "id": "f_c9KHQpUBJw",
        "colab": {
          "base_uri": "https://localhost:8080/"
        },
        "outputId": "22dc0434-6d43-46c2-b881-046568eb75ee"
      },
      "execution_count": 29,
      "outputs": [
        {
          "output_type": "stream",
          "name": "stdout",
          "text": [
            "<class 'pandas.core.frame.DataFrame'>\n",
            "RangeIndex: 1064 entries, 0 to 1063\n",
            "Data columns (total 3 columns):\n",
            " #   Column    Non-Null Count  Dtype \n",
            "---  ------    --------------  ----- \n",
            " 0   filename  1064 non-null   object\n",
            " 1   class     1064 non-null   object\n",
            " 2   fold      1064 non-null   int64 \n",
            "dtypes: int64(1), object(2)\n",
            "memory usage: 25.1+ KB\n"
          ]
        }
      ]
    },
    {
      "cell_type": "markdown",
      "source": [
        "The code snippet `df.shape` returns the dimensions of the DataFrame `df`, representing the number of rows and columns.\n",
        "\n",
        "### `df.shape`\n",
        "- Returns a tuple representing the dimensions of the DataFrame.\n",
        "- The first element of the tuple represents the number of rows.\n",
        "- The second element of the tuple represents the number of columns.\n",
        "\n",
        "By calling `df.shape`, you can quickly obtain the size of the DataFrame in terms of its row and column count. This information is useful for understanding the overall structure and size of the DataFrame.\n",
        "\n",
        "For example, if `df.shape` returns `(1000, 5)`, it means that the DataFrame contains 1000 rows and 5 columns.\n",
        "\n",
        "Knowing the shape of the DataFrame is essential for performing various data manipulation and analysis tasks. It helps you understand the scope of your data, determine appropriate indexing or slicing operations, and ensure compatibility with other operations or datasets.\n",
        "\n",
        "You can use the shape information to verify if the DataFrame has the expected dimensions, identify potential data issues (e.g., missing rows or unexpected column count), or perform calculations or comparisons based on the DataFrame's size."
      ],
      "metadata": {
        "id": "vZ4tTdt1Vzo1"
      }
    },
    {
      "cell_type": "code",
      "source": [
        "df.shape"
      ],
      "metadata": {
        "id": "EPXtuWCGUB7c",
        "colab": {
          "base_uri": "https://localhost:8080/"
        },
        "outputId": "a9cd6359-5195-4873-bff4-6b73c9506758"
      },
      "execution_count": 30,
      "outputs": [
        {
          "output_type": "execute_result",
          "data": {
            "text/plain": [
              "(1064, 3)"
            ]
          },
          "metadata": {},
          "execution_count": 30
        }
      ]
    },
    {
      "cell_type": "code",
      "source": [
        "df_aug = pd.read_csv(augmentation_csv_filepath)\n",
        "df_aug"
      ],
      "metadata": {
        "id": "a6YBZTMqPb1E",
        "colab": {
          "base_uri": "https://localhost:8080/",
          "height": 424
        },
        "outputId": "80542af5-9163-465a-e612-4c32be45d80e"
      },
      "execution_count": 31,
      "outputs": [
        {
          "output_type": "execute_result",
          "data": {
            "text/plain": [
              "                        filename class  fold\n",
              "0      buku(6)_pitch_shifted.wav  buku     3\n",
              "1     buku(50)_pitch_shifted.wav  buku     3\n",
              "2     buku(48)_pitch_shifted.wav  buku     3\n",
              "3     buku(22)_pitch_shifted.wav  buku     3\n",
              "4     buku(60)_pitch_shifted.wav  buku     3\n",
              "...                          ...   ...   ...\n",
              "1059  adab(25)_pitch_shifted.wav  adab     3\n",
              "1060  adab(44)_pitch_shifted.wav  adab     3\n",
              "1061  adab(46)_pitch_shifted.wav  adab     3\n",
              "1062  adab(38)_pitch_shifted.wav  adab     3\n",
              "1063   adab(2)_pitch_shifted.wav  adab     3\n",
              "\n",
              "[1064 rows x 3 columns]"
            ],
            "text/html": [
              "\n",
              "  <div id=\"df-dd171dc3-8cb9-41fc-9710-7b06184ac2ea\">\n",
              "    <div class=\"colab-df-container\">\n",
              "      <div>\n",
              "<style scoped>\n",
              "    .dataframe tbody tr th:only-of-type {\n",
              "        vertical-align: middle;\n",
              "    }\n",
              "\n",
              "    .dataframe tbody tr th {\n",
              "        vertical-align: top;\n",
              "    }\n",
              "\n",
              "    .dataframe thead th {\n",
              "        text-align: right;\n",
              "    }\n",
              "</style>\n",
              "<table border=\"1\" class=\"dataframe\">\n",
              "  <thead>\n",
              "    <tr style=\"text-align: right;\">\n",
              "      <th></th>\n",
              "      <th>filename</th>\n",
              "      <th>class</th>\n",
              "      <th>fold</th>\n",
              "    </tr>\n",
              "  </thead>\n",
              "  <tbody>\n",
              "    <tr>\n",
              "      <th>0</th>\n",
              "      <td>buku(6)_pitch_shifted.wav</td>\n",
              "      <td>buku</td>\n",
              "      <td>3</td>\n",
              "    </tr>\n",
              "    <tr>\n",
              "      <th>1</th>\n",
              "      <td>buku(50)_pitch_shifted.wav</td>\n",
              "      <td>buku</td>\n",
              "      <td>3</td>\n",
              "    </tr>\n",
              "    <tr>\n",
              "      <th>2</th>\n",
              "      <td>buku(48)_pitch_shifted.wav</td>\n",
              "      <td>buku</td>\n",
              "      <td>3</td>\n",
              "    </tr>\n",
              "    <tr>\n",
              "      <th>3</th>\n",
              "      <td>buku(22)_pitch_shifted.wav</td>\n",
              "      <td>buku</td>\n",
              "      <td>3</td>\n",
              "    </tr>\n",
              "    <tr>\n",
              "      <th>4</th>\n",
              "      <td>buku(60)_pitch_shifted.wav</td>\n",
              "      <td>buku</td>\n",
              "      <td>3</td>\n",
              "    </tr>\n",
              "    <tr>\n",
              "      <th>...</th>\n",
              "      <td>...</td>\n",
              "      <td>...</td>\n",
              "      <td>...</td>\n",
              "    </tr>\n",
              "    <tr>\n",
              "      <th>1059</th>\n",
              "      <td>adab(25)_pitch_shifted.wav</td>\n",
              "      <td>adab</td>\n",
              "      <td>3</td>\n",
              "    </tr>\n",
              "    <tr>\n",
              "      <th>1060</th>\n",
              "      <td>adab(44)_pitch_shifted.wav</td>\n",
              "      <td>adab</td>\n",
              "      <td>3</td>\n",
              "    </tr>\n",
              "    <tr>\n",
              "      <th>1061</th>\n",
              "      <td>adab(46)_pitch_shifted.wav</td>\n",
              "      <td>adab</td>\n",
              "      <td>3</td>\n",
              "    </tr>\n",
              "    <tr>\n",
              "      <th>1062</th>\n",
              "      <td>adab(38)_pitch_shifted.wav</td>\n",
              "      <td>adab</td>\n",
              "      <td>3</td>\n",
              "    </tr>\n",
              "    <tr>\n",
              "      <th>1063</th>\n",
              "      <td>adab(2)_pitch_shifted.wav</td>\n",
              "      <td>adab</td>\n",
              "      <td>3</td>\n",
              "    </tr>\n",
              "  </tbody>\n",
              "</table>\n",
              "<p>1064 rows × 3 columns</p>\n",
              "</div>\n",
              "      <button class=\"colab-df-convert\" onclick=\"convertToInteractive('df-dd171dc3-8cb9-41fc-9710-7b06184ac2ea')\"\n",
              "              title=\"Convert this dataframe to an interactive table.\"\n",
              "              style=\"display:none;\">\n",
              "        \n",
              "  <svg xmlns=\"http://www.w3.org/2000/svg\" height=\"24px\"viewBox=\"0 0 24 24\"\n",
              "       width=\"24px\">\n",
              "    <path d=\"M0 0h24v24H0V0z\" fill=\"none\"/>\n",
              "    <path d=\"M18.56 5.44l.94 2.06.94-2.06 2.06-.94-2.06-.94-.94-2.06-.94 2.06-2.06.94zm-11 1L8.5 8.5l.94-2.06 2.06-.94-2.06-.94L8.5 2.5l-.94 2.06-2.06.94zm10 10l.94 2.06.94-2.06 2.06-.94-2.06-.94-.94-2.06-.94 2.06-2.06.94z\"/><path d=\"M17.41 7.96l-1.37-1.37c-.4-.4-.92-.59-1.43-.59-.52 0-1.04.2-1.43.59L10.3 9.45l-7.72 7.72c-.78.78-.78 2.05 0 2.83L4 21.41c.39.39.9.59 1.41.59.51 0 1.02-.2 1.41-.59l7.78-7.78 2.81-2.81c.8-.78.8-2.07 0-2.86zM5.41 20L4 18.59l7.72-7.72 1.47 1.35L5.41 20z\"/>\n",
              "  </svg>\n",
              "      </button>\n",
              "      \n",
              "  <style>\n",
              "    .colab-df-container {\n",
              "      display:flex;\n",
              "      flex-wrap:wrap;\n",
              "      gap: 12px;\n",
              "    }\n",
              "\n",
              "    .colab-df-convert {\n",
              "      background-color: #E8F0FE;\n",
              "      border: none;\n",
              "      border-radius: 50%;\n",
              "      cursor: pointer;\n",
              "      display: none;\n",
              "      fill: #1967D2;\n",
              "      height: 32px;\n",
              "      padding: 0 0 0 0;\n",
              "      width: 32px;\n",
              "    }\n",
              "\n",
              "    .colab-df-convert:hover {\n",
              "      background-color: #E2EBFA;\n",
              "      box-shadow: 0px 1px 2px rgba(60, 64, 67, 0.3), 0px 1px 3px 1px rgba(60, 64, 67, 0.15);\n",
              "      fill: #174EA6;\n",
              "    }\n",
              "\n",
              "    [theme=dark] .colab-df-convert {\n",
              "      background-color: #3B4455;\n",
              "      fill: #D2E3FC;\n",
              "    }\n",
              "\n",
              "    [theme=dark] .colab-df-convert:hover {\n",
              "      background-color: #434B5C;\n",
              "      box-shadow: 0px 1px 3px 1px rgba(0, 0, 0, 0.15);\n",
              "      filter: drop-shadow(0px 1px 2px rgba(0, 0, 0, 0.3));\n",
              "      fill: #FFFFFF;\n",
              "    }\n",
              "  </style>\n",
              "\n",
              "      <script>\n",
              "        const buttonEl =\n",
              "          document.querySelector('#df-dd171dc3-8cb9-41fc-9710-7b06184ac2ea button.colab-df-convert');\n",
              "        buttonEl.style.display =\n",
              "          google.colab.kernel.accessAllowed ? 'block' : 'none';\n",
              "\n",
              "        async function convertToInteractive(key) {\n",
              "          const element = document.querySelector('#df-dd171dc3-8cb9-41fc-9710-7b06184ac2ea');\n",
              "          const dataTable =\n",
              "            await google.colab.kernel.invokeFunction('convertToInteractive',\n",
              "                                                     [key], {});\n",
              "          if (!dataTable) return;\n",
              "\n",
              "          const docLinkHtml = 'Like what you see? Visit the ' +\n",
              "            '<a target=\"_blank\" href=https://colab.research.google.com/notebooks/data_table.ipynb>data table notebook</a>'\n",
              "            + ' to learn more about interactive tables.';\n",
              "          element.innerHTML = '';\n",
              "          dataTable['output_type'] = 'display_data';\n",
              "          await google.colab.output.renderOutput(dataTable, element);\n",
              "          const docLink = document.createElement('div');\n",
              "          docLink.innerHTML = docLinkHtml;\n",
              "          element.appendChild(docLink);\n",
              "        }\n",
              "      </script>\n",
              "    </div>\n",
              "  </div>\n",
              "  "
            ]
          },
          "metadata": {},
          "execution_count": 31
        }
      ]
    },
    {
      "cell_type": "code",
      "source": [
        "df_aug.info()"
      ],
      "metadata": {
        "id": "-C8dLswoPl-A",
        "colab": {
          "base_uri": "https://localhost:8080/"
        },
        "outputId": "2d904508-71b0-40ab-8d67-10fc85b4c53d"
      },
      "execution_count": 32,
      "outputs": [
        {
          "output_type": "stream",
          "name": "stdout",
          "text": [
            "<class 'pandas.core.frame.DataFrame'>\n",
            "RangeIndex: 1064 entries, 0 to 1063\n",
            "Data columns (total 3 columns):\n",
            " #   Column    Non-Null Count  Dtype \n",
            "---  ------    --------------  ----- \n",
            " 0   filename  1064 non-null   object\n",
            " 1   class     1064 non-null   object\n",
            " 2   fold      1064 non-null   int64 \n",
            "dtypes: int64(1), object(2)\n",
            "memory usage: 25.1+ KB\n"
          ]
        }
      ]
    },
    {
      "cell_type": "code",
      "source": [
        "df_aug.shape"
      ],
      "metadata": {
        "id": "MsUyniD8PnO-",
        "colab": {
          "base_uri": "https://localhost:8080/"
        },
        "outputId": "1c9558dc-ae6a-4d25-c808-cdf697e721b1"
      },
      "execution_count": 33,
      "outputs": [
        {
          "output_type": "execute_result",
          "data": {
            "text/plain": [
              "(1064, 3)"
            ]
          },
          "metadata": {},
          "execution_count": 33
        }
      ]
    },
    {
      "cell_type": "markdown",
      "source": [
        "### Extracting Unique Class Names\n",
        "- `class_names = df.iloc[:, 1].unique()` extracts the unique class names from the second column of the DataFrame `df`. The `iloc[:, 1]` indexing selects all rows of the second column, and the `unique()` function returns an array of unique class names.\n",
        "\n",
        "### Creating a Mapping Dictionary\n",
        "- `map_class_to_id = {class_name: class_id for class_id, class_name in enumerate(class_names)}` creates a mapping dictionary `map_class_to_id` that maps each unique class name to a unique class ID. The `enumerate()` function assigns a unique `class_id` to each `class_name`.\n",
        "\n",
        "### Assigning Class IDs to DataFrames\n",
        "- `class_id = df['class'].apply(lambda name: map_class_to_id[name])` assigns a class ID to each row in the DataFrame `df` by mapping the class name to its corresponding class ID using the `map_class_to_id` dictionary. The `apply()` function applies the lambda function to each value in the 'class' column.\n",
        "- `pd_data = df.assign(target=class_id)` assigns the class IDs as a new column named 'target' in the DataFrame `pd_data`. The `assign()` function creates a new DataFrame with the additional column.\n",
        "\n",
        "### Modifying File Paths\n",
        "- The `get_base_full_path(row)` function takes a row from the DataFrame `pd_data` and returns the full path of the original audio file by combining the dataset folder path, class name, and filename.\n",
        "- The `get_augmentation_full_path(row)` function takes a row from the DataFrame `pd_data_aug` and returns the full path of the augmented audio file by combining the augmentation folder path, class name, and filename.\n",
        "- `pd_data['filename'] = pd_data.apply(get_base_full_path, axis=1)` applies the `get_base_full_path()` function to each row in the DataFrame `pd_data` to modify the 'filename' column with the full path of the original audio file.\n",
        "- `pd_data_aug['filename'] = pd_data_aug.apply(get_augmentation_full_path, axis=1)` applies the `get_augmentation_full_path()` function to each row in the DataFrame `pd_data_aug` to modify the 'filename' column with the full path of the augmented audio file.\n",
        "\n",
        "### Merging DataFrames\n",
        "- `pd_data = pd.concat([pd_data_aug, pd_data])` merges the DataFrames `pd_data_aug` and `pd_data` using the `concat()` function from the pandas library. The result is assigned back to `pd_data`, which now contains both the original and augmented data.\n",
        "\n",
        "The code prepares the data by assigning class IDs, modifying file paths, and then merging the augmented data into the original data. These steps are crucial for maintaining data integrity and consistency throughout the merging process."
      ],
      "metadata": {
        "id": "PlzhSkx4WKQx"
      }
    },
    {
      "cell_type": "code",
      "source": [
        "# Get the unique class names from the second column of the CSV\n",
        "class_names = df.iloc[:, 1].unique()\n",
        "\n",
        "# Create the mapping dictionary\n",
        "map_class_to_id = {class_name: class_id for class_id, class_name in enumerate(class_names)}\n",
        "\n",
        "class_id = df['class'].apply(lambda name: map_class_to_id[name])\n",
        "pd_data = df.assign(target=class_id)\n",
        "pd_data_aug = df_aug.assign(target=class_id)\n",
        "\n",
        "def get_base_full_path(row):\n",
        "    class_name = row['class']\n",
        "    filename = row['filename']\n",
        "    full_path = os.path.join(DATASET, class_name, filename)\n",
        "    return full_path\n",
        "\n",
        "def get_augmentation_full_path(row):\n",
        "    class_name = row['class']\n",
        "    filename = row['filename']\n",
        "    full_path = os.path.join(AUGMENTATION_PATH, class_name, filename)\n",
        "    return full_path\n",
        "\n",
        "pd_data['filename'] = pd_data.apply(get_base_full_path, axis=1)\n",
        "pd_data_aug['filename'] = pd_data_aug.apply(get_augmentation_full_path, axis=1)\n",
        "\n",
        "pd_data = pd.concat([pd_data_aug, pd_data])"
      ],
      "metadata": {
        "id": "8-VEZQ9MURLo"
      },
      "execution_count": 34,
      "outputs": []
    },
    {
      "cell_type": "code",
      "source": [
        "pd_data"
      ],
      "metadata": {
        "id": "pZ4ujRTGVx18",
        "colab": {
          "base_uri": "https://localhost:8080/",
          "height": 424
        },
        "outputId": "28f376d9-4443-49ba-8afd-bfdb80eaba5b"
      },
      "execution_count": 35,
      "outputs": [
        {
          "output_type": "execute_result",
          "data": {
            "text/plain": [
              "                                               filename class  fold  target\n",
              "0     /content/augmentation_path/buku/buku(6)_pitch_...  buku     3       0\n",
              "1     /content/augmentation_path/buku/buku(50)_pitch...  buku     3       0\n",
              "2     /content/augmentation_path/buku/buku(48)_pitch...  buku     3       0\n",
              "3     /content/augmentation_path/buku/buku(22)_pitch...  buku     3       0\n",
              "4     /content/augmentation_path/buku/buku(60)_pitch...  buku     3       0\n",
              "...                                                 ...   ...   ...     ...\n",
              "1059     /content/calis_voice_dataset/adab/adab(45).wav  adab     4      17\n",
              "1060     /content/calis_voice_dataset/adab/adab(30).wav  adab     0      17\n",
              "1061     /content/calis_voice_dataset/adab/adab(14).wav  adab     2      17\n",
              "1062     /content/calis_voice_dataset/adab/adab(42).wav  adab     2      17\n",
              "1063     /content/calis_voice_dataset/adab/adab(35).wav  adab     3      17\n",
              "\n",
              "[2128 rows x 4 columns]"
            ],
            "text/html": [
              "\n",
              "  <div id=\"df-94be49c6-f316-4544-9174-6ffe1019c4a0\">\n",
              "    <div class=\"colab-df-container\">\n",
              "      <div>\n",
              "<style scoped>\n",
              "    .dataframe tbody tr th:only-of-type {\n",
              "        vertical-align: middle;\n",
              "    }\n",
              "\n",
              "    .dataframe tbody tr th {\n",
              "        vertical-align: top;\n",
              "    }\n",
              "\n",
              "    .dataframe thead th {\n",
              "        text-align: right;\n",
              "    }\n",
              "</style>\n",
              "<table border=\"1\" class=\"dataframe\">\n",
              "  <thead>\n",
              "    <tr style=\"text-align: right;\">\n",
              "      <th></th>\n",
              "      <th>filename</th>\n",
              "      <th>class</th>\n",
              "      <th>fold</th>\n",
              "      <th>target</th>\n",
              "    </tr>\n",
              "  </thead>\n",
              "  <tbody>\n",
              "    <tr>\n",
              "      <th>0</th>\n",
              "      <td>/content/augmentation_path/buku/buku(6)_pitch_...</td>\n",
              "      <td>buku</td>\n",
              "      <td>3</td>\n",
              "      <td>0</td>\n",
              "    </tr>\n",
              "    <tr>\n",
              "      <th>1</th>\n",
              "      <td>/content/augmentation_path/buku/buku(50)_pitch...</td>\n",
              "      <td>buku</td>\n",
              "      <td>3</td>\n",
              "      <td>0</td>\n",
              "    </tr>\n",
              "    <tr>\n",
              "      <th>2</th>\n",
              "      <td>/content/augmentation_path/buku/buku(48)_pitch...</td>\n",
              "      <td>buku</td>\n",
              "      <td>3</td>\n",
              "      <td>0</td>\n",
              "    </tr>\n",
              "    <tr>\n",
              "      <th>3</th>\n",
              "      <td>/content/augmentation_path/buku/buku(22)_pitch...</td>\n",
              "      <td>buku</td>\n",
              "      <td>3</td>\n",
              "      <td>0</td>\n",
              "    </tr>\n",
              "    <tr>\n",
              "      <th>4</th>\n",
              "      <td>/content/augmentation_path/buku/buku(60)_pitch...</td>\n",
              "      <td>buku</td>\n",
              "      <td>3</td>\n",
              "      <td>0</td>\n",
              "    </tr>\n",
              "    <tr>\n",
              "      <th>...</th>\n",
              "      <td>...</td>\n",
              "      <td>...</td>\n",
              "      <td>...</td>\n",
              "      <td>...</td>\n",
              "    </tr>\n",
              "    <tr>\n",
              "      <th>1059</th>\n",
              "      <td>/content/calis_voice_dataset/adab/adab(45).wav</td>\n",
              "      <td>adab</td>\n",
              "      <td>4</td>\n",
              "      <td>17</td>\n",
              "    </tr>\n",
              "    <tr>\n",
              "      <th>1060</th>\n",
              "      <td>/content/calis_voice_dataset/adab/adab(30).wav</td>\n",
              "      <td>adab</td>\n",
              "      <td>0</td>\n",
              "      <td>17</td>\n",
              "    </tr>\n",
              "    <tr>\n",
              "      <th>1061</th>\n",
              "      <td>/content/calis_voice_dataset/adab/adab(14).wav</td>\n",
              "      <td>adab</td>\n",
              "      <td>2</td>\n",
              "      <td>17</td>\n",
              "    </tr>\n",
              "    <tr>\n",
              "      <th>1062</th>\n",
              "      <td>/content/calis_voice_dataset/adab/adab(42).wav</td>\n",
              "      <td>adab</td>\n",
              "      <td>2</td>\n",
              "      <td>17</td>\n",
              "    </tr>\n",
              "    <tr>\n",
              "      <th>1063</th>\n",
              "      <td>/content/calis_voice_dataset/adab/adab(35).wav</td>\n",
              "      <td>adab</td>\n",
              "      <td>3</td>\n",
              "      <td>17</td>\n",
              "    </tr>\n",
              "  </tbody>\n",
              "</table>\n",
              "<p>2128 rows × 4 columns</p>\n",
              "</div>\n",
              "      <button class=\"colab-df-convert\" onclick=\"convertToInteractive('df-94be49c6-f316-4544-9174-6ffe1019c4a0')\"\n",
              "              title=\"Convert this dataframe to an interactive table.\"\n",
              "              style=\"display:none;\">\n",
              "        \n",
              "  <svg xmlns=\"http://www.w3.org/2000/svg\" height=\"24px\"viewBox=\"0 0 24 24\"\n",
              "       width=\"24px\">\n",
              "    <path d=\"M0 0h24v24H0V0z\" fill=\"none\"/>\n",
              "    <path d=\"M18.56 5.44l.94 2.06.94-2.06 2.06-.94-2.06-.94-.94-2.06-.94 2.06-2.06.94zm-11 1L8.5 8.5l.94-2.06 2.06-.94-2.06-.94L8.5 2.5l-.94 2.06-2.06.94zm10 10l.94 2.06.94-2.06 2.06-.94-2.06-.94-.94-2.06-.94 2.06-2.06.94z\"/><path d=\"M17.41 7.96l-1.37-1.37c-.4-.4-.92-.59-1.43-.59-.52 0-1.04.2-1.43.59L10.3 9.45l-7.72 7.72c-.78.78-.78 2.05 0 2.83L4 21.41c.39.39.9.59 1.41.59.51 0 1.02-.2 1.41-.59l7.78-7.78 2.81-2.81c.8-.78.8-2.07 0-2.86zM5.41 20L4 18.59l7.72-7.72 1.47 1.35L5.41 20z\"/>\n",
              "  </svg>\n",
              "      </button>\n",
              "      \n",
              "  <style>\n",
              "    .colab-df-container {\n",
              "      display:flex;\n",
              "      flex-wrap:wrap;\n",
              "      gap: 12px;\n",
              "    }\n",
              "\n",
              "    .colab-df-convert {\n",
              "      background-color: #E8F0FE;\n",
              "      border: none;\n",
              "      border-radius: 50%;\n",
              "      cursor: pointer;\n",
              "      display: none;\n",
              "      fill: #1967D2;\n",
              "      height: 32px;\n",
              "      padding: 0 0 0 0;\n",
              "      width: 32px;\n",
              "    }\n",
              "\n",
              "    .colab-df-convert:hover {\n",
              "      background-color: #E2EBFA;\n",
              "      box-shadow: 0px 1px 2px rgba(60, 64, 67, 0.3), 0px 1px 3px 1px rgba(60, 64, 67, 0.15);\n",
              "      fill: #174EA6;\n",
              "    }\n",
              "\n",
              "    [theme=dark] .colab-df-convert {\n",
              "      background-color: #3B4455;\n",
              "      fill: #D2E3FC;\n",
              "    }\n",
              "\n",
              "    [theme=dark] .colab-df-convert:hover {\n",
              "      background-color: #434B5C;\n",
              "      box-shadow: 0px 1px 3px 1px rgba(0, 0, 0, 0.15);\n",
              "      filter: drop-shadow(0px 1px 2px rgba(0, 0, 0, 0.3));\n",
              "      fill: #FFFFFF;\n",
              "    }\n",
              "  </style>\n",
              "\n",
              "      <script>\n",
              "        const buttonEl =\n",
              "          document.querySelector('#df-94be49c6-f316-4544-9174-6ffe1019c4a0 button.colab-df-convert');\n",
              "        buttonEl.style.display =\n",
              "          google.colab.kernel.accessAllowed ? 'block' : 'none';\n",
              "\n",
              "        async function convertToInteractive(key) {\n",
              "          const element = document.querySelector('#df-94be49c6-f316-4544-9174-6ffe1019c4a0');\n",
              "          const dataTable =\n",
              "            await google.colab.kernel.invokeFunction('convertToInteractive',\n",
              "                                                     [key], {});\n",
              "          if (!dataTable) return;\n",
              "\n",
              "          const docLinkHtml = 'Like what you see? Visit the ' +\n",
              "            '<a target=\"_blank\" href=https://colab.research.google.com/notebooks/data_table.ipynb>data table notebook</a>'\n",
              "            + ' to learn more about interactive tables.';\n",
              "          element.innerHTML = '';\n",
              "          dataTable['output_type'] = 'display_data';\n",
              "          await google.colab.output.renderOutput(dataTable, element);\n",
              "          const docLink = document.createElement('div');\n",
              "          docLink.innerHTML = docLinkHtml;\n",
              "          element.appendChild(docLink);\n",
              "        }\n",
              "      </script>\n",
              "    </div>\n",
              "  </div>\n",
              "  "
            ]
          },
          "metadata": {},
          "execution_count": 35
        }
      ]
    },
    {
      "cell_type": "markdown",
      "source": [
        "### Load Audio Files and Retrieve Embeddings\n",
        "\n",
        "In this step, the `load_wav_16k_mono` function is used to load the WAV audio files and prepare the data for the model. The loaded audio is processed to extract embeddings, resulting in an array with a shape of `(N, 1024)`. The value `N` represents the number of frames that YAMNet has detected, with each frame corresponding to approximately 0.48 seconds of audio. The extracted embeddings capture meaningful information about the audio content and will be used as input for further analysis or model training."
      ],
      "metadata": {
        "id": "sREo9h-SWigb"
      }
    },
    {
      "cell_type": "markdown",
      "source": [
        "### Reshaping Data for Frame-level Inputs\n",
        "\n",
        "To prepare the data for frame-level modeling, each frame needs to be treated as an individual input. This requires transforming the dataset so that each frame is represented by a separate row.\n",
        "\n",
        "To achieve this, a new column is created where each row corresponds to one frame. The labels and the `fold` column are expanded to properly reflect these new rows. The expanded `fold` column retains the original values to ensure that parts of the same audio are not split across different folds during the validation and test steps. This separation is crucial to maintain the effectiveness of the validation and test procedures.\n",
        "\n",
        "By reshaping the data in this manner, the model can process each frame individually, enabling more granular analysis and leveraging the temporal information present in the audio data."
      ],
      "metadata": {
        "id": "MLEWRjofXoS4"
      }
    },
    {
      "cell_type": "code",
      "source": [
        "# Extract the filenames, targets, and folds from the provided pandas DataFrame\n",
        "filenames = pd_data['filename']\n",
        "targets = pd_data['target']\n",
        "folds = pd_data['fold']\n",
        "\n",
        "# Create a TensorFlow Dataset from the extracted data\n",
        "main_ds = tf.data.Dataset.from_tensor_slices((filenames, targets, folds))\n",
        "\n",
        "# Print the element specification of the main dataset\n",
        "main_ds.element_spec"
      ],
      "metadata": {
        "id": "4GtL3uWfVsbS",
        "colab": {
          "base_uri": "https://localhost:8080/"
        },
        "outputId": "eabce5cc-8d29-43e4-faca-2a7be39b6df6"
      },
      "execution_count": 36,
      "outputs": [
        {
          "output_type": "execute_result",
          "data": {
            "text/plain": [
              "(TensorSpec(shape=(), dtype=tf.string, name=None),\n",
              " TensorSpec(shape=(), dtype=tf.int64, name=None),\n",
              " TensorSpec(shape=(), dtype=tf.int64, name=None))"
            ]
          },
          "metadata": {},
          "execution_count": 36
        }
      ]
    },
    {
      "cell_type": "code",
      "source": [
        "def load_wav_for_map(filename, label, fold):\n",
        "  return load_wav_16k_mono(filename), label, fold\n",
        "\n",
        "main_ds = main_ds.map(load_wav_for_map)\n",
        "main_ds.element_spec"
      ],
      "metadata": {
        "id": "ycDP8ndsWGtP",
        "colab": {
          "base_uri": "https://localhost:8080/"
        },
        "outputId": "73aa281b-0459-4275-fec6-e82b55e7d29d"
      },
      "execution_count": 37,
      "outputs": [
        {
          "output_type": "stream",
          "name": "stderr",
          "text": [
            "WARNING:tensorflow:Using a while_loop for converting IO>AudioResample cause there is no registered converter for this op.\n"
          ]
        },
        {
          "output_type": "execute_result",
          "data": {
            "text/plain": [
              "(TensorSpec(shape=<unknown>, dtype=tf.float32, name=None),\n",
              " TensorSpec(shape=(), dtype=tf.int64, name=None),\n",
              " TensorSpec(shape=(), dtype=tf.int64, name=None))"
            ]
          },
          "metadata": {},
          "execution_count": 37
        }
      ]
    },
    {
      "cell_type": "code",
      "source": [
        "# applies the embedding extraction model to a wav data\n",
        "def extract_embedding(wav_data, label, fold):\n",
        "  ''' run YAMNet to extract embedding from the wav data '''\n",
        "  scores, embeddings, spectrogram = yamnet_model(wav_data)\n",
        "  # TODO: Coba liat satu spectrogram bentuknya beres apa ngga\n",
        "  # Tutorial: https://www.tensorflow.org/hub/tutorials/yamnet\n",
        "  num_embeddings = tf.shape(embeddings)[0]\n",
        "  return (embeddings,\n",
        "            tf.repeat(label, num_embeddings),\n",
        "            tf.repeat(fold, num_embeddings))\n",
        "\n",
        "# extract embedding\n",
        "main_ds = main_ds.map(extract_embedding).unbatch()\n",
        "main_ds.element_spec\n",
        "\n",
        "# wav_data ambil dari main_ds, ambil satu aja\n",
        "# scores, embeddings, spectrogram = yamnet_model(wav_data)\n",
        "#\n",
        "# TODO: Coba liat satu spectrogram bentuknya beres apa ngga\n",
        "# Tutorial: https://www.tensorflow.org/hub/tutorials/yamnet\n",
        "# Visualisasi waveformnya juga"
      ],
      "metadata": {
        "id": "08xRgYlYWP1S",
        "colab": {
          "base_uri": "https://localhost:8080/"
        },
        "outputId": "73c5648f-d78c-448d-fabe-1c63ee940a40"
      },
      "execution_count": 38,
      "outputs": [
        {
          "output_type": "execute_result",
          "data": {
            "text/plain": [
              "(TensorSpec(shape=(1024,), dtype=tf.float32, name=None),\n",
              " TensorSpec(shape=(), dtype=tf.int64, name=None),\n",
              " TensorSpec(shape=(), dtype=tf.int64, name=None))"
            ]
          },
          "metadata": {},
          "execution_count": 38
        }
      ]
    },
    {
      "cell_type": "markdown",
      "source": [
        "# Caching and Preparing Datasets\n",
        "\n",
        "To optimize performance and ensure faster access to the data, the main dataset (`main_ds`) is cached using `cached_ds`. This allows subsequent operations to retrieve the data from the cache rather than reading it from the original source.\n",
        "\n",
        "The cached dataset is then filtered to create three separate datasets: `train_ds`, `val_ds`, and `test_ds`. Each dataset is based on the values of the `fold` column. The training dataset (`train_ds`) contains samples where the fold value is greater than 1, the validation dataset (`val_ds`) contains samples where the fold value is 1, and the test dataset (`test_ds`) contains samples where the fold value is 0.\n",
        "\n",
        "Since the fold column is no longer needed for further processing, it is removed from the datasets using a mapping function.\n",
        "\n",
        "For the training dataset, additional operations are performed to optimize training efficiency. The training dataset is cached again to improve access speed, shuffled to introduce randomness during training, batched into batches of size 32 for efficient processing, and prefetched to overlap the preprocessing and model execution.\n",
        "\n",
        "Similarly, the validation and test datasets are also cached for faster access, batched for processing, and prefetched for performance optimization.\n",
        "\n",
        "By applying these caching and preprocessing steps, the datasets are prepared in an efficient and optimized manner for training, validation, and testing of the model."
      ],
      "metadata": {
        "id": "lWxlUjUwX1XI"
      }
    },
    {
      "cell_type": "code",
      "source": [
        "# Cache the main dataset for faster access\n",
        "cached_ds = main_ds.cache()\n",
        "\n",
        "# Filter the cached dataset to create training, validation, and test datasets based on fold values\n",
        "train_ds = cached_ds.filter(lambda embedding, label, fold: fold > 1)\n",
        "val_ds = cached_ds.filter(lambda embedding, label, fold: fold == 1)\n",
        "test_ds = cached_ds.filter(lambda embedding, label, fold: fold == 0)\n",
        "\n",
        "# Remove the folds column from the datasets since it's no longer needed\n",
        "remove_fold_column = lambda embedding, label, fold: (embedding, label)\n",
        "train_ds = train_ds.map(remove_fold_column)\n",
        "val_ds = val_ds.map(remove_fold_column)\n",
        "test_ds = test_ds.map(remove_fold_column)\n",
        "\n",
        "# Cache, shuffle, batch, and prefetch the training dataset\n",
        "train_ds = train_ds.cache().shuffle(1000).batch(32).prefetch(tf.data.AUTOTUNE)\n",
        "\n",
        "# Cache, batch, and prefetch the validation dataset\n",
        "val_ds = val_ds.cache().batch(32).prefetch(tf.data.AUTOTUNE)\n",
        "\n",
        "# Cache, batch, and prefetch the test dataset\n",
        "test_ds = test_ds.cache().batch(32).prefetch(tf.data.AUTOTUNE)"
      ],
      "metadata": {
        "id": "qCQpXVl1WX8e"
      },
      "execution_count": 39,
      "outputs": []
    },
    {
      "cell_type": "markdown",
      "source": [
        "# Model Definition and Compilation\n",
        "\n",
        "The model is defined using the `Sequential` API from TensorFlow Keras. It consists of several layers:\n",
        "\n",
        "1. The input layer (`Input`) with a shape of (1024,), representing the size of each embedding.\n",
        "2. A fully connected layer (`Dense`) with 5555 units and a ReLU activation function.\n",
        "3. Another fully connected layer (`Dense`) with 1024 units and a ReLU activation function.\n",
        "4. The output layer (`Dense`) with 18 units and a softmax activation function, which outputs the probability distribution over the 18 classes.\n",
        "\n",
        "The model summary provides an overview of the model architecture, including the layer types, shapes, and the number of parameters.\n",
        "\n",
        "After defining the model, it is compiled using the Adam optimizer, which is a popular optimization algorithm. The loss function used is the sparse categorical cross-entropy, suitable for multi-class classification tasks. The model's performance will be evaluated based on the accuracy metric.\n",
        "\n",
        "# Model Training\n",
        "\n",
        "The model is trained using the `fit` function. The training data is provided through the `train_ds` dataset, and the validation data is provided through the `val_ds` dataset. The model is trained for 100 epochs, meaning it will iterate over the training data 100 times.\n",
        "\n",
        "During training, the model's performance and progress are monitored, and the training history is stored in the `history` variable. This history object can be used to analyze the training metrics and visualize the training progress.\n",
        "\n",
        "Callbacks can also be added during training to perform specific actions at different stages, such as saving the best model weights or early stopping based on certain conditions. However, the callbacks are not specified in the provided code.\n",
        "\n",
        "By executing this code, the model will be compiled, trained, and the training history will be saved in the `history` variable."
      ],
      "metadata": {
        "id": "BAM5fLM-YQGB"
      }
    },
    {
      "cell_type": "code",
      "source": [
        "# Define the model\n",
        "model = tf.keras.models.Sequential([\n",
        "    tf.keras.layers.Input(shape=(1024,), dtype=tf.float32, name='input_embedding'),\n",
        "    tf.keras.layers.Dense(5555, activation='relu'),\n",
        "    tf.keras.layers.Dense(1024, activation='relu'),\n",
        "    # tf.keras.layers.Dropout(0.2),\n",
        "    tf.keras.layers.Dense(18, activation='softmax')\n",
        "])\n",
        "model.summary()\n",
        "\n",
        "# Compile the model\n",
        "model.compile(optimizer='adam',\n",
        "              loss=tf.keras.losses.SparseCategoricalCrossentropy(from_logits=True),\n",
        "              metrics=['accuracy'])\n",
        "\n",
        "# Fit the model for 100 epochs and save the training history\n",
        "history = model.fit(train_ds, epochs=100, validation_data=val_ds)"
      ],
      "metadata": {
        "id": "aW_mN2gSW7bB",
        "colab": {
          "base_uri": "https://localhost:8080/"
        },
        "outputId": "6ddade5b-2b3f-4bcf-b41c-6d0ad17bcd6a"
      },
      "execution_count": 40,
      "outputs": [
        {
          "output_type": "stream",
          "name": "stdout",
          "text": [
            "Model: \"sequential\"\n",
            "_________________________________________________________________\n",
            " Layer (type)                Output Shape              Param #   \n",
            "=================================================================\n",
            " dense (Dense)               (None, 5555)              5693875   \n",
            "                                                                 \n",
            " dense_1 (Dense)             (None, 1024)              5689344   \n",
            "                                                                 \n",
            " dense_2 (Dense)             (None, 18)                18450     \n",
            "                                                                 \n",
            "=================================================================\n",
            "Total params: 11,401,669\n",
            "Trainable params: 11,401,669\n",
            "Non-trainable params: 0\n",
            "_________________________________________________________________\n",
            "Epoch 1/100\n"
          ]
        },
        {
          "output_type": "stream",
          "name": "stderr",
          "text": [
            "/usr/local/lib/python3.10/dist-packages/keras/backend.py:5612: UserWarning: \"`sparse_categorical_crossentropy` received `from_logits=True`, but the `output` argument was produced by a Softmax activation and thus does not represent logits. Was this intended?\n",
            "  output, from_logits = _get_logits(\n"
          ]
        },
        {
          "output_type": "stream",
          "name": "stdout",
          "text": [
            "162/162 [==============================] - 64s 301ms/step - loss: 2.6225 - accuracy: 0.1919 - val_loss: 2.7832 - val_accuracy: 0.2016\n",
            "Epoch 2/100\n",
            "162/162 [==============================] - 1s 5ms/step - loss: 2.1906 - accuracy: 0.2900 - val_loss: 2.4312 - val_accuracy: 0.2641\n",
            "Epoch 3/100\n",
            "162/162 [==============================] - 1s 6ms/step - loss: 1.8519 - accuracy: 0.4007 - val_loss: 2.1336 - val_accuracy: 0.3156\n",
            "Epoch 4/100\n",
            "162/162 [==============================] - 1s 6ms/step - loss: 1.5099 - accuracy: 0.5030 - val_loss: 1.8627 - val_accuracy: 0.4156\n",
            "Epoch 5/100\n",
            "162/162 [==============================] - 1s 7ms/step - loss: 1.2171 - accuracy: 0.5997 - val_loss: 1.5928 - val_accuracy: 0.4844\n",
            "Epoch 6/100\n",
            "162/162 [==============================] - 1s 7ms/step - loss: 0.9992 - accuracy: 0.6718 - val_loss: 1.4585 - val_accuracy: 0.5344\n",
            "Epoch 7/100\n",
            "162/162 [==============================] - 1s 8ms/step - loss: 0.8264 - accuracy: 0.7350 - val_loss: 1.1775 - val_accuracy: 0.6016\n",
            "Epoch 8/100\n",
            "162/162 [==============================] - 1s 8ms/step - loss: 0.6636 - accuracy: 0.7819 - val_loss: 0.9229 - val_accuracy: 0.6859\n",
            "Epoch 9/100\n",
            "162/162 [==============================] - 1s 5ms/step - loss: 0.5252 - accuracy: 0.8347 - val_loss: 0.7111 - val_accuracy: 0.7812\n",
            "Epoch 10/100\n",
            "162/162 [==============================] - 1s 5ms/step - loss: 0.4261 - accuracy: 0.8614 - val_loss: 0.5979 - val_accuracy: 0.8000\n",
            "Epoch 11/100\n",
            "162/162 [==============================] - 1s 5ms/step - loss: 0.3649 - accuracy: 0.8862 - val_loss: 0.5178 - val_accuracy: 0.8406\n",
            "Epoch 12/100\n",
            "162/162 [==============================] - 1s 5ms/step - loss: 0.3125 - accuracy: 0.9060 - val_loss: 0.3704 - val_accuracy: 0.8797\n",
            "Epoch 13/100\n",
            "162/162 [==============================] - 1s 5ms/step - loss: 0.2768 - accuracy: 0.9167 - val_loss: 0.3254 - val_accuracy: 0.9047\n",
            "Epoch 14/100\n",
            "162/162 [==============================] - 1s 6ms/step - loss: 0.2610 - accuracy: 0.9192 - val_loss: 0.3657 - val_accuracy: 0.8906\n",
            "Epoch 15/100\n",
            "162/162 [==============================] - 1s 6ms/step - loss: 0.2383 - accuracy: 0.9287 - val_loss: 0.2420 - val_accuracy: 0.9297\n",
            "Epoch 16/100\n",
            "162/162 [==============================] - 1s 5ms/step - loss: 0.2256 - accuracy: 0.9300 - val_loss: 0.2490 - val_accuracy: 0.9328\n",
            "Epoch 17/100\n",
            "162/162 [==============================] - 1s 5ms/step - loss: 0.2237 - accuracy: 0.9324 - val_loss: 0.2845 - val_accuracy: 0.9187\n",
            "Epoch 18/100\n",
            "162/162 [==============================] - 1s 5ms/step - loss: 0.2346 - accuracy: 0.9275 - val_loss: 0.3312 - val_accuracy: 0.9000\n",
            "Epoch 19/100\n",
            "162/162 [==============================] - 1s 5ms/step - loss: 0.2803 - accuracy: 0.9118 - val_loss: 0.2634 - val_accuracy: 0.9266\n",
            "Epoch 20/100\n",
            "162/162 [==============================] - 1s 5ms/step - loss: 0.2259 - accuracy: 0.9312 - val_loss: 0.2572 - val_accuracy: 0.9250\n",
            "Epoch 21/100\n",
            "162/162 [==============================] - 1s 5ms/step - loss: 0.2089 - accuracy: 0.9358 - val_loss: 0.2424 - val_accuracy: 0.9203\n",
            "Epoch 22/100\n",
            "162/162 [==============================] - 1s 5ms/step - loss: 0.2309 - accuracy: 0.9287 - val_loss: 0.2346 - val_accuracy: 0.9266\n",
            "Epoch 23/100\n",
            "162/162 [==============================] - 1s 5ms/step - loss: 0.2089 - accuracy: 0.9341 - val_loss: 0.2358 - val_accuracy: 0.9391\n",
            "Epoch 24/100\n",
            "162/162 [==============================] - 1s 5ms/step - loss: 0.1926 - accuracy: 0.9415 - val_loss: 0.3131 - val_accuracy: 0.8969\n",
            "Epoch 25/100\n",
            "162/162 [==============================] - 1s 5ms/step - loss: 0.2126 - accuracy: 0.9372 - val_loss: 0.2639 - val_accuracy: 0.9141\n",
            "Epoch 26/100\n",
            "162/162 [==============================] - 1s 5ms/step - loss: 0.2340 - accuracy: 0.9256 - val_loss: 0.2505 - val_accuracy: 0.9203\n",
            "Epoch 27/100\n",
            "162/162 [==============================] - 1s 6ms/step - loss: 0.2288 - accuracy: 0.9291 - val_loss: 0.2652 - val_accuracy: 0.9203\n",
            "Epoch 28/100\n",
            "162/162 [==============================] - 1s 6ms/step - loss: 0.2255 - accuracy: 0.9318 - val_loss: 0.2096 - val_accuracy: 0.9391\n",
            "Epoch 29/100\n",
            "162/162 [==============================] - 1s 5ms/step - loss: 0.2019 - accuracy: 0.9376 - val_loss: 0.2833 - val_accuracy: 0.9187\n",
            "Epoch 30/100\n",
            "162/162 [==============================] - 1s 5ms/step - loss: 0.1996 - accuracy: 0.9366 - val_loss: 0.1948 - val_accuracy: 0.9375\n",
            "Epoch 31/100\n",
            "162/162 [==============================] - 1s 5ms/step - loss: 0.1831 - accuracy: 0.9417 - val_loss: 0.1889 - val_accuracy: 0.9422\n",
            "Epoch 32/100\n",
            "162/162 [==============================] - 1s 5ms/step - loss: 0.1592 - accuracy: 0.9473 - val_loss: 0.1642 - val_accuracy: 0.9484\n",
            "Epoch 33/100\n",
            "162/162 [==============================] - 1s 5ms/step - loss: 0.1642 - accuracy: 0.9484 - val_loss: 0.1738 - val_accuracy: 0.9500\n",
            "Epoch 34/100\n",
            "162/162 [==============================] - 1s 5ms/step - loss: 0.1433 - accuracy: 0.9543 - val_loss: 0.1717 - val_accuracy: 0.9484\n",
            "Epoch 35/100\n",
            "162/162 [==============================] - 1s 5ms/step - loss: 0.1422 - accuracy: 0.9541 - val_loss: 0.1707 - val_accuracy: 0.9484\n",
            "Epoch 36/100\n",
            "162/162 [==============================] - 1s 5ms/step - loss: 0.1431 - accuracy: 0.9531 - val_loss: 0.1586 - val_accuracy: 0.9547\n",
            "Epoch 37/100\n",
            "162/162 [==============================] - 1s 5ms/step - loss: 0.1369 - accuracy: 0.9541 - val_loss: 0.1542 - val_accuracy: 0.9531\n",
            "Epoch 38/100\n",
            "162/162 [==============================] - 1s 5ms/step - loss: 0.1332 - accuracy: 0.9556 - val_loss: 0.1626 - val_accuracy: 0.9531\n",
            "Epoch 39/100\n",
            "162/162 [==============================] - 1s 6ms/step - loss: 0.1328 - accuracy: 0.9556 - val_loss: 0.1631 - val_accuracy: 0.9563\n",
            "Epoch 40/100\n",
            "162/162 [==============================] - 1s 6ms/step - loss: 0.1310 - accuracy: 0.9583 - val_loss: 0.1516 - val_accuracy: 0.9531\n",
            "Epoch 41/100\n",
            "162/162 [==============================] - 1s 6ms/step - loss: 0.1260 - accuracy: 0.9607 - val_loss: 0.1649 - val_accuracy: 0.9516\n",
            "Epoch 42/100\n",
            "162/162 [==============================] - 1s 5ms/step - loss: 0.1238 - accuracy: 0.9608 - val_loss: 0.1683 - val_accuracy: 0.9516\n",
            "Epoch 43/100\n",
            "162/162 [==============================] - 1s 5ms/step - loss: 0.1206 - accuracy: 0.9618 - val_loss: 0.1654 - val_accuracy: 0.9563\n",
            "Epoch 44/100\n",
            "162/162 [==============================] - 1s 5ms/step - loss: 0.1359 - accuracy: 0.9572 - val_loss: 0.2537 - val_accuracy: 0.9359\n",
            "Epoch 45/100\n",
            "162/162 [==============================] - 1s 5ms/step - loss: 0.4679 - accuracy: 0.8659 - val_loss: 0.5233 - val_accuracy: 0.8344\n",
            "Epoch 46/100\n",
            "162/162 [==============================] - 1s 5ms/step - loss: 0.2885 - accuracy: 0.9120 - val_loss: 0.2421 - val_accuracy: 0.9187\n",
            "Epoch 47/100\n",
            "162/162 [==============================] - 1s 5ms/step - loss: 0.1619 - accuracy: 0.9502 - val_loss: 0.1864 - val_accuracy: 0.9500\n",
            "Epoch 48/100\n",
            "162/162 [==============================] - 1s 5ms/step - loss: 0.1363 - accuracy: 0.9589 - val_loss: 0.1645 - val_accuracy: 0.9484\n",
            "Epoch 49/100\n",
            "162/162 [==============================] - 1s 5ms/step - loss: 0.1153 - accuracy: 0.9639 - val_loss: 0.1407 - val_accuracy: 0.9547\n",
            "Epoch 50/100\n",
            "162/162 [==============================] - 1s 5ms/step - loss: 0.1077 - accuracy: 0.9665 - val_loss: 0.1292 - val_accuracy: 0.9563\n",
            "Epoch 51/100\n",
            "162/162 [==============================] - 1s 5ms/step - loss: 0.1044 - accuracy: 0.9661 - val_loss: 0.1414 - val_accuracy: 0.9578\n",
            "Epoch 52/100\n",
            "162/162 [==============================] - 1s 8ms/step - loss: 0.1049 - accuracy: 0.9659 - val_loss: 0.1197 - val_accuracy: 0.9594\n",
            "Epoch 53/100\n",
            "162/162 [==============================] - 1s 9ms/step - loss: 0.1007 - accuracy: 0.9692 - val_loss: 0.1186 - val_accuracy: 0.9578\n",
            "Epoch 54/100\n",
            "162/162 [==============================] - 1s 7ms/step - loss: 0.0955 - accuracy: 0.9709 - val_loss: 0.1172 - val_accuracy: 0.9578\n",
            "Epoch 55/100\n",
            "162/162 [==============================] - 1s 7ms/step - loss: 0.0960 - accuracy: 0.9678 - val_loss: 0.1199 - val_accuracy: 0.9578\n",
            "Epoch 56/100\n",
            "162/162 [==============================] - 1s 7ms/step - loss: 0.0907 - accuracy: 0.9709 - val_loss: 0.1301 - val_accuracy: 0.9563\n",
            "Epoch 57/100\n",
            "162/162 [==============================] - 1s 8ms/step - loss: 0.0943 - accuracy: 0.9690 - val_loss: 0.1378 - val_accuracy: 0.9578\n",
            "Epoch 58/100\n",
            "162/162 [==============================] - 1s 8ms/step - loss: 0.0946 - accuracy: 0.9709 - val_loss: 0.1271 - val_accuracy: 0.9625\n",
            "Epoch 59/100\n",
            "162/162 [==============================] - 1s 9ms/step - loss: 0.0895 - accuracy: 0.9700 - val_loss: 0.1296 - val_accuracy: 0.9594\n",
            "Epoch 60/100\n",
            "162/162 [==============================] - 2s 14ms/step - loss: 0.0870 - accuracy: 0.9727 - val_loss: 0.1148 - val_accuracy: 0.9563\n",
            "Epoch 61/100\n",
            "162/162 [==============================] - 1s 8ms/step - loss: 0.0824 - accuracy: 0.9746 - val_loss: 0.1225 - val_accuracy: 0.9609\n",
            "Epoch 62/100\n",
            "162/162 [==============================] - 1s 8ms/step - loss: 0.0816 - accuracy: 0.9740 - val_loss: 0.1190 - val_accuracy: 0.9594\n",
            "Epoch 63/100\n",
            "162/162 [==============================] - 1s 7ms/step - loss: 0.2550 - accuracy: 0.9252 - val_loss: 0.7438 - val_accuracy: 0.7656\n",
            "Epoch 64/100\n",
            "162/162 [==============================] - 1s 7ms/step - loss: 0.3547 - accuracy: 0.8907 - val_loss: 0.3653 - val_accuracy: 0.9016\n",
            "Epoch 65/100\n",
            "162/162 [==============================] - 1s 6ms/step - loss: 0.1741 - accuracy: 0.9515 - val_loss: 0.1778 - val_accuracy: 0.9453\n",
            "Epoch 66/100\n",
            "162/162 [==============================] - 1s 5ms/step - loss: 0.0939 - accuracy: 0.9709 - val_loss: 0.1144 - val_accuracy: 0.9625\n",
            "Epoch 67/100\n",
            "162/162 [==============================] - 1s 5ms/step - loss: 0.0801 - accuracy: 0.9748 - val_loss: 0.1315 - val_accuracy: 0.9609\n",
            "Epoch 68/100\n",
            "162/162 [==============================] - 1s 5ms/step - loss: 0.0766 - accuracy: 0.9767 - val_loss: 0.1104 - val_accuracy: 0.9641\n",
            "Epoch 69/100\n",
            "162/162 [==============================] - 1s 6ms/step - loss: 0.0765 - accuracy: 0.9771 - val_loss: 0.1108 - val_accuracy: 0.9625\n",
            "Epoch 70/100\n",
            "162/162 [==============================] - 1s 6ms/step - loss: 0.0707 - accuracy: 0.9773 - val_loss: 0.0912 - val_accuracy: 0.9688\n",
            "Epoch 71/100\n",
            "162/162 [==============================] - 1s 5ms/step - loss: 0.0652 - accuracy: 0.9775 - val_loss: 0.1042 - val_accuracy: 0.9672\n",
            "Epoch 72/100\n",
            "162/162 [==============================] - 1s 5ms/step - loss: 0.0637 - accuracy: 0.9812 - val_loss: 0.0983 - val_accuracy: 0.9656\n",
            "Epoch 73/100\n",
            "162/162 [==============================] - 1s 5ms/step - loss: 0.0718 - accuracy: 0.9758 - val_loss: 0.1024 - val_accuracy: 0.9656\n",
            "Epoch 74/100\n",
            "162/162 [==============================] - 1s 5ms/step - loss: 0.0622 - accuracy: 0.9795 - val_loss: 0.0933 - val_accuracy: 0.9688\n",
            "Epoch 75/100\n",
            "162/162 [==============================] - 1s 5ms/step - loss: 0.0602 - accuracy: 0.9802 - val_loss: 0.0845 - val_accuracy: 0.9703\n",
            "Epoch 76/100\n",
            "162/162 [==============================] - 1s 5ms/step - loss: 0.0599 - accuracy: 0.9798 - val_loss: 0.0890 - val_accuracy: 0.9656\n",
            "Epoch 77/100\n",
            "162/162 [==============================] - 1s 5ms/step - loss: 0.0636 - accuracy: 0.9789 - val_loss: 0.1009 - val_accuracy: 0.9672\n",
            "Epoch 78/100\n",
            "162/162 [==============================] - 1s 5ms/step - loss: 0.0603 - accuracy: 0.9808 - val_loss: 0.0992 - val_accuracy: 0.9641\n",
            "Epoch 79/100\n",
            "162/162 [==============================] - 1s 5ms/step - loss: 0.0567 - accuracy: 0.9810 - val_loss: 0.1476 - val_accuracy: 0.9594\n",
            "Epoch 80/100\n",
            "162/162 [==============================] - 1s 5ms/step - loss: 0.2241 - accuracy: 0.9364 - val_loss: 0.6615 - val_accuracy: 0.7906\n",
            "Epoch 81/100\n",
            "162/162 [==============================] - 1s 5ms/step - loss: 0.3148 - accuracy: 0.9073 - val_loss: 0.2649 - val_accuracy: 0.9234\n",
            "Epoch 82/100\n",
            "162/162 [==============================] - 1s 6ms/step - loss: 0.1247 - accuracy: 0.9608 - val_loss: 0.1489 - val_accuracy: 0.9531\n",
            "Epoch 83/100\n",
            "162/162 [==============================] - 1s 5ms/step - loss: 0.0740 - accuracy: 0.9762 - val_loss: 0.1167 - val_accuracy: 0.9641\n",
            "Epoch 84/100\n",
            "162/162 [==============================] - 1s 5ms/step - loss: 0.0692 - accuracy: 0.9783 - val_loss: 0.1052 - val_accuracy: 0.9609\n",
            "Epoch 85/100\n",
            "162/162 [==============================] - 1s 5ms/step - loss: 0.0810 - accuracy: 0.9771 - val_loss: 0.0849 - val_accuracy: 0.9719\n",
            "Epoch 86/100\n",
            "162/162 [==============================] - 1s 5ms/step - loss: 0.0661 - accuracy: 0.9777 - val_loss: 0.1221 - val_accuracy: 0.9594\n",
            "Epoch 87/100\n",
            "162/162 [==============================] - 1s 5ms/step - loss: 0.0573 - accuracy: 0.9816 - val_loss: 0.0754 - val_accuracy: 0.9750\n",
            "Epoch 88/100\n",
            "162/162 [==============================] - 1s 5ms/step - loss: 0.0473 - accuracy: 0.9855 - val_loss: 0.0754 - val_accuracy: 0.9734\n",
            "Epoch 89/100\n",
            "162/162 [==============================] - 1s 5ms/step - loss: 0.0484 - accuracy: 0.9839 - val_loss: 0.0777 - val_accuracy: 0.9734\n",
            "Epoch 90/100\n",
            "162/162 [==============================] - 1s 5ms/step - loss: 0.0511 - accuracy: 0.9826 - val_loss: 0.0885 - val_accuracy: 0.9688\n",
            "Epoch 91/100\n",
            "162/162 [==============================] - 1s 5ms/step - loss: 0.0455 - accuracy: 0.9858 - val_loss: 0.0651 - val_accuracy: 0.9766\n",
            "Epoch 92/100\n",
            "162/162 [==============================] - 1s 5ms/step - loss: 0.0452 - accuracy: 0.9860 - val_loss: 0.0738 - val_accuracy: 0.9750\n",
            "Epoch 93/100\n",
            "162/162 [==============================] - 1s 5ms/step - loss: 0.0508 - accuracy: 0.9845 - val_loss: 0.0710 - val_accuracy: 0.9750\n",
            "Epoch 94/100\n",
            "162/162 [==============================] - 1s 5ms/step - loss: 0.0563 - accuracy: 0.9810 - val_loss: 0.1003 - val_accuracy: 0.9719\n",
            "Epoch 95/100\n",
            "162/162 [==============================] - 1s 6ms/step - loss: 0.0692 - accuracy: 0.9795 - val_loss: 0.0727 - val_accuracy: 0.9766\n",
            "Epoch 96/100\n",
            "162/162 [==============================] - 1s 6ms/step - loss: 0.0455 - accuracy: 0.9851 - val_loss: 0.0869 - val_accuracy: 0.9719\n",
            "Epoch 97/100\n",
            "162/162 [==============================] - 1s 5ms/step - loss: 0.0431 - accuracy: 0.9857 - val_loss: 0.0664 - val_accuracy: 0.9766\n",
            "Epoch 98/100\n",
            "162/162 [==============================] - 1s 5ms/step - loss: 0.0400 - accuracy: 0.9870 - val_loss: 0.0585 - val_accuracy: 0.9781\n",
            "Epoch 99/100\n",
            "162/162 [==============================] - 1s 5ms/step - loss: 0.0442 - accuracy: 0.9851 - val_loss: 0.0665 - val_accuracy: 0.9766\n",
            "Epoch 100/100\n",
            "162/162 [==============================] - 1s 5ms/step - loss: 0.0401 - accuracy: 0.9870 - val_loss: 0.0572 - val_accuracy: 0.9766\n"
          ]
        }
      ]
    },
    {
      "cell_type": "markdown",
      "source": [
        "## Model Accuracy Plot"
      ],
      "metadata": {
        "id": "HYHgCh4syw2_"
      }
    },
    {
      "cell_type": "code",
      "source": [
        "plt.plot(history.history['accuracy'])\n",
        "plt.plot(history.history['val_accuracy'])\n",
        "plt.title('Model Accuracy')\n",
        "plt.xlabel('Epoch')\n",
        "plt.ylabel('Accuracy')\n",
        "plt.legend(['Train', 'Validation'], loc='upper left')\n",
        "plt.show()"
      ],
      "metadata": {
        "id": "AkpAxiQzWHf1",
        "outputId": "3b110664-b584-4e34-c662-0149fe88d01d",
        "colab": {
          "base_uri": "https://localhost:8080/",
          "height": 472
        }
      },
      "execution_count": 41,
      "outputs": [
        {
          "output_type": "display_data",
          "data": {
            "text/plain": [
              "<Figure size 640x480 with 1 Axes>"
            ],
            "image/png": "[encoded data removed]"
          },
          "metadata": {}
        }
      ]
    },
    {
      "cell_type": "markdown",
      "source": [
        "## Evaluation Results"
      ],
      "metadata": {
        "id": "dOQoQZWcYmBi"
      }
    },
    {
      "cell_type": "code",
      "source": [
        "loss, accuracy = model.evaluate(test_ds)\n",
        "\n",
        "print(\"Loss: \", loss)\n",
        "print(\"Accuracy: \", accuracy)"
      ],
      "metadata": {
        "id": "_w9ci8UDibS9",
        "outputId": "ec4a3981-6a71-4e51-bbb2-a0bfd301d8e7",
        "colab": {
          "base_uri": "https://localhost:8080/"
        }
      },
      "execution_count": 42,
      "outputs": [
        {
          "output_type": "stream",
          "name": "stdout",
          "text": [
            "21/21 [==============================] - 0s 5ms/step - loss: 0.0323 - accuracy: 0.9908\n",
            "Loss:  0.03232831135392189\n",
            "Accuracy:  0.9908397197723389\n"
          ]
        }
      ]
    },
    {
      "cell_type": "markdown",
      "source": [
        "The `ReduceMeanLayer` class is a custom layer in TensorFlow that calculates the mean along a specified axis. It inherits from the `tf.keras.layers.Layer` class, which provides the basic functionality for creating custom layers.\n",
        "\n",
        "The constructor (`__init__` method) of `ReduceMeanLayer` initializes the layer and accepts an optional argument `axis` which determines the axis along which the mean operation will be performed.\n",
        "\n",
        "The `call` method is where the layer's logic is defined. It takes the input tensor and applies the `tf.math.reduce_mean` function to calculate the mean along the specified axis. The resulting tensor is then returned as the output of the layer.\n",
        "\n",
        "By using this custom layer in a TensorFlow model, you can easily incorporate the mean reduction operation into your network architecture."
      ],
      "metadata": {
        "id": "kUbn_D6tYrPn"
      }
    },
    {
      "cell_type": "code",
      "source": [
        "class ReduceMeanLayer(tf.keras.layers.Layer):\n",
        "  def __init__(self, axis=0, **kwargs):\n",
        "    super(ReduceMeanLayer, self).__init__(**kwargs)\n",
        "    self.axis = axis\n",
        "\n",
        "  def call(self, input):\n",
        "    return tf.math.reduce_mean(input, axis=self.axis)"
      ],
      "metadata": {
        "id": "ouWqiZCfZSBV"
      },
      "execution_count": 43,
      "outputs": []
    },
    {
      "cell_type": "markdown",
      "source": [
        "## Converting and Saving the Model\n",
        "\n",
        "1. Specify the path where the SavedModel will be saved.\n",
        "2. Define the input layer for the audio segment.\n",
        "3. Create a KerasLayer for the YAMNet model, using the specified handle.\n",
        "4. Apply the YAMNet layer to the input segment to obtain the embeddings output.\n",
        "5. Pass the embeddings output through the 'model' to obtain the serving outputs.\n",
        "6. Apply the ReduceMeanLayer to the serving outputs along axis 0.\n",
        "7. Create a serving model using the input segment as the input and the serving outputs as the output.\n",
        "8. Save the serving model as a SavedModel without including the optimizer state.\n",
        "9. Convert the SavedModel to a TFLite model.\n",
        "10. Save the TFLite model to a file."
      ],
      "metadata": {
        "id": "iJjcHgxnYyam"
      }
    },
    {
      "cell_type": "code",
      "source": [
        "# Specify the path where the SavedModel will be saved\n",
        "saved_model_path = './calis_voice_yamnet'\n",
        "\n",
        "# Define the input layer for the audio segment\n",
        "input_segment = tf.keras.layers.Input(shape=(), dtype=tf.float32, name='audio')\n",
        "\n",
        "# Create a KerasLayer for the YAMNet model, using the specified handle\n",
        "# The layer is set as non-trainable and named 'yamnet'\n",
        "embedding_extraction_layer = hub.KerasLayer(yamnet_model_handle, trainable=False, name='yamnet')\n",
        "\n",
        "# Apply the YAMNet layer to the input segment to obtain the embeddings output\n",
        "# The unused intermediate outputs are denoted with underscores (_)\n",
        "_, embeddings_output, _ = embedding_extraction_layer(input_segment)\n",
        "\n",
        "# Pass the embeddings output through the 'model' to obtain the serving outputs\n",
        "serving_outputs = model(embeddings_output)\n",
        "\n",
        "# Apply the ReduceMeanLayer to the serving outputs along axis 0\n",
        "# The layer is named 'classifier'\n",
        "serving_outputs = ReduceMeanLayer(axis=0, name='classifier')(serving_outputs)\n",
        "\n",
        "# Create a serving model using the input segment as the input and the serving outputs as the output\n",
        "serving_model = tf.keras.Model(input_segment, serving_outputs)\n",
        "\n",
        "# Save the serving model as a SavedModel without including the optimizer state\n",
        "serving_model.save(saved_model_path, include_optimizer=False)"
      ],
      "metadata": {
        "id": "HllGlMBD41AB",
        "colab": {
          "base_uri": "https://localhost:8080/"
        },
        "outputId": "78a600b5-9b86-4a8b-e3f5-e97d15d8576b"
      },
      "execution_count": 44,
      "outputs": [
        {
          "output_type": "stream",
          "name": "stderr",
          "text": [
            "WARNING:tensorflow:Compiled the loaded model, but the compiled metrics have yet to be built. `model.compile_metrics` will be empty until you train or evaluate the model.\n"
          ]
        }
      ]
    },
    {
      "cell_type": "code",
      "source": [
        "# Save the model as a SavedModel\n",
        "serving_model.save(saved_model_path, include_optimizer=False)\n",
        "\n",
        "# Convert the SavedModel to TFLite model\n",
        "converter = tf.lite.TFLiteConverter.from_saved_model(saved_model_path)\n",
        "tflite_model = converter.convert()\n",
        "\n",
        "# Save the TFLite model to a file\n",
        "tflite_model_path = './calis_voice_yamnet.tflite'\n",
        "with open(tflite_model_path, 'wb') as f:\n",
        "    f.write(tflite_model)"
      ],
      "metadata": {
        "id": "IILYP8YB5MYO",
        "colab": {
          "base_uri": "https://localhost:8080/"
        },
        "outputId": "9279bcfe-1690-4d6f-d3f8-5ab7fdae7614"
      },
      "execution_count": 45,
      "outputs": [
        {
          "output_type": "stream",
          "name": "stderr",
          "text": [
            "WARNING:tensorflow:Compiled the loaded model, but the compiled metrics have yet to be built. `model.compile_metrics` will be empty until you train or evaluate the model.\n"
          ]
        }
      ]
    }
  ]
}