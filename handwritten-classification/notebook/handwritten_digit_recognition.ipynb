{
  "cells": [
    {
      "cell_type": "markdown",
      "metadata": {
        "id": "9LmeY_IP2nz7"
      },
      "source": [
        "# Import Library"
      ]
    },
    {
      "cell_type": "code",
      "execution_count": 2,
      "metadata": {
        "id": "Q3Q6u1K6AGPV"
      },
      "outputs": [],
      "source": [
        "import os\n",
        "import tensorflow as tf\n",
        "import shutil\n",
        "import matplotlib.pyplot as plt\n",
        "import cv2\n",
        "import glob\n",
        "import shutil\n",
        "\n",
        "from tensorflow.keras.preprocessing.image import ImageDataGenerator\n"
      ]
    },
    {
      "cell_type": "markdown",
      "metadata": {
        "id": "VltHVNNn2s7K"
      },
      "source": [
        "# Download Dataset"
      ]
    },
    {
      "cell_type": "code",
      "execution_count": 3,
      "metadata": {
        "colab": {
          "base_uri": "https://localhost:8080/"
        },
        "id": "nPW8EjRk0KrC",
        "outputId": "9b849311-8029-454b-eb04-ea64a3aa87f2"
      },
      "outputs": [
        {
          "output_type": "stream",
          "name": "stdout",
          "text": [
            "Downloading...\n",
            "From: https://drive.google.com/uc?id=1EOnvYEpS7vGPaj196x7ozxP41mSJ-ZJk\n",
            "To: /content/datasetBackgroundPutihMerge.zip\n",
            "100% 3.57G/3.57G [00:54<00:00, 65.7MB/s]\n",
            "Downloading...\n",
            "From: https://drive.google.com/uc?id=10BtAXFATfCkN2aZe-wpB3ENjlgoDTLin\n",
            "To: /content/handwrittenNewDataset.zip\n",
            "100% 3.07M/3.07M [00:00<00:00, 273MB/s]\n",
            "Downloading...\n",
            "From: https://drive.google.com/uc?id=1J2aoQ2ZSDETI2I5quEMuM8kDHulxdaMJ\n",
            "To: /content/handwrittenDatasetVERYNEW.zip\n",
            "100% 4.61M/4.61M [00:00<00:00, 34.5MB/s]\n"
          ]
        }
      ],
      "source": [
        "# Base dataset\n",
        "!gdown 1EOnvYEpS7vGPaj196x7ozxP41mSJ-ZJk\n",
        "# New dataset\n",
        "!gdown 10BtAXFATfCkN2aZe-wpB3ENjlgoDTLin\n",
        "# Very new dataset\n",
        "!gdown 1J2aoQ2ZSDETI2I5quEMuM8kDHulxdaMJ"
      ]
    },
    {
      "cell_type": "code",
      "execution_count": 4,
      "metadata": {
        "id": "b42SLs0CWXKN"
      },
      "outputs": [],
      "source": [
        "!unzip -q /content/datasetBackgroundPutihMerge.zip\n",
        "!unzip -q /content/handwrittenNewDataset.zip\n",
        "!unzip -q /content/handwrittenDatasetVERYNEW.zip\n",
        "\n",
        "DATASET_DIRECTORY = \"datasetBackgroundPutihMerge/\"\n",
        "NEW_DATASET_DIRECTORY = \"handwrittenNewDataset/\"\n",
        "VERY_NEW_DATASET_DIRECTORY = \"handwrittenDatasetVERYNEW/\"\n"
      ]
    },
    {
      "cell_type": "code",
      "execution_count": 5,
      "metadata": {
        "id": "TJRBf-Vx5Sei"
      },
      "outputs": [],
      "source": [
        "# Remove corrupt files\n",
        "\n",
        "filenames = [\n",
        "    \"dataset/test/O/001394.png\",\n",
        "    \"dataset/test/O/001397.png\",\n",
        "    \"dataset/test/O/001396.png\",\n",
        "    \"dataset/test/O/000892.png\",\n",
        "    \"dataset/train/6/011900.png\",\n",
        "    \"dataset/train/6/011898.png\",\n",
        "    \"dataset/train/F/005780.png\",\n",
        "    \"dataset/train/9/010953.png\",\n",
        "    \"dataset/train/9/010954.png\",\n",
        "    \"dataset/validation/1/003231.png\",\n",
        "    \"dataset/validation/1/002816.png\"\n",
        "]\n",
        "\n",
        "for filename in filenames:\n",
        "  filepath = DATASET_DIRECTORY + filename\n",
        "  os.remove(filepath)"
      ]
    },
    {
      "cell_type": "code",
      "execution_count": 6,
      "metadata": {
        "id": "EWoa0V1gN1H9"
      },
      "outputs": [],
      "source": [
        "# How many images for each class to be moved into the base dataset validation\n",
        "# the rest will be moved into the base dataset training set\n",
        "NEW_DATASET_VALIDATION_MOVE_SUM = 1\n",
        "\n",
        "# Move some of the new data to base dataset\n",
        "for class_name in os.listdir(NEW_DATASET_DIRECTORY):\n",
        "  # class_name is the A, B, C, etc...\n",
        "  validation_move_sum = 0\n",
        "  for filepath in glob.glob(os.path.join(NEW_DATASET_DIRECTORY, class_name, '*.png')):\n",
        "    if validation_move_sum < NEW_DATASET_VALIDATION_MOVE_SUM:\n",
        "      # Essentially we don't move anything out of the directory, because this directory\n",
        "      # is used as the validation directory\n",
        "      validation_move_sum += 1\n",
        "      continue\n",
        "    shutil.move(filepath, os.path.join(DATASET_DIRECTORY, \"dataset\", \"train\", class_name))\n"
      ]
    },
    {
      "cell_type": "code",
      "execution_count": 7,
      "metadata": {
        "id": "SVUEpE3DbaQm"
      },
      "outputs": [],
      "source": [
        "# Base dataset\n",
        "# It contains dataset from kaggle and the data that's made by us\n",
        "\n",
        "# Split dataset between digits, small alphabet, and capital alphabet\n",
        "DATASET_SMALL_DIR = \"datasetSmall\"\n",
        "DATASET_CAPITAL_DIR = \"datasetCapital\"\n",
        "DATASET_DIGIT_DIR = \"datasetDigit\"\n",
        "\n",
        "for class_name in os.listdir(os.path.join(DATASET_DIRECTORY, \"dataset\", \"train\")):\n",
        "  if class_name.isupper():\n",
        "    dest_fpath = os.path.join(DATASET_CAPITAL_DIR, \"train\", class_name)\n",
        "  elif class_name.islower():\n",
        "    dest_fpath = os.path.join(DATASET_SMALL_DIR, \"train\", class_name)\n",
        "  elif class_name.isdigit():\n",
        "    dest_fpath = os.path.join(DATASET_DIGIT_DIR, \"train\", class_name)\n",
        "\n",
        "  os.makedirs(os.path.dirname(dest_fpath), exist_ok=True)\n",
        "  shutil.move(os.path.join(DATASET_DIRECTORY, \"dataset\", \"train\", class_name), dest_fpath)\n",
        "\n",
        "for class_name in os.listdir(NEW_DATASET_DIRECTORY):\n",
        "  if class_name.isupper():\n",
        "    dest_fpath = os.path.join(DATASET_CAPITAL_DIR, \"validation\", class_name)\n",
        "  elif class_name.islower():\n",
        "    dest_fpath = os.path.join(DATASET_SMALL_DIR, \"validation\", class_name)\n",
        "  elif class_name.isdigit():\n",
        "    dest_fpath = os.path.join(DATASET_DIGIT_DIR, \"validation\", class_name)\n",
        "\n",
        "  os.makedirs(os.path.dirname(dest_fpath), exist_ok=True)\n",
        "  shutil.move(os.path.join(NEW_DATASET_DIRECTORY, class_name), dest_fpath)\n"
      ]
    },
    {
      "cell_type": "code",
      "execution_count": 8,
      "metadata": {
        "id": "pSU5wHC5-7Gn"
      },
      "outputs": [],
      "source": [
        "# Create dataset for transfer learning\n",
        "DATASET_TRANSFER_LEARNING_SMALL = \"datasetSmallOnlyNew\"\n",
        "DATASET_TRANSFER_LEARNING_CAPITAL = \"datasetCapitalOnlyNew\"\n",
        "DATASET_TRANSFER_LEARNING_DIGIT = \"datasetDigitOnlyNew\"\n",
        "\n",
        "for class_name in os.listdir(NEW_DATASET_DIRECTORY):\n",
        "  if class_name.isupper():\n",
        "    dest_fpath = os.path.join(DATASET_TRANSFER_LEARNING_CAPITAL, \"training\", class_name)\n",
        "  elif class_name.islower():\n",
        "    dest_fpath = os.path.join(DATASET_TRANSFER_LEARNING_SMALL, \"training\", class_name)\n",
        "  elif class_name.isdigit():\n",
        "    dest_fpath = os.path.join(DATASET_TRANSFER_LEARNING_DIGIT, \"training\", class_name)\n",
        "\n",
        "  os.makedirs(os.path.dirname(dest_fpath), exist_ok=True)\n",
        "  shutil.move(os.path.join(NEW_DATASET_DIRECTORY, class_name), dest_fpath)\n"
      ]
    },
    {
      "cell_type": "code",
      "execution_count": 9,
      "metadata": {
        "id": "wLkIu96Rx2wu"
      },
      "outputs": [],
      "source": [
        "def split_char_dataset_into_its_dirs(source_dir, capital_dir, small_dir, digit_dir, subdir=\"training\"):\n",
        "  # TODO: Refactor above cells to use this function instead\n",
        "  for class_name in os.listdir(source_dir):\n",
        "    if class_name.isupper():\n",
        "      dest_fpath = os.path.join(capital_dir, subdir, class_name)\n",
        "    elif class_name.islower():\n",
        "      dest_fpath = os.path.join(small_dir, subdir, class_name)\n",
        "    elif class_name.isdigit():\n",
        "      dest_fpath = os.path.join(digit_dir, subdir, class_name)\n",
        "    print(dest_fpath)\n",
        "    os.makedirs(os.path.dirname(dest_fpath), exist_ok=True)\n",
        "    shutil.move(os.path.join(source_dir, class_name), dest_fpath)"
      ]
    },
    {
      "cell_type": "code",
      "execution_count": 10,
      "metadata": {
        "colab": {
          "base_uri": "https://localhost:8080/"
        },
        "id": "mhZdrgmIzq4z",
        "outputId": "8710e3e6-ca2b-41f1-d455-acd345bce9c8"
      },
      "outputs": [
        {
          "output_type": "stream",
          "name": "stdout",
          "text": [
            "datasetSmallOnlyNew/training/q\n",
            "datasetSmallOnlyNew/training/p\n",
            "datasetSmallOnlyNew/training/k\n",
            "datasetDigitOnlyNew/training/4\n",
            "datasetSmallOnlyNew/training/i\n",
            "datasetSmallOnlyNew/training/a\n",
            "datasetSmallOnlyNew/training/r\n",
            "datasetSmallOnlyNew/training/g\n",
            "datasetDigitOnlyNew/training/8\n",
            "datasetSmallOnlyNew/training/v\n",
            "datasetSmallOnlyNew/training/y\n",
            "datasetDigitOnlyNew/training/2\n",
            "datasetSmallOnlyNew/training/h\n",
            "datasetDigitOnlyNew/training/9\n",
            "datasetSmallOnlyNew/training/f\n",
            "datasetSmallOnlyNew/training/b\n",
            "datasetDigitOnlyNew/training/7\n",
            "datasetDigitOnlyNew/training/1\n",
            "datasetSmallOnlyNew/training/d\n",
            "datasetDigitOnlyNew/training/6\n",
            "datasetDigitOnlyNew/training/0\n",
            "datasetSmallOnlyNew/training/w\n",
            "datasetSmallOnlyNew/training/n\n",
            "datasetSmallOnlyNew/training/x\n",
            "datasetSmallOnlyNew/training/c\n",
            "datasetSmallOnlyNew/training/e\n",
            "datasetSmallOnlyNew/training/s\n",
            "datasetSmallOnlyNew/training/m\n",
            "datasetSmallOnlyNew/training/j\n",
            "datasetSmallOnlyNew/training/z\n",
            "datasetSmallOnlyNew/training/t\n",
            "datasetSmallOnlyNew/training/l\n",
            "datasetDigitOnlyNew/training/5\n",
            "datasetDigitOnlyNew/training/3\n",
            "datasetSmallOnlyNew/training/u\n",
            "datasetSmallOnlyNew/training/o\n"
          ]
        }
      ],
      "source": [
        "split_char_dataset_into_its_dirs(\n",
        "    source_dir=VERY_NEW_DATASET_DIRECTORY,\n",
        "    capital_dir=DATASET_TRANSFER_LEARNING_CAPITAL,\n",
        "    small_dir=DATASET_TRANSFER_LEARNING_SMALL,\n",
        "    digit_dir=DATASET_TRANSFER_LEARNING_DIGIT,\n",
        "    subdir=\"training\"\n",
        "    )"
      ]
    },
    {
      "cell_type": "markdown",
      "metadata": {
        "id": "xM1rh5Rih3U7"
      },
      "source": [
        "## Train Set"
      ]
    },
    {
      "cell_type": "code",
      "execution_count": 11,
      "metadata": {
        "colab": {
          "base_uri": "https://localhost:8080/"
        },
        "id": "BiEJ0wHNhd6W",
        "outputId": "84385dee-a933-4eb2-ab47-67642afbbe87"
      },
      "outputs": [
        {
          "output_type": "stream",
          "name": "stdout",
          "text": [
            "Found 225239 images belonging to 10 classes.\n"
          ]
        }
      ],
      "source": [
        "train_datagen = ImageDataGenerator(\n",
        "    rescale = 1./255,\n",
        "    )\n",
        "\n",
        "train_generator = train_datagen.flow_from_directory(\n",
        "    # TODO: Ganti directory ke dir dataset\n",
        "    directory=os.path.join(DATASET_DIGIT_DIR, \"train\"),\n",
        "    target_size=(300, 300),\n",
        "    class_mode='categorical',\n",
        "    batch_size=100,\n",
        "    color_mode='grayscale',\n",
        ")"
      ]
    },
    {
      "cell_type": "markdown",
      "metadata": {
        "id": "okdJEd6Dh9GY"
      },
      "source": [
        "## Validation Set"
      ]
    },
    {
      "cell_type": "code",
      "execution_count": 12,
      "metadata": {
        "colab": {
          "base_uri": "https://localhost:8080/"
        },
        "id": "KG9-HnaLhrAX",
        "outputId": "81196672-5963-49c8-d03a-199370ed59a1"
      },
      "outputs": [
        {
          "output_type": "stream",
          "name": "stdout",
          "text": [
            "Found 10 images belonging to 10 classes.\n"
          ]
        }
      ],
      "source": [
        "validation_datagen = ImageDataGenerator(rescale = 1./255)\n",
        "\n",
        "validation_generator = validation_datagen.flow_from_directory(\n",
        "\t# TODO: Sesuaikan directory\n",
        "\tdirectory=os.path.join(DATASET_DIGIT_DIR, \"validation\"),\n",
        "\ttarget_size=(300,300),\n",
        "\tclass_mode='categorical',\n",
        "\tbatch_size=100,\n",
        "\tcolor_mode='grayscale',\n",
        ")"
      ]
    },
    {
      "cell_type": "markdown",
      "metadata": {
        "id": "_5rlnXleh-0x"
      },
      "source": [
        "## Test Set"
      ]
    },
    {
      "cell_type": "markdown",
      "metadata": {
        "id": "67qrXw7Tka0k"
      },
      "source": [
        "# Build Model"
      ]
    },
    {
      "cell_type": "code",
      "execution_count": 13,
      "metadata": {
        "colab": {
          "base_uri": "https://localhost:8080/"
        },
        "id": "lRVDyt8skcKN",
        "outputId": "5e3ee7d8-deef-4b80-895a-01cd791af708"
      },
      "outputs": [
        {
          "output_type": "stream",
          "name": "stdout",
          "text": [
            "Model: \"sequential\"\n",
            "_________________________________________________________________\n",
            " Layer (type)                Output Shape              Param #   \n",
            "=================================================================\n",
            " conv2d (Conv2D)             (None, 298, 298, 16)      160       \n",
            "                                                                 \n",
            " max_pooling2d (MaxPooling2D  (None, 149, 149, 16)     0         \n",
            " )                                                               \n",
            "                                                                 \n",
            " conv2d_1 (Conv2D)           (None, 147, 147, 32)      4640      \n",
            "                                                                 \n",
            " max_pooling2d_1 (MaxPooling  (None, 73, 73, 32)       0         \n",
            " 2D)                                                             \n",
            "                                                                 \n",
            " conv2d_2 (Conv2D)           (None, 71, 71, 64)        18496     \n",
            "                                                                 \n",
            " max_pooling2d_2 (MaxPooling  (None, 35, 35, 64)       0         \n",
            " 2D)                                                             \n",
            "                                                                 \n",
            " conv2d_3 (Conv2D)           (None, 33, 33, 64)        36928     \n",
            "                                                                 \n",
            " max_pooling2d_3 (MaxPooling  (None, 16, 16, 64)       0         \n",
            " 2D)                                                             \n",
            "                                                                 \n",
            " conv2d_4 (Conv2D)           (None, 14, 14, 64)        36928     \n",
            "                                                                 \n",
            " max_pooling2d_4 (MaxPooling  (None, 7, 7, 64)         0         \n",
            " 2D)                                                             \n",
            "                                                                 \n",
            " flatten (Flatten)           (None, 3136)              0         \n",
            "                                                                 \n",
            " dropout (Dropout)           (None, 3136)              0         \n",
            "                                                                 \n",
            " dense (Dense)               (None, 512)               1606144   \n",
            "                                                                 \n",
            " dense_1 (Dense)             (None, 10)                5130      \n",
            "                                                                 \n",
            "=================================================================\n",
            "Total params: 1,708,426\n",
            "Trainable params: 1,708,426\n",
            "Non-trainable params: 0\n",
            "_________________________________________________________________\n"
          ]
        }
      ],
      "source": [
        "model = tf.keras.models.Sequential([\n",
        "    #input shape is the desired size of the image 300x300 with 3 bytes color\n",
        "    # This is the first convolution\n",
        "    tf.keras.layers.Conv2D(16, (3,3), activation='relu', input_shape=(300, 300, 1)),\n",
        "    tf.keras.layers.MaxPooling2D(2, 2),\n",
        "    # The second convolution\n",
        "    tf.keras.layers.Conv2D(32, (3,3), activation='relu'),\n",
        "    tf.keras.layers.MaxPooling2D(2,2),\n",
        "    # The third convolution\n",
        "    tf.keras.layers.Conv2D(64, (3,3), activation='relu'),\n",
        "    tf.keras.layers.MaxPooling2D(2,2),\n",
        "    # The fourth convolution\n",
        "    tf.keras.layers.Conv2D(64, (3,3), activation='relu'),\n",
        "    tf.keras.layers.MaxPooling2D(2,2),\n",
        "    # The fifth convolution\n",
        "    tf.keras.layers.Conv2D(64, (3,3), activation='relu'),\n",
        "    tf.keras.layers.MaxPooling2D(2,2),\n",
        "    # Flatten the results to feed into a DNN\n",
        "    tf.keras.layers.Flatten(),\n",
        "    # Dropout Layer\n",
        "    tf.keras.layers.Dropout(0.5),\n",
        "    # 512 neuron hidden layer\n",
        "    tf.keras.layers.Dense(512, activation='relu'),\n",
        "    # 62 output neuron.\n",
        "    # TODO: Ganti ke 10 buat digit\n",
        "    tf.keras.layers.Dense(10, activation='softmax')\n",
        "])\n",
        "\n",
        "model.compile(loss='categorical_crossentropy',\n",
        "              optimizer='adam',\n",
        "              metrics=['accuracy'])\n",
        "\n",
        "model.summary()"
      ]
    },
    {
      "cell_type": "code",
      "execution_count": 14,
      "metadata": {
        "id": "a1JPE2-j-Xik"
      },
      "outputs": [],
      "source": [
        "class myCallback(tf.keras.callbacks.Callback):\n",
        "  def on_epoch_end(self, epoch, logs={}):\n",
        "\n",
        "    # Check accuracy\n",
        "    if(logs.get('accuracy') > 0.94):\n",
        "\n",
        "      # Stop if threshold is met\n",
        "      print(\"\\naccuracy is greater than 0.94 so cancelling training!\")\n",
        "      self.model.stop_training = True\n",
        "\n",
        "# Instantiate class\n",
        "callbacks = myCallback()"
      ]
    },
    {
      "cell_type": "markdown",
      "metadata": {
        "id": "6JHGKZNXl6Y5"
      },
      "source": [
        "# Train The Model"
      ]
    },
    {
      "cell_type": "code",
      "execution_count": 15,
      "metadata": {
        "colab": {
          "base_uri": "https://localhost:8080/"
        },
        "id": "66Wg783gl4zp",
        "outputId": "3a65b246-c6ba-4c71-9f46-de94d21c28db"
      },
      "outputs": [
        {
          "output_type": "stream",
          "name": "stdout",
          "text": [
            "Epoch 1/50\n",
            "75/75 [==============================] - 38s 297ms/step - loss: 0.7962 - accuracy: 0.7525 - val_loss: 3.0541 - val_accuracy: 0.2000\n",
            "Epoch 2/50\n",
            "75/75 [==============================] - 20s 262ms/step - loss: 0.3342 - accuracy: 0.8977 - val_loss: 2.7265 - val_accuracy: 0.2000\n",
            "Epoch 3/50\n",
            "75/75 [==============================] - 20s 266ms/step - loss: 0.2895 - accuracy: 0.9092 - val_loss: 2.7657 - val_accuracy: 0.2000\n",
            "Epoch 4/50\n",
            "75/75 [==============================] - 19s 253ms/step - loss: 0.2731 - accuracy: 0.9100 - val_loss: 2.2049 - val_accuracy: 0.3000\n",
            "Epoch 5/50\n",
            "75/75 [==============================] - 19s 259ms/step - loss: 0.2796 - accuracy: 0.9076 - val_loss: 2.4342 - val_accuracy: 0.2000\n",
            "Epoch 6/50\n",
            "75/75 [==============================] - 18s 241ms/step - loss: 0.2401 - accuracy: 0.9196 - val_loss: 2.9121 - val_accuracy: 0.3000\n",
            "Epoch 7/50\n",
            "75/75 [==============================] - 18s 237ms/step - loss: 0.2458 - accuracy: 0.9155 - val_loss: 2.0873 - val_accuracy: 0.4000\n",
            "Epoch 8/50\n",
            "75/75 [==============================] - 18s 243ms/step - loss: 0.2469 - accuracy: 0.9175 - val_loss: 1.8370 - val_accuracy: 0.3000\n",
            "Epoch 9/50\n",
            "75/75 [==============================] - 17s 226ms/step - loss: 0.2520 - accuracy: 0.9125 - val_loss: 2.1246 - val_accuracy: 0.3000\n",
            "Epoch 10/50\n",
            "75/75 [==============================] - 16s 218ms/step - loss: 0.2241 - accuracy: 0.9228 - val_loss: 1.7137 - val_accuracy: 0.4000\n",
            "Epoch 11/50\n",
            "75/75 [==============================] - 16s 217ms/step - loss: 0.2145 - accuracy: 0.9256 - val_loss: 1.1653 - val_accuracy: 0.4000\n",
            "Epoch 12/50\n",
            "75/75 [==============================] - 16s 213ms/step - loss: 0.2341 - accuracy: 0.9195 - val_loss: 1.8734 - val_accuracy: 0.4000\n",
            "Epoch 13/50\n",
            "75/75 [==============================] - 16s 210ms/step - loss: 0.2197 - accuracy: 0.9252 - val_loss: 1.5470 - val_accuracy: 0.5000\n",
            "Epoch 14/50\n",
            "75/75 [==============================] - 16s 212ms/step - loss: 0.2191 - accuracy: 0.9225 - val_loss: 2.3400 - val_accuracy: 0.3000\n",
            "Epoch 15/50\n",
            "75/75 [==============================] - 16s 211ms/step - loss: 0.2325 - accuracy: 0.9217 - val_loss: 1.6235 - val_accuracy: 0.5000\n",
            "Epoch 16/50\n",
            "75/75 [==============================] - 16s 206ms/step - loss: 0.2118 - accuracy: 0.9279 - val_loss: 1.8443 - val_accuracy: 0.3000\n",
            "Epoch 17/50\n",
            "75/75 [==============================] - 15s 202ms/step - loss: 0.2035 - accuracy: 0.9304 - val_loss: 1.7740 - val_accuracy: 0.3000\n",
            "Epoch 18/50\n",
            "75/75 [==============================] - 14s 192ms/step - loss: 0.2176 - accuracy: 0.9211 - val_loss: 1.8566 - val_accuracy: 0.4000\n",
            "Epoch 19/50\n",
            "75/75 [==============================] - 15s 196ms/step - loss: 0.2309 - accuracy: 0.9203 - val_loss: 1.8251 - val_accuracy: 0.4000\n",
            "Epoch 20/50\n",
            "75/75 [==============================] - 15s 202ms/step - loss: 0.2123 - accuracy: 0.9249 - val_loss: 1.4297 - val_accuracy: 0.4000\n",
            "Epoch 21/50\n",
            "75/75 [==============================] - 15s 194ms/step - loss: 0.2070 - accuracy: 0.9267 - val_loss: 2.4959 - val_accuracy: 0.5000\n",
            "Epoch 22/50\n",
            "75/75 [==============================] - 15s 194ms/step - loss: 0.2153 - accuracy: 0.9259 - val_loss: 1.9548 - val_accuracy: 0.4000\n",
            "Epoch 23/50\n",
            "75/75 [==============================] - 15s 193ms/step - loss: 0.2128 - accuracy: 0.9261 - val_loss: 2.0109 - val_accuracy: 0.5000\n",
            "Epoch 24/50\n",
            "75/75 [==============================] - 15s 195ms/step - loss: 0.2098 - accuracy: 0.9255 - val_loss: 1.8573 - val_accuracy: 0.4000\n",
            "Epoch 25/50\n",
            "75/75 [==============================] - 14s 191ms/step - loss: 0.2095 - accuracy: 0.9263 - val_loss: 1.4644 - val_accuracy: 0.5000\n",
            "Epoch 26/50\n",
            "75/75 [==============================] - 14s 188ms/step - loss: 0.2102 - accuracy: 0.9241 - val_loss: 1.6841 - val_accuracy: 0.4000\n",
            "Epoch 27/50\n",
            "75/75 [==============================] - 14s 188ms/step - loss: 0.2035 - accuracy: 0.9273 - val_loss: 1.4219 - val_accuracy: 0.7000\n",
            "Epoch 28/50\n",
            "75/75 [==============================] - 14s 188ms/step - loss: 0.1992 - accuracy: 0.9320 - val_loss: 1.5971 - val_accuracy: 0.6000\n",
            "Epoch 29/50\n",
            "75/75 [==============================] - 14s 188ms/step - loss: 0.2152 - accuracy: 0.9221 - val_loss: 1.1238 - val_accuracy: 0.5000\n",
            "Epoch 30/50\n",
            "75/75 [==============================] - 14s 191ms/step - loss: 0.2063 - accuracy: 0.9312 - val_loss: 1.6455 - val_accuracy: 0.4000\n",
            "Epoch 31/50\n",
            "75/75 [==============================] - 14s 190ms/step - loss: 0.1971 - accuracy: 0.9319 - val_loss: 1.0805 - val_accuracy: 0.6000\n",
            "Epoch 32/50\n",
            "75/75 [==============================] - 18s 235ms/step - loss: 0.1978 - accuracy: 0.9317 - val_loss: 1.0605 - val_accuracy: 0.7000\n",
            "Epoch 33/50\n",
            "75/75 [==============================] - 14s 190ms/step - loss: 0.1997 - accuracy: 0.9295 - val_loss: 1.0942 - val_accuracy: 0.5000\n",
            "Epoch 34/50\n",
            "75/75 [==============================] - 14s 183ms/step - loss: 0.2005 - accuracy: 0.9293 - val_loss: 1.4642 - val_accuracy: 0.5000\n",
            "Epoch 35/50\n",
            "75/75 [==============================] - 14s 189ms/step - loss: 0.1830 - accuracy: 0.9359 - val_loss: 1.8010 - val_accuracy: 0.4000\n",
            "Epoch 36/50\n",
            "75/75 [==============================] - 14s 189ms/step - loss: 0.2075 - accuracy: 0.9281 - val_loss: 1.3692 - val_accuracy: 0.5000\n",
            "Epoch 37/50\n",
            "75/75 [==============================] - 15s 198ms/step - loss: 0.1919 - accuracy: 0.9327 - val_loss: 1.1810 - val_accuracy: 0.3000\n",
            "Epoch 38/50\n",
            "75/75 [==============================] - 14s 190ms/step - loss: 0.2031 - accuracy: 0.9301 - val_loss: 1.1461 - val_accuracy: 0.6000\n",
            "Epoch 39/50\n",
            "75/75 [==============================] - 14s 188ms/step - loss: 0.2077 - accuracy: 0.9251 - val_loss: 1.4944 - val_accuracy: 0.3000\n",
            "Epoch 40/50\n",
            "75/75 [==============================] - 14s 189ms/step - loss: 0.1994 - accuracy: 0.9303 - val_loss: 1.2794 - val_accuracy: 0.4000\n",
            "Epoch 41/50\n",
            "75/75 [==============================] - 14s 192ms/step - loss: 0.1977 - accuracy: 0.9296 - val_loss: 1.4468 - val_accuracy: 0.5000\n",
            "Epoch 42/50\n",
            "75/75 [==============================] - 14s 182ms/step - loss: 0.1978 - accuracy: 0.9293 - val_loss: 1.0016 - val_accuracy: 0.5000\n",
            "Epoch 43/50\n",
            "75/75 [==============================] - 14s 188ms/step - loss: 0.1973 - accuracy: 0.9299 - val_loss: 1.5985 - val_accuracy: 0.5000\n",
            "Epoch 44/50\n",
            "75/75 [==============================] - 14s 190ms/step - loss: 0.1913 - accuracy: 0.9304 - val_loss: 1.3221 - val_accuracy: 0.3000\n",
            "Epoch 45/50\n",
            "75/75 [==============================] - 14s 189ms/step - loss: 0.2101 - accuracy: 0.9264 - val_loss: 0.9047 - val_accuracy: 0.6000\n",
            "Epoch 46/50\n",
            "75/75 [==============================] - 14s 186ms/step - loss: 0.1840 - accuracy: 0.9336 - val_loss: 1.3163 - val_accuracy: 0.4000\n",
            "Epoch 47/50\n",
            "75/75 [==============================] - 14s 186ms/step - loss: 0.1992 - accuracy: 0.9290 - val_loss: 1.2441 - val_accuracy: 0.4000\n",
            "Epoch 48/50\n",
            "75/75 [==============================] - 14s 186ms/step - loss: 0.1981 - accuracy: 0.9316 - val_loss: 1.7019 - val_accuracy: 0.5000\n",
            "Epoch 49/50\n",
            "75/75 [==============================] - 14s 188ms/step - loss: 0.1993 - accuracy: 0.9295 - val_loss: 1.2994 - val_accuracy: 0.5000\n",
            "Epoch 50/50\n",
            "75/75 [==============================] - 14s 183ms/step - loss: 0.1916 - accuracy: 0.9340 - val_loss: 1.3268 - val_accuracy: 0.6000\n"
          ]
        }
      ],
      "source": [
        "history = model.fit(train_generator, epochs=50, steps_per_epoch=75, validation_data=validation_generator, verbose = 1, validation_steps=1, callbacks=[callbacks])"
      ]
    },
    {
      "cell_type": "markdown",
      "metadata": {
        "id": "EWbZGevtmCxc"
      },
      "source": [
        "# Evaluate the Results"
      ]
    },
    {
      "cell_type": "code",
      "execution_count": 16,
      "metadata": {
        "colab": {
          "base_uri": "https://localhost:8080/",
          "height": 469
        },
        "id": "qUlV1MObldKO",
        "outputId": "0ad9af84-1302-436b-a94d-634dfb57a944"
      },
      "outputs": [
        {
          "output_type": "display_data",
          "data": {
            "text/plain": [
              "<Figure size 640x480 with 1 Axes>"
            ],
            "image/png": "[encoded data removed]"
          },
          "metadata": {}
        },
        {
          "output_type": "display_data",
          "data": {
            "text/plain": [
              "<Figure size 640x480 with 0 Axes>"
            ]
          },
          "metadata": {}
        }
      ],
      "source": [
        "import matplotlib.pyplot as plt\n",
        "\n",
        "# Plot the results\n",
        "acc = history.history['accuracy']\n",
        "val_acc = history.history['val_accuracy']\n",
        "loss = history.history['loss']\n",
        "val_loss = history.history['val_loss']\n",
        "\n",
        "epochs = range(len(acc))\n",
        "\n",
        "plt.plot(epochs, acc, 'r', label='Training accuracy')\n",
        "plt.plot(epochs, val_acc, 'b', label='Validation accuracy')\n",
        "plt.title('Training and validation accuracy')\n",
        "plt.legend(loc=0)\n",
        "plt.figure()\n",
        "\n",
        "plt.show()"
      ]
    },
    {
      "cell_type": "code",
      "execution_count": 16,
      "metadata": {
        "id": "yeQjh0fX50pe"
      },
      "outputs": [],
      "source": []
    },
    {
      "cell_type": "markdown",
      "metadata": {
        "id": "oGqbeGaT8UiM"
      },
      "source": [
        "# Transfer learning\n"
      ]
    },
    {
      "cell_type": "code",
      "execution_count": 17,
      "metadata": {
        "id": "7Hum95w_EjOB"
      },
      "outputs": [],
      "source": [
        "def cut_model(original_model, cut_index):\n",
        "  # Assuming you have an original model with its weights named \"original_model\"\n",
        "\n",
        "  # Create a new model with the desired layers from the original model\n",
        "  cut_model = tf.keras.Model(inputs=original_model.inputs, outputs=original_model.layers[cut_index].output)\n",
        "\n",
        "  # Copy the weights from the original model to the cut model\n",
        "  for i in range(cut_index):\n",
        "      print(cut_model.layers[i])\n",
        "      print(original_model.layers[i])\n",
        "      cut_model.layers[i].set_weights(original_model.layers[i].get_weights())\n",
        "\n",
        "  return cut_model"
      ]
    },
    {
      "cell_type": "code",
      "execution_count": 18,
      "metadata": {
        "colab": {
          "base_uri": "https://localhost:8080/"
        },
        "id": "TTBRQTyX8YWb",
        "outputId": "f6900ccc-b2e5-4041-ce73-191afc29bcd6"
      },
      "outputs": [
        {
          "output_type": "stream",
          "name": "stdout",
          "text": [
            "Found 201 images belonging to 10 classes.\n",
            "Epoch 1/100\n",
            "4/4 [==============================] - 2s 448ms/step - loss: 0.4487 - accuracy: 0.8952 - val_loss: 0.8340 - val_accuracy: 0.7000\n",
            "Epoch 2/100\n",
            "4/4 [==============================] - 0s 78ms/step - loss: 0.0580 - accuracy: 1.0000 - val_loss: 1.4410 - val_accuracy: 0.6000\n",
            "Epoch 3/100\n",
            "4/4 [==============================] - 0s 80ms/step - loss: 0.0589 - accuracy: 0.9766 - val_loss: 0.7914 - val_accuracy: 0.7000\n",
            "Epoch 4/100\n",
            "4/4 [==============================] - 0s 78ms/step - loss: 0.0142 - accuracy: 1.0000 - val_loss: 1.6004 - val_accuracy: 0.6000\n",
            "Epoch 5/100\n",
            "4/4 [==============================] - 0s 71ms/step - loss: 0.0692 - accuracy: 0.9810 - val_loss: 1.5403 - val_accuracy: 0.6000\n",
            "Epoch 6/100\n",
            "4/4 [==============================] - 0s 81ms/step - loss: 0.0385 - accuracy: 0.9905 - val_loss: 1.4171 - val_accuracy: 0.6000\n",
            "Epoch 7/100\n",
            "4/4 [==============================] - 0s 101ms/step - loss: 0.1113 - accuracy: 0.9766 - val_loss: 3.4292 - val_accuracy: 0.7000\n",
            "Epoch 8/100\n",
            "4/4 [==============================] - 0s 126ms/step - loss: 0.1816 - accuracy: 0.9619 - val_loss: 1.7043 - val_accuracy: 0.8000\n",
            "Epoch 9/100\n",
            "4/4 [==============================] - 1s 131ms/step - loss: 0.1611 - accuracy: 0.9844 - val_loss: 0.2105 - val_accuracy: 0.9000\n",
            "Epoch 10/100\n",
            "4/4 [==============================] - 1s 132ms/step - loss: 0.1217 - accuracy: 0.9619 - val_loss: 0.3099 - val_accuracy: 0.9000\n",
            "Epoch 11/100\n",
            "4/4 [==============================] - 1s 134ms/step - loss: 0.2680 - accuracy: 0.9219 - val_loss: 0.9126 - val_accuracy: 0.6000\n",
            "Epoch 12/100\n",
            "4/4 [==============================] - 0s 138ms/step - loss: 0.0378 - accuracy: 0.9810 - val_loss: 1.7002 - val_accuracy: 0.8000\n",
            "Epoch 13/100\n",
            "4/4 [==============================] - 0s 122ms/step - loss: 0.0809 - accuracy: 0.9688 - val_loss: 1.8794 - val_accuracy: 0.8000\n",
            "Epoch 14/100\n",
            "4/4 [==============================] - 0s 72ms/step - loss: 0.0169 - accuracy: 1.0000 - val_loss: 1.8156 - val_accuracy: 0.7000\n",
            "Epoch 15/100\n",
            "4/4 [==============================] - 0s 75ms/step - loss: 0.1167 - accuracy: 0.9619 - val_loss: 1.4640 - val_accuracy: 0.7000\n",
            "Epoch 16/100\n",
            "4/4 [==============================] - 0s 70ms/step - loss: 9.6411e-04 - accuracy: 1.0000 - val_loss: 1.9427 - val_accuracy: 0.7000\n",
            "Epoch 17/100\n",
            "4/4 [==============================] - 0s 80ms/step - loss: 0.0030 - accuracy: 1.0000 - val_loss: 2.5910 - val_accuracy: 0.6000\n",
            "Epoch 18/100\n",
            "4/4 [==============================] - 0s 79ms/step - loss: 0.0228 - accuracy: 0.9844 - val_loss: 2.1682 - val_accuracy: 0.7000\n",
            "Epoch 19/100\n",
            "4/4 [==============================] - 0s 78ms/step - loss: 3.7480e-04 - accuracy: 1.0000 - val_loss: 2.2160 - val_accuracy: 0.7000\n",
            "Epoch 20/100\n",
            "4/4 [==============================] - 0s 92ms/step - loss: 0.0207 - accuracy: 0.9922 - val_loss: 2.3631 - val_accuracy: 0.6000\n",
            "Epoch 21/100\n",
            "4/4 [==============================] - 0s 85ms/step - loss: 7.0285e-04 - accuracy: 1.0000 - val_loss: 2.2611 - val_accuracy: 0.6000\n",
            "Epoch 22/100\n",
            "4/4 [==============================] - 0s 76ms/step - loss: 0.0286 - accuracy: 0.9905 - val_loss: 2.2774 - val_accuracy: 0.6000\n",
            "Epoch 23/100\n",
            "4/4 [==============================] - 0s 83ms/step - loss: 0.0178 - accuracy: 0.9922 - val_loss: 2.2034 - val_accuracy: 0.6000\n",
            "Epoch 24/100\n",
            "4/4 [==============================] - 0s 68ms/step - loss: 0.0011 - accuracy: 1.0000 - val_loss: 2.3439 - val_accuracy: 0.6000\n",
            "Epoch 25/100\n",
            "4/4 [==============================] - 0s 86ms/step - loss: 2.9247e-04 - accuracy: 1.0000 - val_loss: 2.5337 - val_accuracy: 0.6000\n",
            "Epoch 26/100\n",
            "4/4 [==============================] - 0s 77ms/step - loss: 0.0497 - accuracy: 0.9922 - val_loss: 1.3428 - val_accuracy: 0.8000\n",
            "Epoch 27/100\n",
            "4/4 [==============================] - 0s 76ms/step - loss: 5.7910e-04 - accuracy: 1.0000 - val_loss: 1.0915 - val_accuracy: 0.8000\n",
            "Epoch 28/100\n",
            "4/4 [==============================] - 0s 94ms/step - loss: 0.0278 - accuracy: 0.9922 - val_loss: 1.1972 - val_accuracy: 0.8000\n",
            "Epoch 29/100\n",
            "4/4 [==============================] - 0s 73ms/step - loss: 0.0013 - accuracy: 1.0000 - val_loss: 1.2807 - val_accuracy: 0.8000\n",
            "Epoch 30/100\n",
            "4/4 [==============================] - 0s 88ms/step - loss: 3.2537e-04 - accuracy: 1.0000 - val_loss: 1.3597 - val_accuracy: 0.8000\n",
            "Epoch 31/100\n",
            "4/4 [==============================] - 0s 74ms/step - loss: 8.7264e-04 - accuracy: 1.0000 - val_loss: 1.4195 - val_accuracy: 0.8000\n",
            "Epoch 32/100\n",
            "4/4 [==============================] - 0s 70ms/step - loss: 6.7910e-04 - accuracy: 1.0000 - val_loss: 1.4647 - val_accuracy: 0.8000\n",
            "Epoch 33/100\n",
            "4/4 [==============================] - 0s 76ms/step - loss: 3.3029e-04 - accuracy: 1.0000 - val_loss: 1.4943 - val_accuracy: 0.8000\n",
            "Epoch 34/100\n",
            "4/4 [==============================] - 0s 79ms/step - loss: 5.8078e-04 - accuracy: 1.0000 - val_loss: 1.5129 - val_accuracy: 0.8000\n",
            "Epoch 35/100\n",
            "4/4 [==============================] - 0s 83ms/step - loss: 0.0127 - accuracy: 0.9905 - val_loss: 1.2633 - val_accuracy: 0.8000\n",
            "Epoch 36/100\n",
            "4/4 [==============================] - 0s 73ms/step - loss: 7.7705e-05 - accuracy: 1.0000 - val_loss: 1.1694 - val_accuracy: 0.8000\n",
            "Epoch 37/100\n",
            "4/4 [==============================] - 0s 89ms/step - loss: 1.2489e-04 - accuracy: 1.0000 - val_loss: 1.1286 - val_accuracy: 0.8000\n",
            "Epoch 38/100\n",
            "4/4 [==============================] - 0s 103ms/step - loss: 3.1027e-04 - accuracy: 1.0000 - val_loss: 1.1036 - val_accuracy: 0.8000\n",
            "Epoch 39/100\n",
            "4/4 [==============================] - 0s 112ms/step - loss: 7.1740e-04 - accuracy: 1.0000 - val_loss: 1.1001 - val_accuracy: 0.8000\n",
            "Epoch 40/100\n",
            "4/4 [==============================] - 1s 137ms/step - loss: 0.0108 - accuracy: 0.9905 - val_loss: 1.8199 - val_accuracy: 0.8000\n",
            "Epoch 41/100\n",
            "4/4 [==============================] - 1s 122ms/step - loss: 0.0016 - accuracy: 1.0000 - val_loss: 3.0795 - val_accuracy: 0.7000\n",
            "Epoch 42/100\n",
            "4/4 [==============================] - 0s 119ms/step - loss: 0.0841 - accuracy: 0.9714 - val_loss: 3.6067 - val_accuracy: 0.6000\n",
            "Epoch 43/100\n",
            "4/4 [==============================] - 0s 119ms/step - loss: 0.0034 - accuracy: 1.0000 - val_loss: 2.9581 - val_accuracy: 0.7000\n",
            "Epoch 44/100\n",
            "4/4 [==============================] - 0s 91ms/step - loss: 1.5513e-04 - accuracy: 1.0000 - val_loss: 2.6870 - val_accuracy: 0.7000\n",
            "Epoch 45/100\n",
            "4/4 [==============================] - 0s 90ms/step - loss: 0.0464 - accuracy: 0.9810 - val_loss: 2.3553 - val_accuracy: 0.7000\n",
            "Epoch 46/100\n",
            "4/4 [==============================] - 0s 95ms/step - loss: 0.0183 - accuracy: 0.9905 - val_loss: 2.4378 - val_accuracy: 0.7000\n",
            "Epoch 47/100\n",
            "4/4 [==============================] - 0s 82ms/step - loss: 0.0089 - accuracy: 1.0000 - val_loss: 2.6170 - val_accuracy: 0.7000\n",
            "Epoch 48/100\n",
            "4/4 [==============================] - 0s 90ms/step - loss: 0.0147 - accuracy: 0.9905 - val_loss: 2.8233 - val_accuracy: 0.7000\n",
            "Epoch 49/100\n",
            "4/4 [==============================] - 0s 83ms/step - loss: 6.1251e-04 - accuracy: 1.0000 - val_loss: 3.4454 - val_accuracy: 0.7000\n",
            "Epoch 50/100\n",
            "4/4 [==============================] - 0s 79ms/step - loss: 1.0424e-04 - accuracy: 1.0000 - val_loss: 3.7482 - val_accuracy: 0.7000\n",
            "Epoch 51/100\n",
            "4/4 [==============================] - 0s 90ms/step - loss: 1.1055e-05 - accuracy: 1.0000 - val_loss: 3.8854 - val_accuracy: 0.7000\n",
            "Epoch 52/100\n",
            "4/4 [==============================] - 0s 81ms/step - loss: 0.0229 - accuracy: 0.9922 - val_loss: 2.5127 - val_accuracy: 0.7000\n",
            "Epoch 53/100\n",
            "4/4 [==============================] - 0s 82ms/step - loss: 0.0102 - accuracy: 0.9922 - val_loss: 1.6407 - val_accuracy: 0.7000\n",
            "Epoch 54/100\n",
            "4/4 [==============================] - 0s 69ms/step - loss: 4.8165e-04 - accuracy: 1.0000 - val_loss: 1.3068 - val_accuracy: 0.7000\n",
            "Epoch 55/100\n",
            "4/4 [==============================] - 0s 98ms/step - loss: 0.0016 - accuracy: 1.0000 - val_loss: 1.4403 - val_accuracy: 0.8000\n",
            "Epoch 56/100\n",
            "4/4 [==============================] - 0s 78ms/step - loss: 1.6240e-04 - accuracy: 1.0000 - val_loss: 1.7058 - val_accuracy: 0.8000\n",
            "Epoch 57/100\n",
            "4/4 [==============================] - 0s 82ms/step - loss: 8.3525e-04 - accuracy: 1.0000 - val_loss: 1.9462 - val_accuracy: 0.7000\n",
            "Epoch 58/100\n",
            "4/4 [==============================] - 0s 95ms/step - loss: 8.4069e-04 - accuracy: 1.0000 - val_loss: 2.0645 - val_accuracy: 0.8000\n",
            "Epoch 59/100\n",
            "4/4 [==============================] - 0s 75ms/step - loss: 7.4988e-05 - accuracy: 1.0000 - val_loss: 2.1358 - val_accuracy: 0.8000\n",
            "Epoch 60/100\n",
            "4/4 [==============================] - 0s 70ms/step - loss: 0.0260 - accuracy: 0.9905 - val_loss: 1.7308 - val_accuracy: 0.8000\n",
            "Epoch 61/100\n",
            "4/4 [==============================] - 0s 75ms/step - loss: 6.6133e-04 - accuracy: 1.0000 - val_loss: 1.6316 - val_accuracy: 0.7000\n",
            "Epoch 62/100\n",
            "4/4 [==============================] - 0s 78ms/step - loss: 8.8582e-04 - accuracy: 1.0000 - val_loss: 1.5674 - val_accuracy: 0.7000\n",
            "Epoch 63/100\n",
            "4/4 [==============================] - 0s 93ms/step - loss: 5.7198e-04 - accuracy: 1.0000 - val_loss: 1.6940 - val_accuracy: 0.7000\n",
            "Epoch 64/100\n",
            "4/4 [==============================] - 0s 73ms/step - loss: 0.0222 - accuracy: 0.9905 - val_loss: 1.6497 - val_accuracy: 0.7000\n",
            "Epoch 65/100\n",
            "4/4 [==============================] - 0s 78ms/step - loss: 6.9486e-04 - accuracy: 1.0000 - val_loss: 1.5999 - val_accuracy: 0.7000\n",
            "Epoch 66/100\n",
            "4/4 [==============================] - 0s 75ms/step - loss: 1.2061e-04 - accuracy: 1.0000 - val_loss: 1.5759 - val_accuracy: 0.7000\n",
            "Epoch 67/100\n",
            "4/4 [==============================] - 0s 69ms/step - loss: 9.0370e-07 - accuracy: 1.0000 - val_loss: 1.5623 - val_accuracy: 0.7000\n",
            "Epoch 68/100\n",
            "4/4 [==============================] - 1s 121ms/step - loss: 3.8585e-06 - accuracy: 1.0000 - val_loss: 1.5517 - val_accuracy: 0.7000\n",
            "Epoch 69/100\n",
            "4/4 [==============================] - 1s 130ms/step - loss: 1.3827e-06 - accuracy: 1.0000 - val_loss: 1.5455 - val_accuracy: 0.7000\n",
            "Epoch 70/100\n",
            "4/4 [==============================] - 1s 138ms/step - loss: 1.6036e-06 - accuracy: 1.0000 - val_loss: 1.5451 - val_accuracy: 0.7000\n",
            "Epoch 71/100\n",
            "4/4 [==============================] - 0s 106ms/step - loss: 6.6597e-06 - accuracy: 1.0000 - val_loss: 1.5472 - val_accuracy: 0.7000\n",
            "Epoch 72/100\n",
            "4/4 [==============================] - 1s 129ms/step - loss: 1.2237e-06 - accuracy: 1.0000 - val_loss: 1.5492 - val_accuracy: 0.7000\n",
            "Epoch 73/100\n",
            "4/4 [==============================] - 0s 107ms/step - loss: 0.0247 - accuracy: 0.9905 - val_loss: 1.5539 - val_accuracy: 0.8000\n",
            "Epoch 74/100\n",
            "4/4 [==============================] - 0s 117ms/step - loss: 8.6282e-07 - accuracy: 1.0000 - val_loss: 1.8349 - val_accuracy: 0.8000\n",
            "Epoch 75/100\n",
            "4/4 [==============================] - 0s 89ms/step - loss: 5.9821e-05 - accuracy: 1.0000 - val_loss: 2.0795 - val_accuracy: 0.7000\n",
            "Epoch 76/100\n",
            "4/4 [==============================] - 0s 85ms/step - loss: 7.7314e-06 - accuracy: 1.0000 - val_loss: 2.2707 - val_accuracy: 0.7000\n",
            "Epoch 77/100\n",
            "4/4 [==============================] - 0s 85ms/step - loss: 0.0492 - accuracy: 0.9922 - val_loss: 2.0438 - val_accuracy: 0.7000\n",
            "Epoch 78/100\n",
            "4/4 [==============================] - 0s 80ms/step - loss: 2.2024e-04 - accuracy: 1.0000 - val_loss: 1.5405 - val_accuracy: 0.9000\n",
            "Epoch 79/100\n",
            "4/4 [==============================] - 0s 85ms/step - loss: 1.6202e-04 - accuracy: 1.0000 - val_loss: 1.3980 - val_accuracy: 0.9000\n",
            "Epoch 80/100\n",
            "4/4 [==============================] - 0s 83ms/step - loss: 7.4629e-05 - accuracy: 1.0000 - val_loss: 1.3279 - val_accuracy: 0.9000\n",
            "Epoch 81/100\n",
            "4/4 [==============================] - 0s 75ms/step - loss: 3.5841e-05 - accuracy: 1.0000 - val_loss: 1.2839 - val_accuracy: 0.9000\n",
            "Epoch 82/100\n",
            "4/4 [==============================] - 0s 80ms/step - loss: 2.5079e-06 - accuracy: 1.0000 - val_loss: 1.2555 - val_accuracy: 0.9000\n",
            "Epoch 83/100\n",
            "4/4 [==============================] - 0s 93ms/step - loss: 1.3809e-04 - accuracy: 1.0000 - val_loss: 1.2411 - val_accuracy: 0.9000\n",
            "Epoch 84/100\n",
            "4/4 [==============================] - 0s 100ms/step - loss: 2.8385e-05 - accuracy: 1.0000 - val_loss: 1.2338 - val_accuracy: 0.9000\n",
            "Epoch 85/100\n",
            "4/4 [==============================] - 0s 72ms/step - loss: 4.0833e-05 - accuracy: 1.0000 - val_loss: 1.2300 - val_accuracy: 0.9000\n",
            "Epoch 86/100\n",
            "4/4 [==============================] - 0s 93ms/step - loss: 2.7954e-04 - accuracy: 1.0000 - val_loss: 1.2294 - val_accuracy: 0.9000\n",
            "Epoch 87/100\n",
            "4/4 [==============================] - 0s 72ms/step - loss: 0.0726 - accuracy: 0.9810 - val_loss: 1.3623 - val_accuracy: 0.9000\n",
            "Epoch 88/100\n",
            "4/4 [==============================] - 0s 76ms/step - loss: 3.5204e-06 - accuracy: 1.0000 - val_loss: 1.5272 - val_accuracy: 0.9000\n",
            "Epoch 89/100\n",
            "4/4 [==============================] - 0s 73ms/step - loss: 0.0025 - accuracy: 1.0000 - val_loss: 1.6647 - val_accuracy: 0.9000\n",
            "Epoch 90/100\n",
            "4/4 [==============================] - 0s 77ms/step - loss: 0.0301 - accuracy: 0.9844 - val_loss: 1.2602 - val_accuracy: 0.9000\n",
            "Epoch 91/100\n",
            "4/4 [==============================] - 0s 72ms/step - loss: 6.4186e-05 - accuracy: 1.0000 - val_loss: 1.0011 - val_accuracy: 0.9000\n",
            "Epoch 92/100\n",
            "4/4 [==============================] - 0s 91ms/step - loss: 2.5311e-06 - accuracy: 1.0000 - val_loss: 0.9307 - val_accuracy: 0.8000\n",
            "Epoch 93/100\n",
            "4/4 [==============================] - 0s 80ms/step - loss: 4.3191e-04 - accuracy: 1.0000 - val_loss: 1.0057 - val_accuracy: 0.8000\n",
            "Epoch 94/100\n",
            "4/4 [==============================] - 0s 94ms/step - loss: 8.0597e-04 - accuracy: 1.0000 - val_loss: 1.0602 - val_accuracy: 0.8000\n",
            "Epoch 95/100\n",
            "4/4 [==============================] - 0s 80ms/step - loss: 3.4669e-04 - accuracy: 1.0000 - val_loss: 1.0920 - val_accuracy: 0.8000\n",
            "Epoch 96/100\n",
            "4/4 [==============================] - 0s 76ms/step - loss: 6.5176e-04 - accuracy: 1.0000 - val_loss: 1.1177 - val_accuracy: 0.8000\n",
            "Epoch 97/100\n",
            "4/4 [==============================] - 1s 146ms/step - loss: 5.4189e-05 - accuracy: 1.0000 - val_loss: 1.1382 - val_accuracy: 0.8000\n",
            "Epoch 98/100\n",
            "4/4 [==============================] - 0s 134ms/step - loss: 1.2275e-05 - accuracy: 1.0000 - val_loss: 1.1490 - val_accuracy: 0.8000\n",
            "Epoch 99/100\n",
            "4/4 [==============================] - 1s 140ms/step - loss: 1.0013e-04 - accuracy: 1.0000 - val_loss: 1.1539 - val_accuracy: 0.8000\n",
            "Epoch 100/100\n",
            "4/4 [==============================] - 1s 133ms/step - loss: 6.9390e-05 - accuracy: 1.0000 - val_loss: 1.1552 - val_accuracy: 0.8000\n"
          ]
        }
      ],
      "source": [
        "# Fine tune the last two dense relu layers with the new data\n",
        "\n",
        "# I'm using the same train_datagen, this is fine as long\n",
        "# as the options that I want to use is the same\n",
        "new_data_generator = train_datagen.flow_from_directory(\n",
        "    # TODO: Sesuaikan\n",
        "    directory=os.path.join(DATASET_TRANSFER_LEARNING_DIGIT, \"training\"),\n",
        "    target_size=(300, 300),\n",
        "    class_mode='categorical',\n",
        "    batch_size=32,\n",
        "    color_mode='grayscale',\n",
        ")\n",
        "\n",
        "for layer in model.layers:\n",
        "  # TODO: Might be good to set the layer name other than dense\n",
        "  # \"dense\" and \"dense_1\" are the last two layers\n",
        "  if layer.name not in (\n",
        "      \"dense\",\n",
        "      \"dense_1\"):\n",
        "    layer.trainable = False\n",
        "\n",
        "# Start the fine tuning\n",
        "history = model.fit(new_data_generator, epochs=100, steps_per_epoch=4, validation_data=validation_generator, verbose = 1, validation_steps=1)"
      ]
    },
    {
      "cell_type": "code",
      "execution_count": 19,
      "metadata": {
        "colab": {
          "base_uri": "https://localhost:8080/"
        },
        "id": "FAQBNU_MBCyf",
        "outputId": "cb277531-17da-4ad8-d3f8-8d6c927fb2a6"
      },
      "outputs": [
        {
          "output_type": "stream",
          "name": "stdout",
          "text": [
            "1/1 [==============================] - 0s 79ms/step - loss: 1.1552 - accuracy: 0.8000\n",
            "loss 1.1552057266235352\n",
            "accuracy 0.800000011920929\n"
          ]
        }
      ],
      "source": [
        "loss, accuracy = model.evaluate(validation_generator)\n",
        "print(\"loss\", loss)\n",
        "print(\"accuracy\", accuracy)"
      ]
    },
    {
      "cell_type": "code",
      "execution_count": 20,
      "metadata": {
        "colab": {
          "base_uri": "https://localhost:8080/"
        },
        "id": "9-oqFjUvDJz4",
        "outputId": "d8557e5e-35ca-4b2f-fee3-d53513f5b34f"
      },
      "outputs": [
        {
          "output_type": "stream",
          "name": "stderr",
          "text": [
            "WARNING:absl:Found untraced functions such as _jit_compiled_convolution_op, _jit_compiled_convolution_op, _jit_compiled_convolution_op, _jit_compiled_convolution_op, _jit_compiled_convolution_op while saving (showing 5 of 5). These functions will not be directly callable after loading.\n"
          ]
        }
      ],
      "source": [
        "# Deploy\n",
        "\n",
        "# Ubah nama saved weights & tflite\n",
        "# Jangan lupa download tflitenya\n",
        "model.save_weights(\"digit.h5\")\n",
        "model.save(\"small_digit_model\")\n",
        "\n",
        "converter = tf.lite.TFLiteConverter.from_saved_model(\"small_digit_model\")\n",
        "tflite_model = converter.convert()\n",
        "\n",
        "with open(\"small_digit.tflite\", \"wb\") as f:\n",
        "  f.write(tflite_model)"
      ]
    },
    {
      "cell_type": "code",
      "execution_count": 20,
      "metadata": {
        "id": "GMWSg0tk7ajV"
      },
      "outputs": [],
      "source": []
    }
  ],
  "metadata": {
    "accelerator": "GPU",
    "colab": {
      "provenance": []
    },
    "gpuClass": "standard",
    "kernelspec": {
      "display_name": "Python 3",
      "name": "python3"
    },
    "language_info": {
      "name": "python"
    }
  },
  "nbformat": 4,
  "nbformat_minor": 0
}