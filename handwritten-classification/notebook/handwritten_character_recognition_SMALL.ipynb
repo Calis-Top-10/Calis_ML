{
  "nbformat": 4,
  "nbformat_minor": 0,
  "metadata": {
    "colab": {
      "provenance": [],
      "gpuType": "T4"
    },
    "kernelspec": {
      "name": "python3",
      "display_name": "Python 3"
    },
    "language_info": {
      "name": "python"
    },
    "accelerator": "GPU",
    "gpuClass": "standard"
  },
  "cells": [
    {
      "cell_type": "markdown",
      "source": [
        "# Import Library"
      ],
      "metadata": {
        "id": "9LmeY_IP2nz7"
      }
    },
    {
      "cell_type": "code",
      "source": [
        "import os\n",
        "import tensorflow as tf\n",
        "import shutil\n",
        "import matplotlib.pyplot as plt\n",
        "import cv2\n",
        "import glob\n",
        "import shutil\n",
        "\n",
        "from tensorflow.keras.preprocessing.image import ImageDataGenerator\n"
      ],
      "metadata": {
        "id": "Q3Q6u1K6AGPV"
      },
      "execution_count": 1,
      "outputs": []
    },
    {
      "cell_type": "markdown",
      "source": [
        "# Download Dataset"
      ],
      "metadata": {
        "id": "VltHVNNn2s7K"
      }
    },
    {
      "cell_type": "code",
      "source": [
        "# # Base dataset\n",
        "!gdown 1EOnvYEpS7vGPaj196x7ozxP41mSJ-ZJk\n",
        "# # New dataset\n",
        "!gdown 10BtAXFATfCkN2aZe-wpB3ENjlgoDTLin\n",
        "# Very new dataset\n",
        "!gdown 1J2aoQ2ZSDETI2I5quEMuM8kDHulxdaMJ"
      ],
      "metadata": {
        "id": "nPW8EjRk0KrC",
        "colab": {
          "base_uri": "https://localhost:8080/"
        },
        "outputId": "86e675d4-9fd6-432d-e8ce-f9b4954432b6"
      },
      "execution_count": 2,
      "outputs": [
        {
          "output_type": "stream",
          "name": "stdout",
          "text": [
            "Downloading...\n",
            "From: https://drive.google.com/uc?id=1EOnvYEpS7vGPaj196x7ozxP41mSJ-ZJk\n",
            "To: /content/datasetBackgroundPutihMerge.zip\n",
            "100% 3.57G/3.57G [00:46<00:00, 76.5MB/s]\n",
            "Downloading...\n",
            "From: https://drive.google.com/uc?id=10BtAXFATfCkN2aZe-wpB3ENjlgoDTLin\n",
            "To: /content/handwrittenNewDataset.zip\n",
            "100% 3.07M/3.07M [00:00<00:00, 230MB/s]\n",
            "Downloading...\n",
            "From: https://drive.google.com/uc?id=1J2aoQ2ZSDETI2I5quEMuM8kDHulxdaMJ\n",
            "To: /content/handwrittenDatasetVERYNEW.zip\n",
            "100% 4.61M/4.61M [00:00<00:00, 25.4MB/s]\n"
          ]
        }
      ]
    },
    {
      "cell_type": "code",
      "source": [
        "!unzip -q /content/datasetBackgroundPutihMerge.zip\n",
        "!unzip -q /content/handwrittenNewDataset.zip\n",
        "!unzip -q /content/handwrittenDatasetVERYNEW.zip\n",
        "\n",
        "DATASET_DIRECTORY = \"datasetBackgroundPutihMerge/\"\n",
        "NEW_DATASET_DIRECTORY = \"handwrittenNewDataset/\"\n",
        "VERY_NEW_DATASET_DIRECTORY = \"handwrittenDatasetVERYNEW/\"\n"
      ],
      "metadata": {
        "id": "b42SLs0CWXKN"
      },
      "execution_count": 3,
      "outputs": []
    },
    {
      "cell_type": "code",
      "source": [
        "# Remove corrupt files\n",
        "\n",
        "filenames = [\n",
        "    \"dataset/test/O/001394.png\",\n",
        "    \"dataset/test/O/001397.png\",\n",
        "    \"dataset/test/O/001396.png\",\n",
        "    \"dataset/test/O/000892.png\",\n",
        "    \"dataset/train/6/011900.png\",\n",
        "    \"dataset/train/6/011898.png\",\n",
        "    \"dataset/train/F/005780.png\",\n",
        "    \"dataset/train/9/010953.png\",\n",
        "    \"dataset/train/9/010954.png\",\n",
        "    \"dataset/validation/1/003231.png\",\n",
        "    \"dataset/validation/1/002816.png\"\n",
        "]\n",
        "\n",
        "for filename in filenames:\n",
        "  filepath = DATASET_DIRECTORY + filename\n",
        "  os.remove(filepath)\n",
        "\n",
        "\n",
        "# Code for removing corrupt files\n",
        "# import glob\n",
        "# import os\n",
        "\n",
        "# from PIL import Image\n",
        "\n",
        "# def is_image_corrupt(file_path):\n",
        "#     try:\n",
        "#         Image.open(file_path).verify()\n",
        "#         return False\n",
        "#     except (IOError, SyntaxError):\n",
        "#         return True\n",
        "\n",
        "\n",
        "# if __name__ == \"__main__\":\n",
        "#     png_filenames = glob.glob(\"**/**.png\", recursive=True)\n",
        "#     for filename in png_filenames:\n",
        "#         if not is_image_corrupt(filename):\n",
        "#             continue\n",
        "\n",
        "#         os.remove(filename)\n",
        "#         print(f\"Deleted corrupt image: {filename}\")"
      ],
      "metadata": {
        "id": "TJRBf-Vx5Sei"
      },
      "execution_count": 4,
      "outputs": []
    },
    {
      "cell_type": "code",
      "source": [
        "# How many images for each class to be moved into the base dataset validation\n",
        "# the rest will be moved into the base dataset training set\n",
        "NEW_DATASET_VALIDATION_MOVE_SUM = 1\n",
        "\n",
        "# Move some of the new data to base dataset\n",
        "for class_name in os.listdir(NEW_DATASET_DIRECTORY):\n",
        "  # class_name is the A, B, C, etc...\n",
        "  validation_move_sum = 0\n",
        "  for filepath in glob.glob(os.path.join(NEW_DATASET_DIRECTORY, class_name, '*.png')):\n",
        "    if validation_move_sum < NEW_DATASET_VALIDATION_MOVE_SUM:\n",
        "      # Essentially we don't move anything out of the directory, because this directory\n",
        "      # is used as the validation directory\n",
        "      validation_move_sum += 1\n",
        "      continue\n",
        "    shutil.move(filepath, os.path.join(DATASET_DIRECTORY, \"dataset\", \"train\", class_name))\n"
      ],
      "metadata": {
        "id": "EWoa0V1gN1H9"
      },
      "execution_count": 5,
      "outputs": []
    },
    {
      "cell_type": "code",
      "source": [
        "# Base dataset\n",
        "# It contains dataset from kaggle and the data that's made by us\n",
        "\n",
        "# Split dataset between digits, small alphabet, and capital alphabet\n",
        "DATASET_SMALL_DIR = \"datasetSmall\"\n",
        "DATASET_CAPITAL_DIR = \"datasetCapital\"\n",
        "DATASET_DIGIT_DIR = \"datasetDigit\"\n",
        "\n",
        "for class_name in os.listdir(os.path.join(DATASET_DIRECTORY, \"dataset\", \"train\")):\n",
        "  if class_name.isupper():\n",
        "    dest_fpath = os.path.join(DATASET_CAPITAL_DIR, \"train\", class_name)\n",
        "  elif class_name.islower():\n",
        "    dest_fpath = os.path.join(DATASET_SMALL_DIR, \"train\", class_name)\n",
        "  elif class_name.isdigit():\n",
        "    dest_fpath = os.path.join(DATASET_DIGIT_DIR, \"train\", class_name)\n",
        "\n",
        "  os.makedirs(os.path.dirname(dest_fpath), exist_ok=True)\n",
        "  shutil.move(os.path.join(DATASET_DIRECTORY, \"dataset\", \"train\", class_name), dest_fpath)\n",
        "\n",
        "for class_name in os.listdir(NEW_DATASET_DIRECTORY):\n",
        "  if class_name.isupper():\n",
        "    dest_fpath = os.path.join(DATASET_CAPITAL_DIR, \"validation\", class_name)\n",
        "  elif class_name.islower():\n",
        "    dest_fpath = os.path.join(DATASET_SMALL_DIR, \"validation\", class_name)\n",
        "  elif class_name.isdigit():\n",
        "    dest_fpath = os.path.join(DATASET_DIGIT_DIR, \"validation\", class_name)\n",
        "\n",
        "  os.makedirs(os.path.dirname(dest_fpath), exist_ok=True)\n",
        "  shutil.move(os.path.join(NEW_DATASET_DIRECTORY, class_name), dest_fpath)\n"
      ],
      "metadata": {
        "id": "SVUEpE3DbaQm"
      },
      "execution_count": 6,
      "outputs": []
    },
    {
      "cell_type": "code",
      "source": [
        "# Create dataset for transfer learning\n",
        "DATASET_TRANSFER_LEARNING_SMALL = \"datasetSmallOnlyNew\"\n",
        "DATASET_TRANSFER_LEARNING_CAPITAL = \"datasetCapitalOnlyNew\"\n",
        "DATASET_TRANSFER_LEARNING_DIGIT = \"datasetDigitOnlyNew\"\n",
        "\n",
        "for class_name in os.listdir(NEW_DATASET_DIRECTORY):\n",
        "  if class_name.isupper():\n",
        "    dest_fpath = os.path.join(DATASET_TRANSFER_LEARNING_CAPITAL, \"training\", class_name)\n",
        "  elif class_name.islower():\n",
        "    dest_fpath = os.path.join(DATASET_TRANSFER_LEARNING_SMALL, \"training\", class_name)\n",
        "  elif class_name.isdigit():\n",
        "    dest_fpath = os.path.join(DATASET_TRANSFER_LEARNING_DIGIT, \"training\", class_name)\n",
        "\n",
        "  os.makedirs(os.path.dirname(dest_fpath), exist_ok=True)\n",
        "  shutil.move(os.path.join(NEW_DATASET_DIRECTORY, class_name), dest_fpath)\n"
      ],
      "metadata": {
        "id": "pSU5wHC5-7Gn"
      },
      "execution_count": 7,
      "outputs": []
    },
    {
      "cell_type": "code",
      "source": [
        "def split_char_dataset_into_its_dirs(source_dir, capital_dir, small_dir, digit_dir, subdir=\"training\"):\n",
        "  # TODO: Refactor above cells to use this function instead\n",
        "  for class_name in os.listdir(source_dir):\n",
        "    if class_name.isupper():\n",
        "      dest_fpath = os.path.join(capital_dir, subdir, class_name)\n",
        "    elif class_name.islower():\n",
        "      dest_fpath = os.path.join(small_dir, subdir, class_name)\n",
        "    elif class_name.isdigit():\n",
        "      dest_fpath = os.path.join(digit_dir, subdir, class_name)\n",
        "    print(dest_fpath)\n",
        "    os.makedirs(os.path.dirname(dest_fpath), exist_ok=True)\n",
        "    shutil.move(os.path.join(source_dir, class_name), dest_fpath)"
      ],
      "metadata": {
        "id": "wLkIu96Rx2wu"
      },
      "execution_count": 8,
      "outputs": []
    },
    {
      "cell_type": "code",
      "source": [
        "split_char_dataset_into_its_dirs(\n",
        "    source_dir=VERY_NEW_DATASET_DIRECTORY,\n",
        "    capital_dir=DATASET_TRANSFER_LEARNING_CAPITAL,\n",
        "    small_dir=DATASET_TRANSFER_LEARNING_SMALL,\n",
        "    digit_dir=DATASET_TRANSFER_LEARNING_DIGIT,\n",
        "    subdir=\"training\"\n",
        "    )"
      ],
      "metadata": {
        "colab": {
          "base_uri": "https://localhost:8080/"
        },
        "id": "mhZdrgmIzq4z",
        "outputId": "d316275e-af2e-4c0e-f68e-cb6b71548250"
      },
      "execution_count": 9,
      "outputs": [
        {
          "output_type": "stream",
          "name": "stdout",
          "text": [
            "datasetSmallOnlyNew/training/y\n",
            "datasetSmallOnlyNew/training/g\n",
            "datasetSmallOnlyNew/training/u\n",
            "datasetSmallOnlyNew/training/l\n",
            "datasetSmallOnlyNew/training/i\n",
            "datasetSmallOnlyNew/training/x\n",
            "datasetSmallOnlyNew/training/o\n",
            "datasetSmallOnlyNew/training/f\n",
            "datasetSmallOnlyNew/training/w\n",
            "datasetSmallOnlyNew/training/r\n",
            "datasetDigitOnlyNew/training/8\n",
            "datasetDigitOnlyNew/training/5\n",
            "datasetDigitOnlyNew/training/3\n",
            "datasetDigitOnlyNew/training/1\n",
            "datasetDigitOnlyNew/training/2\n",
            "datasetDigitOnlyNew/training/7\n",
            "datasetSmallOnlyNew/training/h\n",
            "datasetDigitOnlyNew/training/9\n",
            "datasetSmallOnlyNew/training/t\n",
            "datasetSmallOnlyNew/training/v\n",
            "datasetSmallOnlyNew/training/s\n",
            "datasetSmallOnlyNew/training/z\n",
            "datasetSmallOnlyNew/training/e\n",
            "datasetSmallOnlyNew/training/m\n",
            "datasetSmallOnlyNew/training/b\n",
            "datasetSmallOnlyNew/training/p\n",
            "datasetDigitOnlyNew/training/6\n",
            "datasetSmallOnlyNew/training/q\n",
            "datasetSmallOnlyNew/training/k\n",
            "datasetSmallOnlyNew/training/c\n",
            "datasetSmallOnlyNew/training/n\n",
            "datasetDigitOnlyNew/training/4\n",
            "datasetDigitOnlyNew/training/0\n",
            "datasetSmallOnlyNew/training/d\n",
            "datasetSmallOnlyNew/training/a\n",
            "datasetSmallOnlyNew/training/j\n"
          ]
        }
      ]
    },
    {
      "cell_type": "markdown",
      "source": [
        "## Train Set"
      ],
      "metadata": {
        "id": "xM1rh5Rih3U7"
      }
    },
    {
      "cell_type": "code",
      "source": [
        "train_datagen = ImageDataGenerator(\n",
        "    rescale = 1./255,\n",
        "    )\n",
        "\n",
        "train_generator = train_datagen.flow_from_directory(\n",
        "    # TODO: Ganti directory ke dir dataset\n",
        "    directory=os.path.join(DATASET_SMALL_DIR, \"train\"),\n",
        "    target_size=(300, 300),\n",
        "    class_mode='categorical',\n",
        "    batch_size=126,\n",
        "    color_mode='grayscale',\n",
        ")"
      ],
      "metadata": {
        "id": "BiEJ0wHNhd6W",
        "colab": {
          "base_uri": "https://localhost:8080/"
        },
        "outputId": "66140f5b-d1a7-4774-c3fc-135442818da0"
      },
      "execution_count": 10,
      "outputs": [
        {
          "output_type": "stream",
          "name": "stdout",
          "text": [
            "Found 111895 images belonging to 26 classes.\n"
          ]
        }
      ]
    },
    {
      "cell_type": "markdown",
      "source": [
        "## Validation Set"
      ],
      "metadata": {
        "id": "okdJEd6Dh9GY"
      }
    },
    {
      "cell_type": "code",
      "source": [
        "validation_datagen = ImageDataGenerator(rescale = 1./255)\n",
        "\n",
        "validation_generator = validation_datagen.flow_from_directory(\n",
        "\t# TODO: Sesuaikan directory\n",
        "\tdirectory=os.path.join(DATASET_SMALL_DIR, \"validation\"),\n",
        "\ttarget_size=(300,300),\n",
        "\tclass_mode='categorical',\n",
        "\tbatch_size=126,\n",
        "\tcolor_mode='grayscale',\n",
        ")"
      ],
      "metadata": {
        "id": "KG9-HnaLhrAX",
        "colab": {
          "base_uri": "https://localhost:8080/"
        },
        "outputId": "dcb9defb-d275-4de0-d698-03c93e074822"
      },
      "execution_count": 11,
      "outputs": [
        {
          "output_type": "stream",
          "name": "stdout",
          "text": [
            "Found 26 images belonging to 26 classes.\n"
          ]
        }
      ]
    },
    {
      "cell_type": "markdown",
      "source": [
        "## Test Set"
      ],
      "metadata": {
        "id": "_5rlnXleh-0x"
      }
    },
    {
      "cell_type": "markdown",
      "source": [
        "# Build Model"
      ],
      "metadata": {
        "id": "67qrXw7Tka0k"
      }
    },
    {
      "cell_type": "code",
      "source": [
        "model = tf.keras.models.Sequential([\n",
        "    #input shape is the desired size of the image 300x300 with 3 bytes color\n",
        "    # This is the first convolution\n",
        "    tf.keras.layers.Conv2D(16, (3,3), activation='relu', input_shape=(300, 300, 1)),\n",
        "    tf.keras.layers.MaxPooling2D(2, 2),\n",
        "    # The second convolution\n",
        "    tf.keras.layers.Conv2D(32, (3,3), activation='relu'),\n",
        "    tf.keras.layers.MaxPooling2D(2,2),\n",
        "    # The third convolution\n",
        "    tf.keras.layers.Conv2D(64, (3,3), activation='relu'),\n",
        "    tf.keras.layers.MaxPooling2D(2,2),\n",
        "    # The fourth convolution\n",
        "    tf.keras.layers.Conv2D(64, (3,3), activation='relu'),\n",
        "    tf.keras.layers.MaxPooling2D(2,2),\n",
        "    # The fifth convolution\n",
        "    tf.keras.layers.Conv2D(64, (3,3), activation='relu'),\n",
        "    tf.keras.layers.MaxPooling2D(2,2),\n",
        "    # Flatten the results to feed into a DNN\n",
        "    tf.keras.layers.Flatten(),\n",
        "    # Dropout Layer\n",
        "    tf.keras.layers.Dropout(0.5),\n",
        "    # 512 neuron hidden layer\n",
        "    tf.keras.layers.Dense(512, activation='relu'),\n",
        "    # 62 output neuron.\n",
        "    # TODO: Ganti ke 10 buat digit\n",
        "    tf.keras.layers.Dense(26, activation='softmax')\n",
        "])\n",
        "\n",
        "model.compile(loss='categorical_crossentropy',\n",
        "              optimizer='adam',\n",
        "              metrics=['accuracy'])\n",
        "\n",
        "model.summary()"
      ],
      "metadata": {
        "id": "lRVDyt8skcKN",
        "colab": {
          "base_uri": "https://localhost:8080/"
        },
        "outputId": "6425eb16-be35-442f-b72a-b6afa1b5d3a5"
      },
      "execution_count": 12,
      "outputs": [
        {
          "output_type": "stream",
          "name": "stdout",
          "text": [
            "Model: \"sequential\"\n",
            "_________________________________________________________________\n",
            " Layer (type)                Output Shape              Param #   \n",
            "=================================================================\n",
            " conv2d (Conv2D)             (None, 298, 298, 16)      160       \n",
            "                                                                 \n",
            " max_pooling2d (MaxPooling2D  (None, 149, 149, 16)     0         \n",
            " )                                                               \n",
            "                                                                 \n",
            " conv2d_1 (Conv2D)           (None, 147, 147, 32)      4640      \n",
            "                                                                 \n",
            " max_pooling2d_1 (MaxPooling  (None, 73, 73, 32)       0         \n",
            " 2D)                                                             \n",
            "                                                                 \n",
            " conv2d_2 (Conv2D)           (None, 71, 71, 64)        18496     \n",
            "                                                                 \n",
            " max_pooling2d_2 (MaxPooling  (None, 35, 35, 64)       0         \n",
            " 2D)                                                             \n",
            "                                                                 \n",
            " conv2d_3 (Conv2D)           (None, 33, 33, 64)        36928     \n",
            "                                                                 \n",
            " max_pooling2d_3 (MaxPooling  (None, 16, 16, 64)       0         \n",
            " 2D)                                                             \n",
            "                                                                 \n",
            " conv2d_4 (Conv2D)           (None, 14, 14, 64)        36928     \n",
            "                                                                 \n",
            " max_pooling2d_4 (MaxPooling  (None, 7, 7, 64)         0         \n",
            " 2D)                                                             \n",
            "                                                                 \n",
            " flatten (Flatten)           (None, 3136)              0         \n",
            "                                                                 \n",
            " dropout (Dropout)           (None, 3136)              0         \n",
            "                                                                 \n",
            " dense (Dense)               (None, 512)               1606144   \n",
            "                                                                 \n",
            " dense_1 (Dense)             (None, 26)                13338     \n",
            "                                                                 \n",
            "=================================================================\n",
            "Total params: 1,716,634\n",
            "Trainable params: 1,716,634\n",
            "Non-trainable params: 0\n",
            "_________________________________________________________________\n"
          ]
        }
      ]
    },
    {
      "cell_type": "markdown",
      "source": [
        "# Train The Model"
      ],
      "metadata": {
        "id": "6JHGKZNXl6Y5"
      }
    },
    {
      "cell_type": "code",
      "source": [
        "history = model.fit(train_generator, epochs=25, steps_per_epoch=20, validation_data=validation_generator, verbose = 1, validation_steps=1)"
      ],
      "metadata": {
        "id": "66Wg783gl4zp",
        "colab": {
          "base_uri": "https://localhost:8080/"
        },
        "outputId": "9a05f6d0-3fa9-4c37-f4b5-0b009f66e336"
      },
      "execution_count": 13,
      "outputs": [
        {
          "output_type": "stream",
          "name": "stdout",
          "text": [
            "Epoch 1/25\n",
            "20/20 [==============================] - 24s 417ms/step - loss: 2.9369 - accuracy: 0.1730 - val_loss: 3.6106 - val_accuracy: 0.0000e+00\n",
            "Epoch 2/25\n",
            "20/20 [==============================] - 8s 372ms/step - loss: 1.5953 - accuracy: 0.5821 - val_loss: 3.8080 - val_accuracy: 0.1538\n",
            "Epoch 3/25\n",
            "20/20 [==============================] - 7s 333ms/step - loss: 1.0321 - accuracy: 0.7179 - val_loss: 3.4845 - val_accuracy: 0.1538\n",
            "Epoch 4/25\n",
            "20/20 [==============================] - 7s 353ms/step - loss: 0.7579 - accuracy: 0.7960 - val_loss: 2.7418 - val_accuracy: 0.3462\n",
            "Epoch 5/25\n",
            "20/20 [==============================] - 7s 359ms/step - loss: 0.6405 - accuracy: 0.8167 - val_loss: 2.6491 - val_accuracy: 0.3462\n",
            "Epoch 6/25\n",
            "20/20 [==============================] - 6s 306ms/step - loss: 0.5698 - accuracy: 0.8437 - val_loss: 2.8872 - val_accuracy: 0.4231\n",
            "Epoch 7/25\n",
            "20/20 [==============================] - 7s 355ms/step - loss: 0.5805 - accuracy: 0.8337 - val_loss: 2.9716 - val_accuracy: 0.3077\n",
            "Epoch 8/25\n",
            "20/20 [==============================] - 6s 305ms/step - loss: 0.4930 - accuracy: 0.8643 - val_loss: 2.3938 - val_accuracy: 0.3077\n",
            "Epoch 9/25\n",
            "20/20 [==============================] - 7s 331ms/step - loss: 0.4973 - accuracy: 0.8595 - val_loss: 2.4057 - val_accuracy: 0.3846\n",
            "Epoch 10/25\n",
            "20/20 [==============================] - 6s 296ms/step - loss: 0.4814 - accuracy: 0.8766 - val_loss: 2.3024 - val_accuracy: 0.3846\n",
            "Epoch 11/25\n",
            "20/20 [==============================] - 6s 292ms/step - loss: 0.4541 - accuracy: 0.8722 - val_loss: 2.0416 - val_accuracy: 0.4231\n",
            "Epoch 12/25\n",
            "20/20 [==============================] - 7s 334ms/step - loss: 0.4506 - accuracy: 0.8679 - val_loss: 2.1870 - val_accuracy: 0.4231\n",
            "Epoch 13/25\n",
            "20/20 [==============================] - 6s 280ms/step - loss: 0.4232 - accuracy: 0.8766 - val_loss: 2.1118 - val_accuracy: 0.4231\n",
            "Epoch 14/25\n",
            "20/20 [==============================] - 6s 270ms/step - loss: 0.4232 - accuracy: 0.8782 - val_loss: 2.1762 - val_accuracy: 0.4231\n",
            "Epoch 15/25\n",
            "20/20 [==============================] - 6s 317ms/step - loss: 0.3977 - accuracy: 0.8837 - val_loss: 2.1457 - val_accuracy: 0.5000\n",
            "Epoch 16/25\n",
            "20/20 [==============================] - 5s 261ms/step - loss: 0.4246 - accuracy: 0.8794 - val_loss: 2.3405 - val_accuracy: 0.3462\n",
            "Epoch 17/25\n",
            "20/20 [==============================] - 5s 256ms/step - loss: 0.3958 - accuracy: 0.8837 - val_loss: 1.6992 - val_accuracy: 0.5769\n",
            "Epoch 18/25\n",
            "20/20 [==============================] - 6s 297ms/step - loss: 0.4140 - accuracy: 0.8810 - val_loss: 1.9686 - val_accuracy: 0.4231\n",
            "Epoch 19/25\n",
            "20/20 [==============================] - 6s 274ms/step - loss: 0.3866 - accuracy: 0.8909 - val_loss: 1.8109 - val_accuracy: 0.5385\n",
            "Epoch 20/25\n",
            "20/20 [==============================] - 5s 252ms/step - loss: 0.3803 - accuracy: 0.8901 - val_loss: 1.9585 - val_accuracy: 0.5385\n",
            "Epoch 21/25\n",
            "20/20 [==============================] - 5s 251ms/step - loss: 0.3722 - accuracy: 0.8877 - val_loss: 1.9803 - val_accuracy: 0.5769\n",
            "Epoch 22/25\n",
            "20/20 [==============================] - 6s 298ms/step - loss: 0.3580 - accuracy: 0.8929 - val_loss: 1.7994 - val_accuracy: 0.6154\n",
            "Epoch 23/25\n",
            "20/20 [==============================] - 5s 256ms/step - loss: 0.3656 - accuracy: 0.8881 - val_loss: 1.9278 - val_accuracy: 0.6154\n",
            "Epoch 24/25\n",
            "20/20 [==============================] - 5s 243ms/step - loss: 0.3494 - accuracy: 0.8980 - val_loss: 1.8023 - val_accuracy: 0.5769\n",
            "Epoch 25/25\n",
            "20/20 [==============================] - 6s 308ms/step - loss: 0.3692 - accuracy: 0.8968 - val_loss: 1.9798 - val_accuracy: 0.5385\n"
          ]
        }
      ]
    },
    {
      "cell_type": "markdown",
      "source": [
        "# Evaluate the Results"
      ],
      "metadata": {
        "id": "EWbZGevtmCxc"
      }
    },
    {
      "cell_type": "code",
      "source": [
        "import matplotlib.pyplot as plt\n",
        "\n",
        "# Plot the results\n",
        "acc = history.history['accuracy']\n",
        "val_acc = history.history['val_accuracy']\n",
        "loss = history.history['loss']\n",
        "val_loss = history.history['val_loss']\n",
        "\n",
        "epochs = range(len(acc))\n",
        "\n",
        "plt.plot(epochs, acc, 'r', label='Training accuracy')\n",
        "plt.plot(epochs, val_acc, 'b', label='Validation accuracy')\n",
        "plt.title('Training and validation accuracy')\n",
        "plt.legend(loc=0)\n",
        "plt.figure()\n",
        "\n",
        "plt.show()"
      ],
      "metadata": {
        "id": "qUlV1MObldKO",
        "colab": {
          "base_uri": "https://localhost:8080/",
          "height": 470
        },
        "outputId": "0f01d0aa-d987-4d4e-e298-6cdfd2d2bc6d"
      },
      "execution_count": 14,
      "outputs": [
        {
          "output_type": "display_data",
          "data": {
            "text/plain": [
              "<Figure size 640x480 with 1 Axes>"
            ],
            "image/png": "[encoded data removed]"
          },
          "metadata": {}
        },
        {
          "output_type": "display_data",
          "data": {
            "text/plain": [
              "<Figure size 640x480 with 0 Axes>"
            ]
          },
          "metadata": {}
        }
      ]
    },
    {
      "cell_type": "code",
      "source": [],
      "metadata": {
        "id": "yeQjh0fX50pe"
      },
      "execution_count": 14,
      "outputs": []
    },
    {
      "cell_type": "markdown",
      "source": [
        "# Transfer learning\n"
      ],
      "metadata": {
        "id": "oGqbeGaT8UiM"
      }
    },
    {
      "cell_type": "code",
      "source": [
        "def cut_model(original_model, cut_index):\n",
        "  # Assuming you have an original model with its weights named \"original_model\"\n",
        "\n",
        "  # Create a new model with the desired layers from the original model\n",
        "  cut_model = tf.keras.Model(inputs=original_model.inputs, outputs=original_model.layers[cut_index].output)\n",
        "\n",
        "  # Copy the weights from the original model to the cut model\n",
        "  for i in range(cut_index):\n",
        "      print(cut_model.layers[i])\n",
        "      print(original_model.layers[i])\n",
        "      cut_model.layers[i].set_weights(original_model.layers[i].get_weights())\n",
        "\n",
        "  return cut_model"
      ],
      "metadata": {
        "id": "7Hum95w_EjOB"
      },
      "execution_count": 15,
      "outputs": []
    },
    {
      "cell_type": "code",
      "source": [
        "# Fine tune the last two dense relu layers with the new data\n",
        "\n",
        "# I'm using the same train_datagen, this is fine as long\n",
        "# as the options that I want to use is the same\n",
        "new_data_generator = train_datagen.flow_from_directory(\n",
        "    # TODO: Sesuaikan\n",
        "    directory=os.path.join(DATASET_TRANSFER_LEARNING_SMALL, \"training\"),\n",
        "    target_size=(300, 300),\n",
        "    class_mode='categorical',\n",
        "    batch_size=126,\n",
        "    color_mode='grayscale',\n",
        ")\n",
        "\n",
        "for layer in model.layers:\n",
        "  # TODO: Might be good to set the layer name other than dense\n",
        "  # \"dense\" and \"dense_1\" are the last two layers\n",
        "  if layer.name not in (\n",
        "      \"dense\",\n",
        "      \"dense_1\"):\n",
        "    layer.trainable = False\n",
        "\n",
        "# Start the fine tuning\n",
        "history = model.fit(new_data_generator, epochs=11, steps_per_epoch=4, validation_data=validation_generator, verbose = 1, validation_steps=1)"
      ],
      "metadata": {
        "colab": {
          "base_uri": "https://localhost:8080/"
        },
        "id": "TTBRQTyX8YWb",
        "outputId": "66fe6634-f60d-45ea-882f-2892007ceb54"
      },
      "execution_count": 16,
      "outputs": [
        {
          "output_type": "stream",
          "name": "stdout",
          "text": [
            "Found 511 images belonging to 26 classes.\n",
            "Epoch 1/11\n",
            "4/4 [==============================] - 1s 315ms/step - loss: 0.8304 - accuracy: 0.7440 - val_loss: 1.0701 - val_accuracy: 0.6154\n",
            "Epoch 2/11\n",
            "4/4 [==============================] - 1s 304ms/step - loss: 0.3497 - accuracy: 0.8988 - val_loss: 0.9600 - val_accuracy: 0.6538\n",
            "Epoch 3/11\n",
            "4/4 [==============================] - 1s 359ms/step - loss: 0.1317 - accuracy: 0.9663 - val_loss: 0.7717 - val_accuracy: 0.6923\n",
            "Epoch 4/11\n",
            "4/4 [==============================] - 2s 358ms/step - loss: 0.1095 - accuracy: 0.9662 - val_loss: 1.0616 - val_accuracy: 0.8077\n",
            "Epoch 5/11\n",
            "4/4 [==============================] - 1s 275ms/step - loss: 0.0908 - accuracy: 0.9688 - val_loss: 1.4730 - val_accuracy: 0.6923\n",
            "Epoch 6/11\n",
            "4/4 [==============================] - 1s 283ms/step - loss: 0.2543 - accuracy: 0.9429 - val_loss: 0.7768 - val_accuracy: 0.8462\n",
            "Epoch 7/11\n",
            "4/4 [==============================] - 1s 258ms/step - loss: 0.0534 - accuracy: 0.9896 - val_loss: 0.9100 - val_accuracy: 0.6923\n",
            "Epoch 8/11\n",
            "4/4 [==============================] - 1s 305ms/step - loss: 0.1022 - accuracy: 0.9643 - val_loss: 0.6957 - val_accuracy: 0.8462\n",
            "Epoch 9/11\n",
            "4/4 [==============================] - 1s 300ms/step - loss: 0.0358 - accuracy: 0.9881 - val_loss: 0.8461 - val_accuracy: 0.8077\n",
            "Epoch 10/11\n",
            "4/4 [==============================] - 1s 298ms/step - loss: 0.0299 - accuracy: 0.9921 - val_loss: 0.6762 - val_accuracy: 0.7692\n",
            "Epoch 11/11\n",
            "4/4 [==============================] - 1s 350ms/step - loss: 0.0175 - accuracy: 0.9922 - val_loss: 0.6467 - val_accuracy: 0.8077\n"
          ]
        }
      ]
    },
    {
      "cell_type": "code",
      "source": [
        "loss, accuracy = model.evaluate(validation_generator)\n",
        "print(\"loss\", loss)\n",
        "print(\"accuracy\", accuracy)"
      ],
      "metadata": {
        "colab": {
          "base_uri": "https://localhost:8080/"
        },
        "id": "FAQBNU_MBCyf",
        "outputId": "fe573a61-7c21-4a94-f9c2-ba1760ff5b44"
      },
      "execution_count": 17,
      "outputs": [
        {
          "output_type": "stream",
          "name": "stdout",
          "text": [
            "1/1 [==============================] - 0s 121ms/step - loss: 0.6467 - accuracy: 0.8077\n",
            "loss 0.6467111110687256\n",
            "accuracy 0.807692289352417\n"
          ]
        }
      ]
    },
    {
      "cell_type": "code",
      "source": [
        "# Deploy\n",
        "\n",
        "# Ubah nama saved weights & tflite\n",
        "# Jangan lupa download tflitenya\n",
        "model.save_weights(\"small_char.h5\")\n",
        "model.save(\"small_char_model\")\n",
        "\n",
        "converter = tf.lite.TFLiteConverter.from_saved_model(\"small_char_model\")\n",
        "tflite_model = converter.convert()\n",
        "\n",
        "with open(\"small_char.tflite\", \"wb\") as f:\n",
        "  f.write(tflite_model)"
      ],
      "metadata": {
        "id": "9-oqFjUvDJz4",
        "colab": {
          "base_uri": "https://localhost:8080/"
        },
        "outputId": "1eefee65-aad6-455c-f6dc-b23b330298d2"
      },
      "execution_count": 18,
      "outputs": [
        {
          "output_type": "stream",
          "name": "stderr",
          "text": [
            "WARNING:absl:Found untraced functions such as _jit_compiled_convolution_op, _jit_compiled_convolution_op, _jit_compiled_convolution_op, _jit_compiled_convolution_op, _jit_compiled_convolution_op while saving (showing 5 of 5). These functions will not be directly callable after loading.\n"
          ]
        }
      ]
    },
    {
      "cell_type": "code",
      "source": [],
      "metadata": {
        "id": "GMWSg0tk7ajV"
      },
      "execution_count": 18,
      "outputs": []
    }
  ]
}