{
  "nbformat": 4,
  "nbformat_minor": 0,
  "metadata": {
    "colab": {
      "provenance": [],
      "gpuType": "T4"
    },
    "kernelspec": {
      "name": "python3",
      "display_name": "Python 3"
    },
    "language_info": {
      "name": "python"
    },
    "accelerator": "GPU",
    "gpuClass": "standard"
  },
  "cells": [
    {
      "cell_type": "markdown",
      "source": [
        "# Import Library"
      ],
      "metadata": {
        "id": "9LmeY_IP2nz7"
      }
    },
    {
      "cell_type": "code",
      "source": [
        "import os\n",
        "import tensorflow as tf\n",
        "import shutil\n",
        "import matplotlib.pyplot as plt\n",
        "import cv2\n",
        "import glob\n",
        "import shutil\n",
        "\n",
        "from tensorflow.keras.preprocessing.image import ImageDataGenerator\n"
      ],
      "metadata": {
        "id": "Q3Q6u1K6AGPV"
      },
      "execution_count": 1,
      "outputs": []
    },
    {
      "cell_type": "markdown",
      "source": [
        "# Download Dataset"
      ],
      "metadata": {
        "id": "VltHVNNn2s7K"
      }
    },
    {
      "cell_type": "code",
      "source": [
        "# Base dataset\n",
        "!gdown 1EOnvYEpS7vGPaj196x7ozxP41mSJ-ZJk\n",
        "# New dataset\n",
        "!gdown 10BtAXFATfCkN2aZe-wpB3ENjlgoDTLin\n",
        "# Very new dataset\n",
        "!gdown 1J2aoQ2ZSDETI2I5quEMuM8kDHulxdaMJ"
      ],
      "metadata": {
        "id": "nPW8EjRk0KrC",
        "colab": {
          "base_uri": "https://localhost:8080/"
        },
        "outputId": "62e5761e-ffc9-47a5-82f8-12ef091eb663"
      },
      "execution_count": 10,
      "outputs": [
        {
          "output_type": "stream",
          "name": "stdout",
          "text": [
            "Downloading...\n",
            "From: https://drive.google.com/uc?id=1J2aoQ2ZSDETI2I5quEMuM8kDHulxdaMJ\n",
            "To: /content/handwrittenDatasetVERYNEW.zip\n",
            "\r  0% 0.00/4.61M [00:00<?, ?B/s]\r100% 4.61M/4.61M [00:00<00:00, 152MB/s]\n"
          ]
        }
      ]
    },
    {
      "cell_type": "code",
      "source": [
        "!unzip -q /content/datasetBackgroundPutihMerge.zip\n",
        "!unzip -q /content/handwrittenNewDataset.zip\n",
        "!unzip -q /content/handwrittenDatasetVERYNEW.zip\n",
        "\n",
        "DATASET_DIRECTORY = \"datasetBackgroundPutihMerge/\"\n",
        "NEW_DATASET_DIRECTORY = \"handwrittenNewDataset/\"\n",
        "VERY_NEW_DATASET_DIRECTORY = \"handwrittenDatasetVERYNEW/\"\n"
      ],
      "metadata": {
        "id": "b42SLs0CWXKN"
      },
      "execution_count": 11,
      "outputs": []
    },
    {
      "cell_type": "code",
      "source": [
        "# Remove corrupt files\n",
        "\n",
        "filenames = [\n",
        "    \"dataset/test/O/001394.png\",\n",
        "    \"dataset/test/O/001397.png\",\n",
        "    \"dataset/test/O/001396.png\",\n",
        "    \"dataset/test/O/000892.png\",\n",
        "    \"dataset/train/6/011900.png\",\n",
        "    \"dataset/train/6/011898.png\",\n",
        "    \"dataset/train/F/005780.png\",\n",
        "    \"dataset/train/9/010953.png\",\n",
        "    \"dataset/train/9/010954.png\",\n",
        "    \"dataset/validation/1/003231.png\",\n",
        "    \"dataset/validation/1/002816.png\"\n",
        "]\n",
        "\n",
        "for filename in filenames:\n",
        "  filepath = DATASET_DIRECTORY + filename\n",
        "  os.remove(filepath)\n",
        "\n",
        "\n",
        "# Code for removing corrupt files\n",
        "# import glob\n",
        "# import os\n",
        "\n",
        "# from PIL import Image\n",
        "\n",
        "# def is_image_corrupt(file_path):\n",
        "#     try:\n",
        "#         Image.open(file_path).verify()\n",
        "#         return False\n",
        "#     except (IOError, SyntaxError):\n",
        "#         return True\n",
        "\n",
        "\n",
        "# if __name__ == \"__main__\":\n",
        "#     png_filenames = glob.glob(\"**/**.png\", recursive=True)\n",
        "#     for filename in png_filenames:\n",
        "#         if not is_image_corrupt(filename):\n",
        "#             continue\n",
        "\n",
        "#         os.remove(filename)\n",
        "#         print(f\"Deleted corrupt image: {filename}\")"
      ],
      "metadata": {
        "id": "TJRBf-Vx5Sei"
      },
      "execution_count": 4,
      "outputs": []
    },
    {
      "cell_type": "code",
      "source": [
        "# How many images for each class to be moved into the base dataset validation\n",
        "# the rest will be moved into the base dataset training set\n",
        "NEW_DATASET_VALIDATION_MOVE_SUM = 1\n",
        "\n",
        "# Move some of the new data to base dataset\n",
        "for class_name in os.listdir(NEW_DATASET_DIRECTORY):\n",
        "  # class_name is the A, B, C, etc...\n",
        "  validation_move_sum = 0\n",
        "  for filepath in glob.glob(os.path.join(NEW_DATASET_DIRECTORY, class_name, '*.png')):\n",
        "    if validation_move_sum < NEW_DATASET_VALIDATION_MOVE_SUM:\n",
        "      # Essentially we don't move anything out of the directory, because this directory\n",
        "      # is used as the validation directory\n",
        "      validation_move_sum += 1\n",
        "      continue\n",
        "    shutil.move(filepath, os.path.join(DATASET_DIRECTORY, \"dataset\", \"train\", class_name))\n"
      ],
      "metadata": {
        "id": "EWoa0V1gN1H9"
      },
      "execution_count": 5,
      "outputs": []
    },
    {
      "cell_type": "code",
      "source": [
        "# Base dataset\n",
        "# It contains dataset from kaggle and the data that's made by us\n",
        "\n",
        "# Split dataset between digits, small alphabet, and capital alphabet\n",
        "DATASET_SMALL_DIR = \"datasetSmall\"\n",
        "DATASET_CAPITAL_DIR = \"datasetCapital\"\n",
        "DATASET_DIGIT_DIR = \"datasetDigit\"\n",
        "\n",
        "for class_name in os.listdir(os.path.join(DATASET_DIRECTORY, \"dataset\", \"train\")):\n",
        "  if class_name.isupper():\n",
        "    dest_fpath = os.path.join(DATASET_CAPITAL_DIR, \"train\", class_name)\n",
        "  elif class_name.islower():\n",
        "    dest_fpath = os.path.join(DATASET_SMALL_DIR, \"train\", class_name)\n",
        "  elif class_name.isdigit():\n",
        "    dest_fpath = os.path.join(DATASET_DIGIT_DIR, \"train\", class_name)\n",
        "\n",
        "  os.makedirs(os.path.dirname(dest_fpath), exist_ok=True)\n",
        "  shutil.move(os.path.join(DATASET_DIRECTORY, \"dataset\", \"train\", class_name), dest_fpath)\n",
        "\n",
        "for class_name in os.listdir(NEW_DATASET_DIRECTORY):\n",
        "  if class_name.isupper():\n",
        "    dest_fpath = os.path.join(DATASET_CAPITAL_DIR, \"validation\", class_name)\n",
        "  elif class_name.islower():\n",
        "    dest_fpath = os.path.join(DATASET_SMALL_DIR, \"validation\", class_name)\n",
        "  elif class_name.isdigit():\n",
        "    dest_fpath = os.path.join(DATASET_DIGIT_DIR, \"validation\", class_name)\n",
        "\n",
        "  os.makedirs(os.path.dirname(dest_fpath), exist_ok=True)\n",
        "  shutil.move(os.path.join(NEW_DATASET_DIRECTORY, class_name), dest_fpath)\n"
      ],
      "metadata": {
        "id": "SVUEpE3DbaQm"
      },
      "execution_count": 6,
      "outputs": []
    },
    {
      "cell_type": "code",
      "source": [
        "# Create dataset for transfer learning\n",
        "DATASET_TRANSFER_LEARNING_SMALL = \"datasetSmallOnlyNew\"\n",
        "DATASET_TRANSFER_LEARNING_CAPITAL = \"datasetCapitalOnlyNew\"\n",
        "DATASET_TRANSFER_LEARNING_DIGIT = \"datasetDigitOnlyNew\"\n",
        "\n",
        "for class_name in os.listdir(NEW_DATASET_DIRECTORY):\n",
        "  if class_name.isupper():\n",
        "    dest_fpath = os.path.join(DATASET_TRANSFER_LEARNING_CAPITAL, \"training\", class_name)\n",
        "  elif class_name.islower():\n",
        "    dest_fpath = os.path.join(DATASET_TRANSFER_LEARNING_SMALL, \"training\", class_name)\n",
        "  elif class_name.isdigit():\n",
        "    dest_fpath = os.path.join(DATASET_TRANSFER_LEARNING_DIGIT, \"training\", class_name)\n",
        "\n",
        "  os.makedirs(os.path.dirname(dest_fpath), exist_ok=True)\n",
        "  shutil.move(os.path.join(NEW_DATASET_DIRECTORY, class_name), dest_fpath)\n"
      ],
      "metadata": {
        "id": "pSU5wHC5-7Gn"
      },
      "execution_count": 7,
      "outputs": []
    },
    {
      "cell_type": "code",
      "source": [
        "def split_char_dataset_into_its_dirs(source_dir, capital_dir, small_dir, digit_dir, subdir=\"training\"):\n",
        "  # TODO: Refactor above cells to use this function instead\n",
        "  for class_name in os.listdir(source_dir):\n",
        "    if class_name.isupper():\n",
        "      dest_fpath = os.path.join(capital_dir, subdir, class_name)\n",
        "    elif class_name.islower():\n",
        "      dest_fpath = os.path.join(small_dir, subdir, class_name)\n",
        "    elif class_name.isdigit():\n",
        "      dest_fpath = os.path.join(digit_dir, subdir, class_name)\n",
        "    print(dest_fpath)\n",
        "    os.makedirs(os.path.dirname(dest_fpath), exist_ok=True)\n",
        "    shutil.move(os.path.join(source_dir, class_name), dest_fpath)"
      ],
      "metadata": {
        "id": "wLkIu96Rx2wu"
      },
      "execution_count": 13,
      "outputs": []
    },
    {
      "cell_type": "code",
      "source": [
        "split_char_dataset_into_its_dirs(\n",
        "    source_dir=VERY_NEW_DATASET_DIRECTORY,\n",
        "    capital_dir=DATASET_TRANSFER_LEARNING_CAPITAL,\n",
        "    small_dir=DATASET_TRANSFER_LEARNING_SMALL,\n",
        "    digit_dir=DATASET_TRANSFER_LEARNING_DIGIT,\n",
        "    subdir=\"training\"\n",
        "    )"
      ],
      "metadata": {
        "colab": {
          "base_uri": "https://localhost:8080/"
        },
        "id": "mhZdrgmIzq4z",
        "outputId": "1e736891-5f4a-479c-bb7d-317114fb3cde"
      },
      "execution_count": 15,
      "outputs": [
        {
          "output_type": "stream",
          "name": "stdout",
          "text": [
            "datasetSmallOnlyNew/training/r\n",
            "datasetSmallOnlyNew/training/b\n",
            "datasetSmallOnlyNew/training/p\n",
            "datasetSmallOnlyNew/training/n\n",
            "datasetDigitOnlyNew/training/7\n",
            "datasetDigitOnlyNew/training/3\n",
            "datasetSmallOnlyNew/training/d\n",
            "datasetDigitOnlyNew/training/1\n",
            "datasetSmallOnlyNew/training/w\n",
            "datasetDigitOnlyNew/training/0\n",
            "datasetSmallOnlyNew/training/u\n",
            "datasetSmallOnlyNew/training/l\n",
            "datasetSmallOnlyNew/training/m\n",
            "datasetDigitOnlyNew/training/8\n",
            "datasetSmallOnlyNew/training/y\n",
            "datasetDigitOnlyNew/training/6\n",
            "datasetSmallOnlyNew/training/z\n",
            "datasetSmallOnlyNew/training/i\n",
            "datasetSmallOnlyNew/training/x\n",
            "datasetSmallOnlyNew/training/k\n",
            "datasetSmallOnlyNew/training/q\n",
            "datasetSmallOnlyNew/training/v\n",
            "datasetSmallOnlyNew/training/c\n",
            "datasetDigitOnlyNew/training/9\n",
            "datasetDigitOnlyNew/training/4\n",
            "datasetDigitOnlyNew/training/2\n",
            "datasetSmallOnlyNew/training/f\n",
            "datasetSmallOnlyNew/training/h\n",
            "datasetSmallOnlyNew/training/s\n",
            "datasetSmallOnlyNew/training/j\n",
            "datasetDigitOnlyNew/training/5\n",
            "datasetSmallOnlyNew/training/t\n",
            "datasetSmallOnlyNew/training/a\n",
            "datasetSmallOnlyNew/training/g\n",
            "datasetSmallOnlyNew/training/e\n",
            "datasetSmallOnlyNew/training/o\n"
          ]
        }
      ]
    },
    {
      "cell_type": "markdown",
      "source": [
        "## Train Set"
      ],
      "metadata": {
        "id": "xM1rh5Rih3U7"
      }
    },
    {
      "cell_type": "code",
      "source": [
        "train_datagen = ImageDataGenerator(\n",
        "    rescale = 1./255,\n",
        "    )\n",
        "\n",
        "train_generator = train_datagen.flow_from_directory(\n",
        "    # TODO: Ganti directory ke dir dataset\n",
        "    directory=os.path.join(DATASET_SMALL_DIR, \"train\"),\n",
        "    target_size=(300, 300),\n",
        "    class_mode='categorical',\n",
        "    batch_size=126,\n",
        "    color_mode='grayscale',\n",
        ")"
      ],
      "metadata": {
        "id": "BiEJ0wHNhd6W",
        "colab": {
          "base_uri": "https://localhost:8080/"
        },
        "outputId": "6b0088c0-8f1f-45d5-a5b4-065062a24630"
      },
      "execution_count": 16,
      "outputs": [
        {
          "output_type": "stream",
          "name": "stdout",
          "text": [
            "Found 111895 images belonging to 26 classes.\n"
          ]
        }
      ]
    },
    {
      "cell_type": "markdown",
      "source": [
        "## Validation Set"
      ],
      "metadata": {
        "id": "okdJEd6Dh9GY"
      }
    },
    {
      "cell_type": "code",
      "source": [
        "validation_datagen = ImageDataGenerator(rescale = 1./255)\n",
        "\n",
        "validation_generator = validation_datagen.flow_from_directory(\n",
        "\t# TODO: Sesuaikan directory\n",
        "\tdirectory=os.path.join(DATASET_SMALL_DIR, \"validation\"),\n",
        "\ttarget_size=(300,300),\n",
        "\tclass_mode='categorical',\n",
        "\tbatch_size=126,\n",
        "\tcolor_mode='grayscale',\n",
        ")"
      ],
      "metadata": {
        "id": "KG9-HnaLhrAX",
        "colab": {
          "base_uri": "https://localhost:8080/"
        },
        "outputId": "f2404e5f-9739-4087-9e52-13038144730f"
      },
      "execution_count": 17,
      "outputs": [
        {
          "output_type": "stream",
          "name": "stdout",
          "text": [
            "Found 26 images belonging to 26 classes.\n"
          ]
        }
      ]
    },
    {
      "cell_type": "markdown",
      "source": [
        "## Test Set"
      ],
      "metadata": {
        "id": "_5rlnXleh-0x"
      }
    },
    {
      "cell_type": "markdown",
      "source": [
        "# Build Model"
      ],
      "metadata": {
        "id": "67qrXw7Tka0k"
      }
    },
    {
      "cell_type": "code",
      "source": [
        "model = tf.keras.models.Sequential([\n",
        "    #input shape is the desired size of the image 300x300 with 3 bytes color\n",
        "    # This is the first convolution\n",
        "    tf.keras.layers.Conv2D(16, (3,3), activation='relu', input_shape=(300, 300, 1)),\n",
        "    tf.keras.layers.MaxPooling2D(2, 2),\n",
        "    # The second convolution\n",
        "    tf.keras.layers.Conv2D(32, (3,3), activation='relu'),\n",
        "    tf.keras.layers.MaxPooling2D(2,2),\n",
        "    # The third convolution\n",
        "    tf.keras.layers.Conv2D(64, (3,3), activation='relu'),\n",
        "    tf.keras.layers.MaxPooling2D(2,2),\n",
        "    # The fourth convolution\n",
        "    tf.keras.layers.Conv2D(64, (3,3), activation='relu'),\n",
        "    tf.keras.layers.MaxPooling2D(2,2),\n",
        "    # The fifth convolution\n",
        "    tf.keras.layers.Conv2D(64, (3,3), activation='relu'),\n",
        "    tf.keras.layers.MaxPooling2D(2,2),\n",
        "    # Flatten the results to feed into a DNN\n",
        "    tf.keras.layers.Flatten(),\n",
        "    # Dropout Layer\n",
        "    tf.keras.layers.Dropout(0.5),\n",
        "    # 512 neuron hidden layer\n",
        "    tf.keras.layers.Dense(512, activation='relu'),\n",
        "    # 62 output neuron.\n",
        "    # TODO: Ganti ke 10 buat digit\n",
        "    tf.keras.layers.Dense(26, activation='softmax')\n",
        "])\n",
        "\n",
        "model.compile(loss='categorical_crossentropy',\n",
        "              optimizer='adam',\n",
        "              metrics=['accuracy'])\n",
        "\n",
        "model.summary()"
      ],
      "metadata": {
        "id": "lRVDyt8skcKN",
        "colab": {
          "base_uri": "https://localhost:8080/"
        },
        "outputId": "d877cf3e-a1d6-49b3-c321-72475c489e3b"
      },
      "execution_count": 18,
      "outputs": [
        {
          "output_type": "stream",
          "name": "stdout",
          "text": [
            "Model: \"sequential\"\n",
            "_________________________________________________________________\n",
            " Layer (type)                Output Shape              Param #   \n",
            "=================================================================\n",
            " conv2d (Conv2D)             (None, 298, 298, 16)      160       \n",
            "                                                                 \n",
            " max_pooling2d (MaxPooling2D  (None, 149, 149, 16)     0         \n",
            " )                                                               \n",
            "                                                                 \n",
            " conv2d_1 (Conv2D)           (None, 147, 147, 32)      4640      \n",
            "                                                                 \n",
            " max_pooling2d_1 (MaxPooling  (None, 73, 73, 32)       0         \n",
            " 2D)                                                             \n",
            "                                                                 \n",
            " conv2d_2 (Conv2D)           (None, 71, 71, 64)        18496     \n",
            "                                                                 \n",
            " max_pooling2d_2 (MaxPooling  (None, 35, 35, 64)       0         \n",
            " 2D)                                                             \n",
            "                                                                 \n",
            " conv2d_3 (Conv2D)           (None, 33, 33, 64)        36928     \n",
            "                                                                 \n",
            " max_pooling2d_3 (MaxPooling  (None, 16, 16, 64)       0         \n",
            " 2D)                                                             \n",
            "                                                                 \n",
            " conv2d_4 (Conv2D)           (None, 14, 14, 64)        36928     \n",
            "                                                                 \n",
            " max_pooling2d_4 (MaxPooling  (None, 7, 7, 64)         0         \n",
            " 2D)                                                             \n",
            "                                                                 \n",
            " flatten (Flatten)           (None, 3136)              0         \n",
            "                                                                 \n",
            " dropout (Dropout)           (None, 3136)              0         \n",
            "                                                                 \n",
            " dense (Dense)               (None, 512)               1606144   \n",
            "                                                                 \n",
            " dense_1 (Dense)             (None, 26)                13338     \n",
            "                                                                 \n",
            "=================================================================\n",
            "Total params: 1,716,634\n",
            "Trainable params: 1,716,634\n",
            "Non-trainable params: 0\n",
            "_________________________________________________________________\n"
          ]
        }
      ]
    },
    {
      "cell_type": "markdown",
      "source": [
        "# Train The Model"
      ],
      "metadata": {
        "id": "6JHGKZNXl6Y5"
      }
    },
    {
      "cell_type": "code",
      "source": [
        "history = model.fit(train_generator, epochs=25, steps_per_epoch=20, validation_data=validation_generator, verbose = 1, validation_steps=1)"
      ],
      "metadata": {
        "id": "66Wg783gl4zp",
        "colab": {
          "base_uri": "https://localhost:8080/"
        },
        "outputId": "4fca2216-672d-4036-86ae-1e7727449ce3"
      },
      "execution_count": 19,
      "outputs": [
        {
          "output_type": "stream",
          "name": "stdout",
          "text": [
            "Epoch 1/25\n",
            "20/20 [==============================] - 25s 378ms/step - loss: 2.6359 - accuracy: 0.2833 - val_loss: 3.7550 - val_accuracy: 0.1154\n",
            "Epoch 2/25\n",
            "20/20 [==============================] - 9s 445ms/step - loss: 1.2361 - accuracy: 0.6599 - val_loss: 3.6645 - val_accuracy: 0.1923\n",
            "Epoch 3/25\n",
            "20/20 [==============================] - 7s 352ms/step - loss: 0.8859 - accuracy: 0.7599 - val_loss: 3.6252 - val_accuracy: 0.2692\n",
            "Epoch 4/25\n",
            "20/20 [==============================] - 10s 502ms/step - loss: 0.6886 - accuracy: 0.8032 - val_loss: 3.6001 - val_accuracy: 0.3077\n",
            "Epoch 5/25\n",
            "20/20 [==============================] - 7s 357ms/step - loss: 0.5864 - accuracy: 0.8294 - val_loss: 3.0444 - val_accuracy: 0.3462\n",
            "Epoch 6/25\n",
            "20/20 [==============================] - 6s 318ms/step - loss: 0.5503 - accuracy: 0.8421 - val_loss: 2.6029 - val_accuracy: 0.4231\n",
            "Epoch 7/25\n",
            "20/20 [==============================] - 8s 384ms/step - loss: 0.5312 - accuracy: 0.8429 - val_loss: 2.4400 - val_accuracy: 0.3077\n",
            "Epoch 8/25\n",
            "20/20 [==============================] - 7s 364ms/step - loss: 0.4824 - accuracy: 0.8605 - val_loss: 2.4514 - val_accuracy: 0.4615\n",
            "Epoch 9/25\n",
            "20/20 [==============================] - 6s 296ms/step - loss: 0.4625 - accuracy: 0.8718 - val_loss: 2.1228 - val_accuracy: 0.4615\n",
            "Epoch 10/25\n",
            "20/20 [==============================] - 7s 362ms/step - loss: 0.4325 - accuracy: 0.8706 - val_loss: 2.1436 - val_accuracy: 0.5000\n",
            "Epoch 11/25\n",
            "20/20 [==============================] - 7s 318ms/step - loss: 0.4405 - accuracy: 0.8687 - val_loss: 1.9177 - val_accuracy: 0.5000\n",
            "Epoch 12/25\n",
            "20/20 [==============================] - 6s 278ms/step - loss: 0.4209 - accuracy: 0.8810 - val_loss: 2.3291 - val_accuracy: 0.5385\n",
            "Epoch 13/25\n",
            "20/20 [==============================] - 7s 341ms/step - loss: 0.4591 - accuracy: 0.8675 - val_loss: 2.1962 - val_accuracy: 0.5385\n",
            "Epoch 14/25\n",
            "20/20 [==============================] - 6s 274ms/step - loss: 0.4089 - accuracy: 0.8774 - val_loss: 1.9655 - val_accuracy: 0.5769\n",
            "Epoch 15/25\n",
            "20/20 [==============================] - 6s 274ms/step - loss: 0.4364 - accuracy: 0.8806 - val_loss: 2.1597 - val_accuracy: 0.5769\n",
            "Epoch 16/25\n",
            "20/20 [==============================] - 6s 313ms/step - loss: 0.3784 - accuracy: 0.8845 - val_loss: 2.0919 - val_accuracy: 0.5000\n",
            "Epoch 17/25\n",
            "20/20 [==============================] - 6s 309ms/step - loss: 0.3933 - accuracy: 0.8817 - val_loss: 1.8080 - val_accuracy: 0.4231\n",
            "Epoch 18/25\n",
            "20/20 [==============================] - 6s 286ms/step - loss: 0.3423 - accuracy: 0.8984 - val_loss: 2.0128 - val_accuracy: 0.5000\n",
            "Epoch 19/25\n",
            "20/20 [==============================] - 6s 292ms/step - loss: 0.4197 - accuracy: 0.8798 - val_loss: 1.7947 - val_accuracy: 0.5000\n",
            "Epoch 20/25\n",
            "20/20 [==============================] - 9s 431ms/step - loss: 0.3590 - accuracy: 0.8925 - val_loss: 1.8786 - val_accuracy: 0.4615\n",
            "Epoch 21/25\n",
            "20/20 [==============================] - 5s 255ms/step - loss: 0.3482 - accuracy: 0.8960 - val_loss: 1.9364 - val_accuracy: 0.4615\n",
            "Epoch 22/25\n",
            "20/20 [==============================] - 10s 511ms/step - loss: 0.3992 - accuracy: 0.8825 - val_loss: 1.9532 - val_accuracy: 0.4615\n",
            "Epoch 23/25\n",
            "20/20 [==============================] - 8s 420ms/step - loss: 0.3162 - accuracy: 0.9008 - val_loss: 2.0689 - val_accuracy: 0.4615\n",
            "Epoch 24/25\n",
            "20/20 [==============================] - 6s 312ms/step - loss: 0.3399 - accuracy: 0.9016 - val_loss: 1.9638 - val_accuracy: 0.5000\n",
            "Epoch 25/25\n",
            "20/20 [==============================] - 8s 372ms/step - loss: 0.3644 - accuracy: 0.8972 - val_loss: 2.0902 - val_accuracy: 0.5000\n"
          ]
        }
      ]
    },
    {
      "cell_type": "markdown",
      "source": [
        "# Evaluate the Results"
      ],
      "metadata": {
        "id": "EWbZGevtmCxc"
      }
    },
    {
      "cell_type": "code",
      "source": [
        "import matplotlib.pyplot as plt\n",
        "\n",
        "# Plot the results\n",
        "acc = history.history['accuracy']\n",
        "val_acc = history.history['val_accuracy']\n",
        "loss = history.history['loss']\n",
        "val_loss = history.history['val_loss']\n",
        "\n",
        "epochs = range(len(acc))\n",
        "\n",
        "plt.plot(epochs, acc, 'r', label='Training accuracy')\n",
        "plt.plot(epochs, val_acc, 'b', label='Validation accuracy')\n",
        "plt.title('Training and validation accuracy')\n",
        "plt.legend(loc=0)\n",
        "plt.figure()\n",
        "\n",
        "plt.show()"
      ],
      "metadata": {
        "id": "qUlV1MObldKO",
        "colab": {
          "base_uri": "https://localhost:8080/",
          "height": 470
        },
        "outputId": "e919e0e9-4ea6-4c4f-a029-a981c166ab17"
      },
      "execution_count": 20,
      "outputs": [
        {
          "output_type": "display_data",
          "data": {
            "text/plain": [
              "<Figure size 640x480 with 1 Axes>"
            ],
            "image/png": "[encoded data removed]"
          },
          "metadata": {}
        },
        {
          "output_type": "display_data",
          "data": {
            "text/plain": [
              "<Figure size 640x480 with 0 Axes>"
            ]
          },
          "metadata": {}
        }
      ]
    },
    {
      "cell_type": "code",
      "source": [],
      "metadata": {
        "id": "yeQjh0fX50pe"
      },
      "execution_count": null,
      "outputs": []
    },
    {
      "cell_type": "markdown",
      "source": [
        "# Transfer learning\n"
      ],
      "metadata": {
        "id": "oGqbeGaT8UiM"
      }
    },
    {
      "cell_type": "code",
      "source": [
        "def cut_model(original_model, cut_index):\n",
        "  # Assuming you have an original model with its weights named \"original_model\"\n",
        "\n",
        "  # Create a new model with the desired layers from the original model\n",
        "  cut_model = tf.keras.Model(inputs=original_model.inputs, outputs=original_model.layers[cut_index].output)\n",
        "\n",
        "  # Copy the weights from the original model to the cut model\n",
        "  for i in range(cut_index):\n",
        "      print(cut_model.layers[i])\n",
        "      print(original_model.layers[i])\n",
        "      cut_model.layers[i].set_weights(original_model.layers[i].get_weights())\n",
        "\n",
        "  return cut_model"
      ],
      "metadata": {
        "id": "7Hum95w_EjOB"
      },
      "execution_count": null,
      "outputs": []
    },
    {
      "cell_type": "code",
      "source": [
        "# Fine tune the last two dense relu layers with the new data\n",
        "\n",
        "# I'm using the same train_datagen, this is fine as long\n",
        "# as the options that I want to use is the same\n",
        "new_data_generator = train_datagen.flow_from_directory(\n",
        "    # TODO: Sesuaikan\n",
        "    directory=os.path.join(DATASET_TRANSFER_LEARNING_SMALL, \"training\"),\n",
        "    target_size=(300, 300),\n",
        "    class_mode='categorical',\n",
        "    batch_size=126,\n",
        "    color_mode='grayscale',\n",
        ")\n",
        "\n",
        "for layer in model.layers:\n",
        "  # TODO: Might be good to set the layer name other than dense\n",
        "  # \"dense\" and \"dense_1\" are the last two layers\n",
        "  if layer.name not in (\n",
        "      \"dense\",\n",
        "      \"dense_1\"):\n",
        "    layer.trainable = False\n",
        "\n",
        "# Start the fine tuning\n",
        "history = model.fit(new_data_generator, epochs=100, steps_per_epoch=4, validation_data=validation_generator, verbose = 1, validation_steps=1)"
      ],
      "metadata": {
        "colab": {
          "base_uri": "https://localhost:8080/"
        },
        "id": "TTBRQTyX8YWb",
        "outputId": "b81f7ddd-6309-4962-9e9e-527f1305bf7e"
      },
      "execution_count": 27,
      "outputs": [
        {
          "output_type": "stream",
          "name": "stdout",
          "text": [
            "Found 511 images belonging to 26 classes.\n",
            "Epoch 1/100\n",
            "4/4 [==============================] - 1s 404ms/step - loss: 0.0092 - accuracy: 0.9948 - val_loss: 2.4033 - val_accuracy: 0.6923\n",
            "Epoch 2/100\n",
            "4/4 [==============================] - 1s 224ms/step - loss: 0.0011 - accuracy: 1.0000 - val_loss: 2.6136 - val_accuracy: 0.6923\n",
            "Epoch 3/100\n",
            "4/4 [==============================] - 1s 254ms/step - loss: 0.0178 - accuracy: 0.9974 - val_loss: 2.6294 - val_accuracy: 0.7308\n",
            "Epoch 4/100\n",
            "4/4 [==============================] - 1s 280ms/step - loss: 0.0077 - accuracy: 0.9974 - val_loss: 2.1672 - val_accuracy: 0.7692\n",
            "Epoch 5/100\n",
            "4/4 [==============================] - 1s 346ms/step - loss: 0.0147 - accuracy: 0.9948 - val_loss: 2.0173 - val_accuracy: 0.7308\n",
            "Epoch 6/100\n",
            "4/4 [==============================] - 1s 249ms/step - loss: 0.0020 - accuracy: 1.0000 - val_loss: 1.9577 - val_accuracy: 0.6923\n",
            "Epoch 7/100\n",
            "4/4 [==============================] - 1s 302ms/step - loss: 0.0023 - accuracy: 1.0000 - val_loss: 1.9333 - val_accuracy: 0.6923\n",
            "Epoch 8/100\n",
            "4/4 [==============================] - 1s 287ms/step - loss: 0.0028 - accuracy: 1.0000 - val_loss: 1.8971 - val_accuracy: 0.6923\n",
            "Epoch 9/100\n",
            "4/4 [==============================] - 2s 420ms/step - loss: 0.0059 - accuracy: 0.9980 - val_loss: 1.8539 - val_accuracy: 0.6923\n",
            "Epoch 10/100\n",
            "4/4 [==============================] - 2s 356ms/step - loss: 5.0583e-04 - accuracy: 1.0000 - val_loss: 1.8810 - val_accuracy: 0.6923\n",
            "Epoch 11/100\n",
            "4/4 [==============================] - 1s 311ms/step - loss: 0.0012 - accuracy: 1.0000 - val_loss: 1.9451 - val_accuracy: 0.6923\n",
            "Epoch 12/100\n",
            "4/4 [==============================] - 1s 244ms/step - loss: 0.0081 - accuracy: 0.9948 - val_loss: 1.8992 - val_accuracy: 0.6923\n",
            "Epoch 13/100\n",
            "4/4 [==============================] - 1s 363ms/step - loss: 0.0059 - accuracy: 0.9974 - val_loss: 1.7995 - val_accuracy: 0.6923\n",
            "Epoch 14/100\n",
            "4/4 [==============================] - 1s 255ms/step - loss: 0.0116 - accuracy: 0.9974 - val_loss: 1.7055 - val_accuracy: 0.6923\n",
            "Epoch 15/100\n",
            "4/4 [==============================] - 1s 250ms/step - loss: 9.1929e-04 - accuracy: 1.0000 - val_loss: 1.5987 - val_accuracy: 0.6923\n",
            "Epoch 16/100\n",
            "4/4 [==============================] - 1s 341ms/step - loss: 4.5062e-05 - accuracy: 1.0000 - val_loss: 1.5368 - val_accuracy: 0.6923\n",
            "Epoch 17/100\n",
            "4/4 [==============================] - 1s 255ms/step - loss: 1.2790e-04 - accuracy: 1.0000 - val_loss: 1.5079 - val_accuracy: 0.6923\n",
            "Epoch 18/100\n",
            "4/4 [==============================] - 1s 361ms/step - loss: 0.0030 - accuracy: 0.9974 - val_loss: 1.4972 - val_accuracy: 0.6923\n",
            "Epoch 19/100\n",
            "4/4 [==============================] - 2s 385ms/step - loss: 2.0503e-04 - accuracy: 1.0000 - val_loss: 1.5081 - val_accuracy: 0.6923\n",
            "Epoch 20/100\n",
            "4/4 [==============================] - 1s 287ms/step - loss: 5.7836e-04 - accuracy: 1.0000 - val_loss: 1.5866 - val_accuracy: 0.6923\n",
            "Epoch 21/100\n",
            "4/4 [==============================] - 1s 224ms/step - loss: 1.8081e-04 - accuracy: 1.0000 - val_loss: 1.6588 - val_accuracy: 0.6923\n",
            "Epoch 22/100\n",
            "4/4 [==============================] - 1s 297ms/step - loss: 0.0068 - accuracy: 0.9980 - val_loss: 1.6981 - val_accuracy: 0.7308\n",
            "Epoch 23/100\n",
            "4/4 [==============================] - 1s 276ms/step - loss: 1.7860e-04 - accuracy: 1.0000 - val_loss: 1.7530 - val_accuracy: 0.7308\n",
            "Epoch 24/100\n",
            "4/4 [==============================] - 1s 270ms/step - loss: 7.9805e-05 - accuracy: 1.0000 - val_loss: 1.7991 - val_accuracy: 0.7308\n",
            "Epoch 25/100\n",
            "4/4 [==============================] - 1s 362ms/step - loss: 2.9553e-04 - accuracy: 1.0000 - val_loss: 1.8311 - val_accuracy: 0.7308\n",
            "Epoch 26/100\n",
            "4/4 [==============================] - 1s 362ms/step - loss: 1.0268e-04 - accuracy: 1.0000 - val_loss: 1.8522 - val_accuracy: 0.7692\n",
            "Epoch 27/100\n",
            "4/4 [==============================] - 1s 369ms/step - loss: 0.0013 - accuracy: 1.0000 - val_loss: 1.8907 - val_accuracy: 0.7692\n",
            "Epoch 28/100\n",
            "4/4 [==============================] - 1s 374ms/step - loss: 0.0100 - accuracy: 0.9974 - val_loss: 1.9441 - val_accuracy: 0.7692\n",
            "Epoch 29/100\n",
            "4/4 [==============================] - 1s 466ms/step - loss: 3.0148e-04 - accuracy: 1.0000 - val_loss: 1.9793 - val_accuracy: 0.7692\n",
            "Epoch 30/100\n",
            "4/4 [==============================] - 1s 336ms/step - loss: 2.8010e-04 - accuracy: 1.0000 - val_loss: 2.0012 - val_accuracy: 0.7692\n",
            "Epoch 31/100\n",
            "4/4 [==============================] - 1s 335ms/step - loss: 0.0075 - accuracy: 0.9974 - val_loss: 1.9878 - val_accuracy: 0.7308\n",
            "Epoch 32/100\n",
            "4/4 [==============================] - 1s 307ms/step - loss: 2.5602e-04 - accuracy: 1.0000 - val_loss: 1.9646 - val_accuracy: 0.7308\n",
            "Epoch 33/100\n",
            "4/4 [==============================] - 1s 365ms/step - loss: 0.0114 - accuracy: 0.9948 - val_loss: 1.9515 - val_accuracy: 0.7308\n",
            "Epoch 34/100\n",
            "4/4 [==============================] - 1s 241ms/step - loss: 0.0045 - accuracy: 0.9974 - val_loss: 1.9668 - val_accuracy: 0.6923\n",
            "Epoch 35/100\n",
            "4/4 [==============================] - 1s 248ms/step - loss: 0.0011 - accuracy: 1.0000 - val_loss: 1.9547 - val_accuracy: 0.6923\n",
            "Epoch 36/100\n",
            "4/4 [==============================] - 1s 275ms/step - loss: 0.0011 - accuracy: 1.0000 - val_loss: 1.9413 - val_accuracy: 0.6923\n",
            "Epoch 37/100\n",
            "4/4 [==============================] - 1s 318ms/step - loss: 0.0086 - accuracy: 0.9974 - val_loss: 1.8344 - val_accuracy: 0.6923\n",
            "Epoch 38/100\n",
            "4/4 [==============================] - 2s 419ms/step - loss: 2.9893e-05 - accuracy: 1.0000 - val_loss: 1.7624 - val_accuracy: 0.6923\n",
            "Epoch 39/100\n",
            "4/4 [==============================] - 1s 243ms/step - loss: 5.8102e-04 - accuracy: 1.0000 - val_loss: 1.7176 - val_accuracy: 0.6923\n",
            "Epoch 40/100\n",
            "4/4 [==============================] - 1s 256ms/step - loss: 0.0107 - accuracy: 0.9974 - val_loss: 1.6531 - val_accuracy: 0.6923\n",
            "Epoch 41/100\n",
            "4/4 [==============================] - 1s 247ms/step - loss: 5.8159e-05 - accuracy: 1.0000 - val_loss: 1.6334 - val_accuracy: 0.7308\n",
            "Epoch 42/100\n",
            "4/4 [==============================] - 1s 270ms/step - loss: 3.4559e-04 - accuracy: 1.0000 - val_loss: 1.6400 - val_accuracy: 0.7308\n",
            "Epoch 43/100\n",
            "4/4 [==============================] - 1s 252ms/step - loss: 3.3321e-04 - accuracy: 1.0000 - val_loss: 1.6639 - val_accuracy: 0.6923\n",
            "Epoch 44/100\n",
            "4/4 [==============================] - 1s 361ms/step - loss: 7.6244e-04 - accuracy: 1.0000 - val_loss: 1.6629 - val_accuracy: 0.6923\n",
            "Epoch 45/100\n",
            "4/4 [==============================] - 1s 302ms/step - loss: 0.0017 - accuracy: 0.9980 - val_loss: 1.6505 - val_accuracy: 0.7308\n",
            "Epoch 46/100\n",
            "4/4 [==============================] - 1s 269ms/step - loss: 0.0022 - accuracy: 0.9974 - val_loss: 1.6721 - val_accuracy: 0.7308\n",
            "Epoch 47/100\n",
            "4/4 [==============================] - 2s 544ms/step - loss: 1.0118e-04 - accuracy: 1.0000 - val_loss: 1.7209 - val_accuracy: 0.7308\n",
            "Epoch 48/100\n",
            "4/4 [==============================] - 1s 313ms/step - loss: 3.3480e-04 - accuracy: 1.0000 - val_loss: 1.8917 - val_accuracy: 0.6923\n",
            "Epoch 49/100\n",
            "4/4 [==============================] - 1s 304ms/step - loss: 0.0021 - accuracy: 0.9980 - val_loss: 2.0894 - val_accuracy: 0.6923\n",
            "Epoch 50/100\n",
            "4/4 [==============================] - 1s 342ms/step - loss: 0.0079 - accuracy: 0.9974 - val_loss: 2.0734 - val_accuracy: 0.6923\n",
            "Epoch 51/100\n",
            "4/4 [==============================] - 1s 257ms/step - loss: 3.7416e-04 - accuracy: 1.0000 - val_loss: 1.9499 - val_accuracy: 0.6923\n",
            "Epoch 52/100\n",
            "4/4 [==============================] - 1s 364ms/step - loss: 0.0041 - accuracy: 0.9974 - val_loss: 1.8525 - val_accuracy: 0.6923\n",
            "Epoch 53/100\n",
            "4/4 [==============================] - 1s 358ms/step - loss: 8.7191e-05 - accuracy: 1.0000 - val_loss: 1.7608 - val_accuracy: 0.6923\n",
            "Epoch 54/100\n",
            "4/4 [==============================] - 1s 339ms/step - loss: 1.9360e-05 - accuracy: 1.0000 - val_loss: 1.7070 - val_accuracy: 0.6538\n",
            "Epoch 55/100\n",
            "4/4 [==============================] - 1s 299ms/step - loss: 8.5431e-05 - accuracy: 1.0000 - val_loss: 1.6784 - val_accuracy: 0.6538\n",
            "Epoch 56/100\n",
            "4/4 [==============================] - 1s 305ms/step - loss: 0.0020 - accuracy: 1.0000 - val_loss: 1.6711 - val_accuracy: 0.6538\n",
            "Epoch 57/100\n",
            "4/4 [==============================] - 1s 334ms/step - loss: 4.5756e-04 - accuracy: 1.0000 - val_loss: 1.6757 - val_accuracy: 0.6538\n",
            "Epoch 58/100\n",
            "4/4 [==============================] - 2s 367ms/step - loss: 1.9791e-04 - accuracy: 1.0000 - val_loss: 1.6920 - val_accuracy: 0.6923\n",
            "Epoch 59/100\n",
            "4/4 [==============================] - 1s 304ms/step - loss: 2.1472e-04 - accuracy: 1.0000 - val_loss: 1.7046 - val_accuracy: 0.6923\n",
            "Epoch 60/100\n",
            "4/4 [==============================] - 1s 276ms/step - loss: 3.3684e-04 - accuracy: 1.0000 - val_loss: 1.7156 - val_accuracy: 0.6923\n",
            "Epoch 61/100\n",
            "4/4 [==============================] - 1s 274ms/step - loss: 5.8877e-05 - accuracy: 1.0000 - val_loss: 1.7281 - val_accuracy: 0.7308\n",
            "Epoch 62/100\n",
            "4/4 [==============================] - 1s 247ms/step - loss: 1.3031e-04 - accuracy: 1.0000 - val_loss: 1.7372 - val_accuracy: 0.7308\n",
            "Epoch 63/100\n",
            "4/4 [==============================] - 1s 361ms/step - loss: 1.9367e-04 - accuracy: 1.0000 - val_loss: 1.7448 - val_accuracy: 0.7308\n",
            "Epoch 64/100\n",
            "4/4 [==============================] - 1s 275ms/step - loss: 1.1422e-04 - accuracy: 1.0000 - val_loss: 1.7501 - val_accuracy: 0.7308\n",
            "Epoch 65/100\n",
            "4/4 [==============================] - 1s 275ms/step - loss: 5.5630e-05 - accuracy: 1.0000 - val_loss: 1.7545 - val_accuracy: 0.7308\n",
            "Epoch 66/100\n",
            "4/4 [==============================] - 1s 358ms/step - loss: 3.8970e-05 - accuracy: 1.0000 - val_loss: 1.7580 - val_accuracy: 0.7308\n",
            "Epoch 67/100\n",
            "4/4 [==============================] - 1s 328ms/step - loss: 1.7777e-04 - accuracy: 1.0000 - val_loss: 1.7605 - val_accuracy: 0.7308\n",
            "Epoch 68/100\n",
            "4/4 [==============================] - 2s 434ms/step - loss: 3.6779e-05 - accuracy: 1.0000 - val_loss: 1.7624 - val_accuracy: 0.7308\n",
            "Epoch 69/100\n",
            "4/4 [==============================] - 1s 372ms/step - loss: 1.3131e-05 - accuracy: 1.0000 - val_loss: 1.7639 - val_accuracy: 0.6923\n",
            "Epoch 70/100\n",
            "4/4 [==============================] - 1s 300ms/step - loss: 2.7218e-05 - accuracy: 1.0000 - val_loss: 1.7657 - val_accuracy: 0.6923\n",
            "Epoch 71/100\n",
            "4/4 [==============================] - 1s 218ms/step - loss: 1.9254e-04 - accuracy: 1.0000 - val_loss: 1.7685 - val_accuracy: 0.6923\n",
            "Epoch 72/100\n",
            "4/4 [==============================] - 1s 277ms/step - loss: 7.9672e-05 - accuracy: 1.0000 - val_loss: 1.7719 - val_accuracy: 0.6923\n",
            "Epoch 73/100\n",
            "4/4 [==============================] - 2s 475ms/step - loss: 6.3923e-05 - accuracy: 1.0000 - val_loss: 1.7749 - val_accuracy: 0.6923\n",
            "Epoch 74/100\n",
            "4/4 [==============================] - 2s 550ms/step - loss: 1.1687e-04 - accuracy: 1.0000 - val_loss: 1.7801 - val_accuracy: 0.6923\n",
            "Epoch 75/100\n",
            "4/4 [==============================] - 3s 891ms/step - loss: 2.9403e-05 - accuracy: 1.0000 - val_loss: 1.7882 - val_accuracy: 0.6923\n",
            "Epoch 76/100\n",
            "4/4 [==============================] - 2s 333ms/step - loss: 2.1219e-05 - accuracy: 1.0000 - val_loss: 1.7941 - val_accuracy: 0.6923\n",
            "Epoch 77/100\n",
            "4/4 [==============================] - 1s 260ms/step - loss: 1.2688e-05 - accuracy: 1.0000 - val_loss: 1.7984 - val_accuracy: 0.6923\n",
            "Epoch 78/100\n",
            "4/4 [==============================] - 2s 350ms/step - loss: 2.6602e-05 - accuracy: 1.0000 - val_loss: 1.8015 - val_accuracy: 0.6923\n",
            "Epoch 79/100\n",
            "4/4 [==============================] - 1s 257ms/step - loss: 1.5177e-04 - accuracy: 1.0000 - val_loss: 1.8049 - val_accuracy: 0.6923\n",
            "Epoch 80/100\n",
            "4/4 [==============================] - 1s 324ms/step - loss: 9.8820e-04 - accuracy: 1.0000 - val_loss: 1.7903 - val_accuracy: 0.6923\n",
            "Epoch 81/100\n",
            "4/4 [==============================] - 1s 301ms/step - loss: 6.6317e-04 - accuracy: 1.0000 - val_loss: 1.7816 - val_accuracy: 0.6923\n",
            "Epoch 82/100\n",
            "4/4 [==============================] - 2s 372ms/step - loss: 2.8765e-05 - accuracy: 1.0000 - val_loss: 1.7778 - val_accuracy: 0.6923\n",
            "Epoch 83/100\n",
            "4/4 [==============================] - 2s 362ms/step - loss: 2.4667e-05 - accuracy: 1.0000 - val_loss: 1.7758 - val_accuracy: 0.6923\n",
            "Epoch 84/100\n",
            "4/4 [==============================] - 1s 278ms/step - loss: 5.1609e-05 - accuracy: 1.0000 - val_loss: 1.7749 - val_accuracy: 0.6923\n",
            "Epoch 85/100\n",
            "4/4 [==============================] - 1s 277ms/step - loss: 5.2703e-05 - accuracy: 1.0000 - val_loss: 1.7757 - val_accuracy: 0.6923\n",
            "Epoch 86/100\n",
            "4/4 [==============================] - 1s 247ms/step - loss: 2.2057e-04 - accuracy: 1.0000 - val_loss: 1.7790 - val_accuracy: 0.6923\n",
            "Epoch 87/100\n",
            "4/4 [==============================] - 1s 339ms/step - loss: 4.0270e-05 - accuracy: 1.0000 - val_loss: 1.7822 - val_accuracy: 0.6923\n",
            "Epoch 88/100\n",
            "4/4 [==============================] - 1s 275ms/step - loss: 1.5547e-05 - accuracy: 1.0000 - val_loss: 1.7848 - val_accuracy: 0.6923\n",
            "Epoch 89/100\n",
            "4/4 [==============================] - 1s 231ms/step - loss: 1.1115e-05 - accuracy: 1.0000 - val_loss: 1.7868 - val_accuracy: 0.6923\n",
            "Epoch 90/100\n",
            "4/4 [==============================] - 1s 280ms/step - loss: 1.6132e-05 - accuracy: 1.0000 - val_loss: 1.7882 - val_accuracy: 0.6923\n",
            "Epoch 91/100\n",
            "4/4 [==============================] - 1s 302ms/step - loss: 2.0866e-05 - accuracy: 1.0000 - val_loss: 1.7894 - val_accuracy: 0.6923\n",
            "Epoch 92/100\n",
            "4/4 [==============================] - 2s 379ms/step - loss: 7.1533e-05 - accuracy: 1.0000 - val_loss: 1.7926 - val_accuracy: 0.6923\n",
            "Epoch 93/100\n",
            "4/4 [==============================] - 2s 396ms/step - loss: 1.6859e-04 - accuracy: 1.0000 - val_loss: 1.7962 - val_accuracy: 0.6923\n",
            "Epoch 94/100\n",
            "4/4 [==============================] - 1s 301ms/step - loss: 2.9602e-05 - accuracy: 1.0000 - val_loss: 1.7987 - val_accuracy: 0.6923\n",
            "Epoch 95/100\n",
            "4/4 [==============================] - 1s 276ms/step - loss: 5.3601e-06 - accuracy: 1.0000 - val_loss: 1.8001 - val_accuracy: 0.6923\n",
            "Epoch 96/100\n",
            "4/4 [==============================] - 1s 260ms/step - loss: 3.3676e-05 - accuracy: 1.0000 - val_loss: 1.8012 - val_accuracy: 0.6923\n",
            "Epoch 97/100\n",
            "4/4 [==============================] - 1s 363ms/step - loss: 1.0158e-05 - accuracy: 1.0000 - val_loss: 1.8023 - val_accuracy: 0.6923\n",
            "Epoch 98/100\n",
            "4/4 [==============================] - 1s 250ms/step - loss: 6.3523e-06 - accuracy: 1.0000 - val_loss: 1.8029 - val_accuracy: 0.6923\n",
            "Epoch 99/100\n",
            "4/4 [==============================] - 1s 362ms/step - loss: 5.5165e-04 - accuracy: 1.0000 - val_loss: 1.7999 - val_accuracy: 0.6923\n",
            "Epoch 100/100\n",
            "4/4 [==============================] - 1s 307ms/step - loss: 1.1099e-04 - accuracy: 1.0000 - val_loss: 1.7988 - val_accuracy: 0.6923\n"
          ]
        }
      ]
    },
    {
      "cell_type": "code",
      "source": [
        "loss, accuracy = model.evaluate(validation_generator)\n",
        "print(\"loss\", loss)\n",
        "print(\"accuracy\", accuracy)"
      ],
      "metadata": {
        "colab": {
          "base_uri": "https://localhost:8080/"
        },
        "id": "FAQBNU_MBCyf",
        "outputId": "3541c0e7-4b68-4062-b14c-f47230efc47d"
      },
      "execution_count": 31,
      "outputs": [
        {
          "output_type": "stream",
          "name": "stdout",
          "text": [
            "1/1 [==============================] - 0s 85ms/step - loss: 1.7988 - accuracy: 0.6923\n",
            "loss 1.7987515926361084\n",
            "accuracy 0.692307710647583\n"
          ]
        }
      ]
    },
    {
      "cell_type": "code",
      "source": [
        "# Deploy\n",
        "\n",
        "# Ubah nama saved weights & tflite\n",
        "# Jangan lupa download tflitenya\n",
        "model.save_weights(\"small_char.h5\")\n",
        "model.save(\"small_char_model\")\n",
        "\n",
        "converter = tf.lite.TFLiteConverter.from_saved_model(\"small_char_model\")\n",
        "tflite_model = converter.convert()\n",
        "\n",
        "with open(\"small_char.tflite\", \"wb\") as f:\n",
        "  f.write(tflite_model)"
      ],
      "metadata": {
        "id": "9-oqFjUvDJz4",
        "colab": {
          "base_uri": "https://localhost:8080/"
        },
        "outputId": "dde2d1c9-3bbe-428f-e4c1-7a9573217279"
      },
      "execution_count": 33,
      "outputs": [
        {
          "output_type": "stream",
          "name": "stderr",
          "text": [
            "WARNING:absl:Found untraced functions such as _jit_compiled_convolution_op, _jit_compiled_convolution_op, _jit_compiled_convolution_op, _jit_compiled_convolution_op, _jit_compiled_convolution_op while saving (showing 5 of 5). These functions will not be directly callable after loading.\n"
          ]
        }
      ]
    },
    {
      "cell_type": "code",
      "source": [],
      "metadata": {
        "id": "GMWSg0tk7ajV"
      },
      "execution_count": null,
      "outputs": []
    }
  ]
}